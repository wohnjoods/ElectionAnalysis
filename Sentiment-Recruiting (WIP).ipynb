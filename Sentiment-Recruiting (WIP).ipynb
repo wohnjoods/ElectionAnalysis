{
 "cells": [
  {
   "cell_type": "markdown",
   "metadata": {},
   "source": [
    "# Sentiment Analysis "
   ]
  },
  {
   "cell_type": "code",
   "execution_count": 148,
   "metadata": {},
   "outputs": [],
   "source": [
    "from __future__ import print_function\n",
    "import sys\n",
    "import csv\n",
    "import numpy as np\n",
    "from numpy import exp, array, random, dot\n",
    "import pandas as pd\n",
    "import nltk\n",
    "import spacy\n",
    "import tensorflow as tf\n",
    "import sklearn\n",
    "from sklearn.model_selection import StratifiedKFold\n",
    "import en_core_web_sm\n",
    "import vaderSentiment\n",
    "from gensim.models import KeyedVectors\n",
    "import keras\n",
    "from keras import layers\n",
    "from keras import backend as K\n",
    "from keras.preprocessing.sequence import pad_sequences \n",
    "from keras.models import Sequential\n",
    "from keras.layers import Dense\n",
    "from keras.models import model_from_json\n",
    "from keras_tqdm import TQDMNotebookCallback\n",
    "from IPython import display\n",
    "from keras.preprocessing.sequence import pad_sequences \n",
    "from vaderSentiment.vaderSentiment import SentimentIntensityAnalyzer\n",
    "from collections import Counter\n",
    "import numpy as np\n",
    "import fastText\n",
    "import h5py\n",
    "sid = SentimentIntensityAnalyzer()"
   ]
  },
  {
   "cell_type": "markdown",
   "metadata": {},
   "source": [
    "The identification of sentiment in text is an important field of study, it usually involves detecting whether a piece of text expresses a POSITIVE, a NEGATIVE, or a NEUTRAL sentiment; the sentiment can be general or about a specific topic, e.g., a person, a product, or an event.\n",
    "\n",
    "Sentiment analysis has been part of the international workshop on Semantic Evaluation ([SemEval](https://en.wikipedia.org/wiki/SemEval)) for multiple years ([2016](http://anthology.aclweb.org/S/S16/S16-1001.pdf), [2017](http://www.aclweb.org/anthology/S17-2088)).\n",
    "\n",
    "You task is to implement a neural network that predicts sentiment (POSITIVE, NEGATIVE, NEUTRAL) for a given text.\n",
    "\n",
    "In the following sections, we provide the dataset preperation, a basic model, training and evaluation.\n"
   ]
  },
  {
   "cell_type": "markdown",
   "metadata": {},
   "source": [
    "## Dataset"
   ]
  },
  {
   "cell_type": "markdown",
   "metadata": {},
   "source": [
    "We include only reviews with 1,3 and 5 star ratings, where: \n",
    "* 1 is considered negative\n",
    "* 3 is considered neutral\n",
    "* 5 is considered positive\n",
    "\n",
    "All reviews with rating 2,4 are not included in our dataset.\n"
   ]
  },
  {
   "cell_type": "markdown",
   "metadata": {},
   "source": [
    "### Loading the data"
   ]
  },
  {
   "cell_type": "code",
   "execution_count": 242,
   "metadata": {},
   "outputs": [
    {
     "name": "stdout",
     "output_type": "stream",
     "text": [
      "Counter({1: 3697, 3: 3697, 5: 3697})\n"
     ]
    }
   ],
   "source": [
    "#Create df with only 1,3,5 ; convert 2,4 to 1,5\n",
    "#dfTest =pd.read_csv(\"tweetTrainingContext.csv\", header=None)\n",
    "#dfTest.drop(0, axis=1, inplace=True)\n",
    "#dfTest = dfTest[dfTest[2] != 1]\n",
    "#dfTest = dfTest[dfTest[2] != -1]\n",
    "#dfTest.loc[dfTest[2] == 2, 2] = 5\n",
    "#dfTest.loc[dfTest[2] == 1, 2] = 5\n",
    "#dfTest.loc[dfTest[2] == -2, 2] = 1\n",
    "#dfTest.loc[dfTest[2] == -1, 2] = 1\n",
    "#dfTest.loc[dfTest[2] == 0, 2] = 3\n",
    "##dfTest[2].sample(n=43, replace=True, random_state=1)\n",
    "#print (Counter(dfTest[2]))\n",
    "#dfTest.columns=['subject','label','body']\n",
    "#dfTest.to_csv(\"tweetTrainingContextFilter2.csv\")\n",
    "\n",
    "#LOAD TRAINING DATA\n",
    "#spread of data\n",
    "#{3: 12993, 5: 1020, 1: 299})|\n",
    "#dfTrain = pd.read_csv(\"tweetTrainingContextFilter.csv\")\n",
    "#Show dfTrain dist.\n",
    "#dfTrain\n",
    "#print (Counter(dfTrain['label']))\n",
    "\n",
    "#Recreate df after downsampling\n",
    "dfTrain = pd.read_csv(\"tweetTrainingContextFilter2.csv\")\n",
    "df3= dfTrain[dfTrain.label == 3]\n",
    "df3=df3[:3697]\n",
    "df1=dfTrain[dfTrain.label == 1]\n",
    "df5=dfTrain[dfTrain.label == 5]\n",
    "df5=df5[:3697]\n",
    "dfTrain = df1.append(df3, ignore_index=True)\n",
    "dfTrain= dfTrain.append(df5, ignore_index=True)\n",
    "print (Counter(dfTrain['label']))"
   ]
  },
  {
   "cell_type": "markdown",
   "metadata": {},
   "source": [
    "The number of reviews is originally not equally distributed among the ratings, so we downsampled the reviews so that there is the same number for each rating. The discarded reviews are picked at random."
   ]
  },
  {
   "cell_type": "markdown",
   "metadata": {},
   "source": [
    "### Word Embeddings and Features"
   ]
  },
  {
   "cell_type": "markdown",
   "metadata": {},
   "source": [
    "To convert text to vector space, we use [word embeddings](https://en.wikipedia.org/wiki/Word_embedding) where words from the vocabulary are mapped to vectors of real numbers.\n",
    "\n",
    "Multiple versions of the word embeddings have already been implemented, we use Facebook's [FastText](https://research.fb.com/fasttext/) library.\n",
    "\n",
    "We trained our word embeddings on English wikipedia."
   ]
  },
  {
   "cell_type": "code",
   "execution_count": 243,
   "metadata": {},
   "outputs": [],
   "source": [
    "#load and save vector in quick load format\n",
    "#en_model = KeyedVectors.load_word2vec_format(\"wiki-news-300d-1M.vec\")\n",
    "#en_model.save(\"wikiModel\")\n",
    "\n",
    "#RUN THIS: Load Models\n",
    "twitterModel = KeyedVectors.load(\"twitterModel_1000000\")\n",
    "wikiModel = KeyedVectors.load(\"wikiModel\")\n",
    "#Prove model is loaded\n",
    "#words = []\n",
    "\n",
    "#for word in wikiModel.vocab:\n",
    "#    words.append(word)\n",
    "\n",
    "#number of words in vector\n",
    "#print(\"Number of Tokens: {}\".format(len(words)))\n",
    "\n",
    "# Printing out the dimension of a word vector \n",
    "#print(\"Dimension of a word vector: {}\".format(\n",
    "\n",
    "#    len(wikiModel[words[0]])\n",
    "\n",
    "#))\n",
    "\n",
    "# Print out the vector of a word \n",
    "#print(\"Vector components of a word: {}\".format(\n",
    "\n",
    "#    wikiModel[words[0]]\n",
    "\n",
    "#))\n",
    "\n",
    "# Finding out similar words [default= top 10]\n",
    "#find_similar_to = 'Clinton'\n",
    "#for similar_word in wikiModel.similar_by_word(find_similar_to):\n",
    "\n",
    "#    print(\"Word: {0}, Similarity: {1:.2f}\".format(\n",
    "\n",
    "#        similar_word[0], similar_word[1]\n",
    "\n",
    "#    ))\n",
    "#for similar_word in twitterModel.similar_by_word(find_similar_to):\n",
    "\n",
    "#    print(\"Word: {0}, Similarity: {1:.2f}\".format(\n",
    "\n",
    "#        similar_word[0], similar_word[1]\n",
    "\n",
    "#    ))\n",
    "\n"
   ]
  },
  {
   "cell_type": "code",
   "execution_count": 244,
   "metadata": {},
   "outputs": [
    {
     "name": "stdout",
     "output_type": "stream",
     "text": [
      "42244 unique tokens in the vocabulary\n"
     ]
    }
   ],
   "source": [
    "#CHANGED sequence length from 100 to 50\n",
    "MAX_SEQUENCE_LENGTH = 40\n",
    "#EMBEDDING_DIM = wikiModel.dim\n",
    "#dimension of wikiModel\n",
    "EMBEDDING_DIM = 300\n",
    "#print(EMBEDDING_DIM)\n",
    "\n",
    "#Consider creating vocabulary from wiki\n",
    "vocabulary = dict()\n",
    "inverse_vocabulary = ['PADDING']\n",
    "sequences = []\n",
    "for text in dfTrain.body:\n",
    "    text = text.split()\n",
    "    text_sequence = []\n",
    "    for word in text:\n",
    "        if word not in vocabulary:\n",
    "            vocabulary[word] = len(inverse_vocabulary)\n",
    "            text_sequence.append(len(inverse_vocabulary))\n",
    "            inverse_vocabulary.append(word)\n",
    "        else:\n",
    "            text_sequence.append(vocabulary[word])\n",
    "    sequences.append(text_sequence)\n",
    "print(\"%d unique tokens in the vocabulary\" %len(vocabulary))\n",
    "\n",
    "bodies_seq = pad_sequences(sequences, maxlen=MAX_SEQUENCE_LENGTH)"
   ]
  },
  {
   "cell_type": "code",
   "execution_count": 245,
   "metadata": {},
   "outputs": [],
   "source": [
    "#consider doing more text cleaning\n",
    "import re\n",
    "def clean_text(text):\n",
    "    '''Clean text by removing unnecessary characters and altering the format of words.'''\n",
    "\n",
    "    text = text.lower()\n",
    "    \n",
    "    text = re.sub(r\"\\n\", \"\",  text)\n",
    "    text = re.sub(r\"[-()]\", \"\", text)\n",
    "    text = re.sub(r\"\\.\", \" .\", text)\n",
    "    text = re.sub(r\"\\!\", \" !\", text)\n",
    "    text = re.sub(r\"\\?\", \" ?\", text)\n",
    "    text = re.sub(r\"\\,\", \" ,\", text)\n",
    "    text = re.sub(r\"i'm\", \"i am\", text)\n",
    "    text = re.sub(r\"he's\", \"he is\", text)\n",
    "    text = re.sub(r\"she's\", \"she is\", text)\n",
    "    text = re.sub(r\"it's\", \"it is\", text)\n",
    "    text = re.sub(r\"that's\", \"that is\", text)\n",
    "    text = re.sub(r\"what's\", \"that is\", text)\n",
    "    text = re.sub(r\"\\'ll\", \" will\", text)\n",
    "    text = re.sub(r\"\\'re\", \" are\", text)\n",
    "    text = re.sub(r\"won't\", \"will not\", text)\n",
    "    text = re.sub(r\"can't\", \"cannot\", text)\n",
    "    text = re.sub(r\"n't\", \" not\", text)\n",
    "    text = re.sub(r\"n'\", \"ng\", text)\n",
    "    text = re.sub(r\"ohh\", \"oh\", text)\n",
    "    text = re.sub(r\"ohhh\", \"oh\", text)\n",
    "    text = re.sub(r\"ohhhh\", \"oh\", text)\n",
    "    text = re.sub(r\"ohhhhh\", \"oh\", text)\n",
    "    text = re.sub(r\"ohhhhhh\", \"oh\", text)\n",
    "    text = re.sub(r\"ahh\", \"ah\", text)\n",
    "    \n",
    "    return text"
   ]
  },
  {
   "cell_type": "code",
   "execution_count": 246,
   "metadata": {},
   "outputs": [
    {
     "name": "stdout",
     "output_type": "stream",
     "text": [
      "29565 unique tokens in the vocabulary\n"
     ]
    }
   ],
   "source": [
    "#clean training text\n",
    "bodies2 = []\n",
    "for line in dfTrain.body:\n",
    "    bodies2.append(clean_text(line))\n",
    "bodies=bodies2\n",
    "\n",
    "#gets unique tokens after cleaning text\n",
    "vocabulary = dict()\n",
    "inverse_vocabulary = ['PADDING']\n",
    "sequences = []\n",
    "for text in bodies:\n",
    "    text = text.split()\n",
    "    text_sequence = []\n",
    "    for word in text:\n",
    "        if word not in vocabulary:\n",
    "            vocabulary[word] = len(inverse_vocabulary)\n",
    "            text_sequence.append(len(inverse_vocabulary))\n",
    "            inverse_vocabulary.append(word)\n",
    "        else:\n",
    "            text_sequence.append(vocabulary[word])\n",
    "    sequences.append(text_sequence)\n",
    "print(\"%d unique tokens in the vocabulary\" %len(vocabulary))\n",
    "\n",
    "bodies_seq = pad_sequences(sequences, maxlen=MAX_SEQUENCE_LENGTH)\n",
    "\n",
    "#INdex of words padded to 200 words\n",
    "#print(bodies_seq[:2])"
   ]
  },
  {
   "cell_type": "markdown",
   "metadata": {},
   "source": [
    "### Splitting into Train/Val/Test Sets"
   ]
  },
  {
   "cell_type": "markdown",
   "metadata": {},
   "source": [
    "Split the dataset into 3 sets: train, validation and test.\n",
    "\n",
    "We use ```sklearn.model_selection.train_test_split``` twice. First to split to train, val and then split val again into val and test. "
   ]
  },
  {
   "cell_type": "code",
   "execution_count": 247,
   "metadata": {
    "scrolled": false
   },
   "outputs": [
    {
     "name": "stdout",
     "output_type": "stream",
     "text": [
      "Train: 9427 examples\n",
      "Counter({5: 3172, 1: 3144, 3: 3111})\n",
      "Val: 1331 examples\n",
      "Counter({3: 468, 1: 441, 5: 422})\n",
      "Test: 333 examples\n",
      "Counter({3: 118, 1: 112, 5: 103})\n"
     ]
    }
   ],
   "source": [
    "from sklearn.model_selection import train_test_split\n",
    "\n",
    "data = {\n",
    "    'train': {},\n",
    "    'val': {},\n",
    "    'test': {},\n",
    "}\n",
    "\n",
    "(data['train']['text'],\n",
    " data['val']['text'],\n",
    " data['train']['y'],\n",
    " data['val']['y']\n",
    ") = train_test_split(bodies_seq, dfTrain.label, test_size=0.15)\n",
    "\n",
    "(data['val']['text'],\n",
    " data['test']['text'],\n",
    " data['val']['y'],\n",
    " data['test']['y']\n",
    ") = train_test_split(data['val']['text'], data['val']['y'], test_size=0.2)\n",
    "print('Train: {} examples'.format(len(data['train']['y'])))\n",
    "print (Counter(data['train']['y']))\n",
    "print('Val: {} examples'.format(len(data['val']['y'])))\n",
    "print (Counter(data['val']['y']))\n",
    "print('Test: {} examples'.format(len(data['test']['y'])))\n",
    "print (Counter(data['test']['y']))\n",
    "#data['val']['y']"
   ]
  },
  {
   "cell_type": "markdown",
   "metadata": {},
   "source": [
    "## Neural Network"
   ]
  },
  {
   "cell_type": "markdown",
   "metadata": {},
   "source": [
    "### The Embedding layer"
   ]
  },
  {
   "cell_type": "markdown",
   "metadata": {},
   "source": [
    "Prepare an \"embedding matrix\" which will contain at index i the embedding vector for the word of index i in our word index."
   ]
  },
  {
   "cell_type": "code",
   "execution_count": 248,
   "metadata": {},
   "outputs": [],
   "source": [
    "embedding_matrix = np.zeros((len(vocabulary) + 1, EMBEDDING_DIM)) \n",
    "for word, i in vocabulary.items():\n",
    "    if word in wikiModel:\n",
    "        embedding_matrix[i] = wikiModel[word]\n",
    "\n",
    "#print(MAX_SEQUENCE_LENGTH)\n",
    "#print(EMBEDDING_DIM)"
   ]
  },
  {
   "cell_type": "markdown",
   "metadata": {},
   "source": [
    "### Model Definition"
   ]
  },
  {
   "cell_type": "code",
   "execution_count": 249,
   "metadata": {},
   "outputs": [],
   "source": [
    "#schema for basic keras nn model\n",
    "class BaselineModel(keras.models.Model):\n",
    "    \n",
    "    def __init__(self):\n",
    "        input_layer = layers.Input(\n",
    "            shape=(MAX_SEQUENCE_LENGTH,),\n",
    "            name='Input'\n",
    "        )\n",
    "        embedding_layer = layers.Embedding(len(vocabulary) + 1,\n",
    "                            EMBEDDING_DIM,\n",
    "                            weights=[embedding_matrix],\n",
    "                            input_length=MAX_SEQUENCE_LENGTH,\n",
    "                            name='Embedding',\n",
    "                            trainable=False)(input_layer)\n",
    "            \n",
    "        fc_layer = layers.Dense(\n",
    "            units=100,\n",
    "            name='FullyConnected'\n",
    "        )(embedding_layer)\n",
    "        \n",
    "        fc_layer  = layers.Flatten(name=\"Flatten\")(fc_layer)\n",
    "        \n",
    "        predictions = layers.Dense(\n",
    "            6,\n",
    "            name='Output'\n",
    "        )(fc_layer)\n",
    "        \n",
    "        super().__init__(inputs=[input_layer], outputs=predictions)\n",
    "        \n",
    "    def compile(self):\n",
    "        return super().compile(\n",
    "            optimizer=keras.optimizers.Adam(lr=0.001),\n",
    "            loss='mse'\n",
    "        )\n",
    "    \n"
   ]
  },
  {
   "cell_type": "code",
   "execution_count": 250,
   "metadata": {},
   "outputs": [],
   "source": [
    "#compile model\n",
    "model = BaselineModel()\n",
    "model.compile()\n",
    "\n",
    "#train model method\n",
    "from keras.callbacks import History \n",
    "def train_model(model, data1, data2, data3, data4):\n",
    "    history = model.fit(\n",
    "    [data['train']['text']],\n",
    "    keras.utils.to_categorical(data['train']['y'],0),\n",
    "    epochs=10,\n",
    "    verbose=0,\n",
    "    callbacks=[\n",
    "        TQDMNotebookCallback(\n",
    "            leave_inner=True,\n",
    "        )\n",
    "    ],\n",
    "    validation_data=(\n",
    "        [data['val']['text']],\n",
    "        keras.utils.to_categorical(data['val']['y'],0)\n",
    "    ),\n",
    "    batch_size=128\n",
    "    )"
   ]
  },
  {
   "cell_type": "markdown",
   "metadata": {},
   "source": [
    "### Model Training"
   ]
  },
  {
   "cell_type": "code",
   "execution_count": 251,
   "metadata": {},
   "outputs": [
    {
     "data": {
      "application/vnd.jupyter.widget-view+json": {
       "model_id": "6934c40b388a47288eb549c4ceed7ee6",
       "version_major": 2,
       "version_minor": 0
      },
      "text/plain": [
       "HBox(children=(IntProgress(value=0, description='Training', max=10, style=ProgressStyle(description_width='ini…"
      ]
     },
     "metadata": {},
     "output_type": "display_data"
    },
    {
     "data": {
      "application/vnd.jupyter.widget-view+json": {
       "model_id": "924e36e3351b4772aa7180265af175f8",
       "version_major": 2,
       "version_minor": 0
      },
      "text/plain": [
       "HBox(children=(IntProgress(value=0, description='Epoch 0', max=9427, style=ProgressStyle(description_width='in…"
      ]
     },
     "metadata": {},
     "output_type": "display_data"
    },
    {
     "data": {
      "application/vnd.jupyter.widget-view+json": {
       "model_id": "f674f5e382bb49fcb78c9a40e6697c33",
       "version_major": 2,
       "version_minor": 0
      },
      "text/plain": [
       "HBox(children=(IntProgress(value=0, description='Epoch 1', max=9427, style=ProgressStyle(description_width='in…"
      ]
     },
     "metadata": {},
     "output_type": "display_data"
    },
    {
     "data": {
      "application/vnd.jupyter.widget-view+json": {
       "model_id": "b9b7d3afddd340309050f9815f32bcd0",
       "version_major": 2,
       "version_minor": 0
      },
      "text/plain": [
       "HBox(children=(IntProgress(value=0, description='Epoch 2', max=9427, style=ProgressStyle(description_width='in…"
      ]
     },
     "metadata": {},
     "output_type": "display_data"
    },
    {
     "data": {
      "application/vnd.jupyter.widget-view+json": {
       "model_id": "2a4b92547a07410aa90a065954fb9bd8",
       "version_major": 2,
       "version_minor": 0
      },
      "text/plain": [
       "HBox(children=(IntProgress(value=0, description='Epoch 3', max=9427, style=ProgressStyle(description_width='in…"
      ]
     },
     "metadata": {},
     "output_type": "display_data"
    },
    {
     "data": {
      "application/vnd.jupyter.widget-view+json": {
       "model_id": "5d6c8a298e0f460a84f332bbd390b653",
       "version_major": 2,
       "version_minor": 0
      },
      "text/plain": [
       "HBox(children=(IntProgress(value=0, description='Epoch 4', max=9427, style=ProgressStyle(description_width='in…"
      ]
     },
     "metadata": {},
     "output_type": "display_data"
    },
    {
     "data": {
      "application/vnd.jupyter.widget-view+json": {
       "model_id": "ae8b1a09495b49df8d6c98548519d1b1",
       "version_major": 2,
       "version_minor": 0
      },
      "text/plain": [
       "HBox(children=(IntProgress(value=0, description='Epoch 5', max=9427, style=ProgressStyle(description_width='in…"
      ]
     },
     "metadata": {},
     "output_type": "display_data"
    },
    {
     "data": {
      "application/vnd.jupyter.widget-view+json": {
       "model_id": "6b10f179588f4ad180098e6c486a9495",
       "version_major": 2,
       "version_minor": 0
      },
      "text/plain": [
       "HBox(children=(IntProgress(value=0, description='Epoch 6', max=9427, style=ProgressStyle(description_width='in…"
      ]
     },
     "metadata": {},
     "output_type": "display_data"
    },
    {
     "data": {
      "application/vnd.jupyter.widget-view+json": {
       "model_id": "b9e9c0fdd9af4d38aeba763ff423b26c",
       "version_major": 2,
       "version_minor": 0
      },
      "text/plain": [
       "HBox(children=(IntProgress(value=0, description='Epoch 7', max=9427, style=ProgressStyle(description_width='in…"
      ]
     },
     "metadata": {},
     "output_type": "display_data"
    },
    {
     "data": {
      "application/vnd.jupyter.widget-view+json": {
       "model_id": "926135f5fee4453c9cda7bd472caf826",
       "version_major": 2,
       "version_minor": 0
      },
      "text/plain": [
       "HBox(children=(IntProgress(value=0, description='Epoch 8', max=9427, style=ProgressStyle(description_width='in…"
      ]
     },
     "metadata": {},
     "output_type": "display_data"
    },
    {
     "data": {
      "application/vnd.jupyter.widget-view+json": {
       "model_id": "b7cb54be1b664b428b29c195baf454cd",
       "version_major": 2,
       "version_minor": 0
      },
      "text/plain": [
       "HBox(children=(IntProgress(value=0, description='Epoch 9', max=9427, style=ProgressStyle(description_width='in…"
      ]
     },
     "metadata": {},
     "output_type": "display_data"
    }
   ],
   "source": [
    "#Training model for weights NON Cross Validation\n",
    "history = model.fit(\n",
    "    [data['train']['text']],\n",
    "    keras.utils.to_categorical(data['train']['y'],0),\n",
    "    epochs=10,\n",
    "    verbose=0,\n",
    "    callbacks=[\n",
    "        TQDMNotebookCallback(\n",
    "            leave_inner=True,\n",
    "        )\n",
    "    ],\n",
    "    validation_data=(\n",
    "        [data['val']['text']],\n",
    "        keras.utils.to_categorical(data['val']['y'],0)\n",
    "    ),\n",
    "    batch_size=128\n",
    ")"
   ]
  },
  {
   "cell_type": "code",
   "execution_count": 113,
   "metadata": {},
   "outputs": [
    {
     "name": "stdout",
     "output_type": "stream",
     "text": [
      "Training on fold 1/10...\n"
     ]
    },
    {
     "data": {
      "application/vnd.jupyter.widget-view+json": {
       "model_id": "143ce0c2c8e34f8997d6ddd4329bd99b",
       "version_major": 2,
       "version_minor": 0
      },
      "text/plain": [
       "HBox(children=(IntProgress(value=0, description='Training', max=10, style=ProgressStyle(description_width='ini…"
      ]
     },
     "metadata": {},
     "output_type": "display_data"
    },
    {
     "data": {
      "application/vnd.jupyter.widget-view+json": {
       "model_id": "88c4ecfe884a4c5f83528724e0d3dd11",
       "version_major": 2,
       "version_minor": 0
      },
      "text/plain": [
       "HBox(children=(IntProgress(value=0, description='Epoch 0', max=762, style=ProgressStyle(description_width='ini…"
      ]
     },
     "metadata": {},
     "output_type": "display_data"
    },
    {
     "ename": "KeyboardInterrupt",
     "evalue": "",
     "output_type": "error",
     "traceback": [
      "\u001b[1;31m---------------------------------------------------------------------------\u001b[0m",
      "\u001b[1;31mKeyboardInterrupt\u001b[0m                         Traceback (most recent call last)",
      "\u001b[1;32m<ipython-input-113-b1795bfcc931>\u001b[0m in \u001b[0;36m<module>\u001b[1;34m\u001b[0m\n\u001b[0;32m     15\u001b[0m     \u001b[1;31m# print \"Training new iteration on \" + str(xtrain.shape[0]) + \" training samples, \" + str(xval.shape[0]) + \" validation samples, this may be a while...\"\u001b[0m\u001b[1;33m\u001b[0m\u001b[1;33m\u001b[0m\u001b[0m\n\u001b[0;32m     16\u001b[0m \u001b[1;33m\u001b[0m\u001b[0m\n\u001b[1;32m---> 17\u001b[1;33m     \u001b[0mhistory\u001b[0m \u001b[1;33m=\u001b[0m \u001b[0mtrain_model\u001b[0m\u001b[1;33m(\u001b[0m\u001b[0mmodel\u001b[0m\u001b[1;33m,\u001b[0m \u001b[0mxtrain\u001b[0m\u001b[1;33m,\u001b[0m \u001b[0mytrain\u001b[0m\u001b[1;33m,\u001b[0m \u001b[0mxval\u001b[0m\u001b[1;33m,\u001b[0m \u001b[0myval\u001b[0m\u001b[1;33m)\u001b[0m\u001b[1;33m\u001b[0m\u001b[0m\n\u001b[0m\u001b[0;32m     18\u001b[0m \u001b[1;33m\u001b[0m\u001b[0m\n\u001b[0;32m     19\u001b[0m     \u001b[0maccuracy_history\u001b[0m \u001b[1;33m=\u001b[0m \u001b[0mhistory\u001b[0m\u001b[1;33m.\u001b[0m\u001b[0mhistory\u001b[0m\u001b[1;33m[\u001b[0m\u001b[1;34m'loss'\u001b[0m\u001b[1;33m]\u001b[0m\u001b[1;33m\u001b[0m\u001b[0m\n",
      "\u001b[1;32m<ipython-input-111-5a6ec8a89fe6>\u001b[0m in \u001b[0;36mtrain_model\u001b[1;34m(model, data1, data2, data3, data4)\u001b[0m\n\u001b[0;32m     20\u001b[0m         \u001b[0mkeras\u001b[0m\u001b[1;33m.\u001b[0m\u001b[0mutils\u001b[0m\u001b[1;33m.\u001b[0m\u001b[0mto_categorical\u001b[0m\u001b[1;33m(\u001b[0m\u001b[0mdata\u001b[0m\u001b[1;33m[\u001b[0m\u001b[1;34m'val'\u001b[0m\u001b[1;33m]\u001b[0m\u001b[1;33m[\u001b[0m\u001b[1;34m'y'\u001b[0m\u001b[1;33m]\u001b[0m\u001b[1;33m,\u001b[0m\u001b[1;36m0\u001b[0m\u001b[1;33m)\u001b[0m\u001b[1;33m\u001b[0m\u001b[0m\n\u001b[0;32m     21\u001b[0m     ),\n\u001b[1;32m---> 22\u001b[1;33m     \u001b[0mbatch_size\u001b[0m\u001b[1;33m=\u001b[0m\u001b[1;36m128\u001b[0m\u001b[1;33m\u001b[0m\u001b[0m\n\u001b[0m\u001b[0;32m     23\u001b[0m     )\n",
      "\u001b[1;32mc:\\users\\jowo\\onedrive - microsoft\\john_woods\\projects\\ml capstone\\pytest\\env\\lib\\site-packages\\keras\\engine\\training.py\u001b[0m in \u001b[0;36mfit\u001b[1;34m(self, x, y, batch_size, epochs, verbose, callbacks, validation_split, validation_data, shuffle, class_weight, sample_weight, initial_epoch, steps_per_epoch, validation_steps, **kwargs)\u001b[0m\n\u001b[0;32m   1037\u001b[0m                                         \u001b[0minitial_epoch\u001b[0m\u001b[1;33m=\u001b[0m\u001b[0minitial_epoch\u001b[0m\u001b[1;33m,\u001b[0m\u001b[1;33m\u001b[0m\u001b[0m\n\u001b[0;32m   1038\u001b[0m                                         \u001b[0msteps_per_epoch\u001b[0m\u001b[1;33m=\u001b[0m\u001b[0msteps_per_epoch\u001b[0m\u001b[1;33m,\u001b[0m\u001b[1;33m\u001b[0m\u001b[0m\n\u001b[1;32m-> 1039\u001b[1;33m                                         validation_steps=validation_steps)\n\u001b[0m\u001b[0;32m   1040\u001b[0m \u001b[1;33m\u001b[0m\u001b[0m\n\u001b[0;32m   1041\u001b[0m     def evaluate(self, x=None, y=None,\n",
      "\u001b[1;32mc:\\users\\jowo\\onedrive - microsoft\\john_woods\\projects\\ml capstone\\pytest\\env\\lib\\site-packages\\keras\\engine\\training_arrays.py\u001b[0m in \u001b[0;36mfit_loop\u001b[1;34m(model, f, ins, out_labels, batch_size, epochs, verbose, callbacks, val_f, val_ins, shuffle, callback_metrics, initial_epoch, steps_per_epoch, validation_steps)\u001b[0m\n\u001b[0;32m    197\u001b[0m                     \u001b[0mins_batch\u001b[0m\u001b[1;33m[\u001b[0m\u001b[0mi\u001b[0m\u001b[1;33m]\u001b[0m \u001b[1;33m=\u001b[0m \u001b[0mins_batch\u001b[0m\u001b[1;33m[\u001b[0m\u001b[0mi\u001b[0m\u001b[1;33m]\u001b[0m\u001b[1;33m.\u001b[0m\u001b[0mtoarray\u001b[0m\u001b[1;33m(\u001b[0m\u001b[1;33m)\u001b[0m\u001b[1;33m\u001b[0m\u001b[0m\n\u001b[0;32m    198\u001b[0m \u001b[1;33m\u001b[0m\u001b[0m\n\u001b[1;32m--> 199\u001b[1;33m                 \u001b[0mouts\u001b[0m \u001b[1;33m=\u001b[0m \u001b[0mf\u001b[0m\u001b[1;33m(\u001b[0m\u001b[0mins_batch\u001b[0m\u001b[1;33m)\u001b[0m\u001b[1;33m\u001b[0m\u001b[0m\n\u001b[0m\u001b[0;32m    200\u001b[0m                 \u001b[0mouts\u001b[0m \u001b[1;33m=\u001b[0m \u001b[0mto_list\u001b[0m\u001b[1;33m(\u001b[0m\u001b[0mouts\u001b[0m\u001b[1;33m)\u001b[0m\u001b[1;33m\u001b[0m\u001b[0m\n\u001b[0;32m    201\u001b[0m                 \u001b[1;32mfor\u001b[0m \u001b[0ml\u001b[0m\u001b[1;33m,\u001b[0m \u001b[0mo\u001b[0m \u001b[1;32min\u001b[0m \u001b[0mzip\u001b[0m\u001b[1;33m(\u001b[0m\u001b[0mout_labels\u001b[0m\u001b[1;33m,\u001b[0m \u001b[0mouts\u001b[0m\u001b[1;33m)\u001b[0m\u001b[1;33m:\u001b[0m\u001b[1;33m\u001b[0m\u001b[0m\n",
      "\u001b[1;32mc:\\users\\jowo\\onedrive - microsoft\\john_woods\\projects\\ml capstone\\pytest\\env\\lib\\site-packages\\keras\\backend\\tensorflow_backend.py\u001b[0m in \u001b[0;36m__call__\u001b[1;34m(self, inputs)\u001b[0m\n\u001b[0;32m   2695\u001b[0m \u001b[1;33m\u001b[0m\u001b[0m\n\u001b[0;32m   2696\u001b[0m     \u001b[1;32mdef\u001b[0m \u001b[0m__call__\u001b[0m\u001b[1;33m(\u001b[0m\u001b[0mself\u001b[0m\u001b[1;33m,\u001b[0m \u001b[0minputs\u001b[0m\u001b[1;33m)\u001b[0m\u001b[1;33m:\u001b[0m\u001b[1;33m\u001b[0m\u001b[0m\n\u001b[1;32m-> 2697\u001b[1;33m         \u001b[1;32mif\u001b[0m \u001b[0mhasattr\u001b[0m\u001b[1;33m(\u001b[0m\u001b[0mget_session\u001b[0m\u001b[1;33m(\u001b[0m\u001b[1;33m)\u001b[0m\u001b[1;33m,\u001b[0m \u001b[1;34m'_make_callable_from_options'\u001b[0m\u001b[1;33m)\u001b[0m\u001b[1;33m:\u001b[0m\u001b[1;33m\u001b[0m\u001b[0m\n\u001b[0m\u001b[0;32m   2698\u001b[0m             \u001b[1;32mif\u001b[0m \u001b[0mpy_any\u001b[0m\u001b[1;33m(\u001b[0m\u001b[0mis_sparse\u001b[0m\u001b[1;33m(\u001b[0m\u001b[0mx\u001b[0m\u001b[1;33m)\u001b[0m \u001b[1;32mfor\u001b[0m \u001b[0mx\u001b[0m \u001b[1;32min\u001b[0m \u001b[0mself\u001b[0m\u001b[1;33m.\u001b[0m\u001b[0minputs\u001b[0m\u001b[1;33m)\u001b[0m\u001b[1;33m:\u001b[0m\u001b[1;33m\u001b[0m\u001b[0m\n\u001b[0;32m   2699\u001b[0m                 \u001b[1;32mif\u001b[0m \u001b[0mpy_any\u001b[0m\u001b[1;33m(\u001b[0m\u001b[0mis_tensor\u001b[0m\u001b[1;33m(\u001b[0m\u001b[0mx\u001b[0m\u001b[1;33m)\u001b[0m \u001b[1;32mfor\u001b[0m \u001b[0mx\u001b[0m \u001b[1;32min\u001b[0m \u001b[0minputs\u001b[0m\u001b[1;33m)\u001b[0m\u001b[1;33m:\u001b[0m\u001b[1;33m\u001b[0m\u001b[0m\n",
      "\u001b[1;32mc:\\users\\jowo\\onedrive - microsoft\\john_woods\\projects\\ml capstone\\pytest\\env\\lib\\site-packages\\keras\\backend\\tensorflow_backend.py\u001b[0m in \u001b[0;36mget_session\u001b[1;34m()\u001b[0m\n\u001b[0;32m    204\u001b[0m                     \u001b[0mv\u001b[0m\u001b[1;33m.\u001b[0m\u001b[0m_keras_initialized\u001b[0m \u001b[1;33m=\u001b[0m \u001b[1;32mTrue\u001b[0m\u001b[1;33m\u001b[0m\u001b[0m\n\u001b[0;32m    205\u001b[0m                 \u001b[1;32mif\u001b[0m \u001b[0muninitialized_vars\u001b[0m\u001b[1;33m:\u001b[0m\u001b[1;33m\u001b[0m\u001b[0m\n\u001b[1;32m--> 206\u001b[1;33m                     \u001b[0msession\u001b[0m\u001b[1;33m.\u001b[0m\u001b[0mrun\u001b[0m\u001b[1;33m(\u001b[0m\u001b[0mtf\u001b[0m\u001b[1;33m.\u001b[0m\u001b[0mvariables_initializer\u001b[0m\u001b[1;33m(\u001b[0m\u001b[0muninitialized_vars\u001b[0m\u001b[1;33m)\u001b[0m\u001b[1;33m)\u001b[0m\u001b[1;33m\u001b[0m\u001b[0m\n\u001b[0m\u001b[0;32m    207\u001b[0m     \u001b[1;31m# hack for list_devices() function.\u001b[0m\u001b[1;33m\u001b[0m\u001b[1;33m\u001b[0m\u001b[0m\n\u001b[0;32m    208\u001b[0m     \u001b[1;31m# list_devices() function is not available under tensorflow r1.3.\u001b[0m\u001b[1;33m\u001b[0m\u001b[1;33m\u001b[0m\u001b[0m\n",
      "\u001b[1;32mc:\\users\\jowo\\onedrive - microsoft\\john_woods\\projects\\ml capstone\\pytest\\env\\lib\\site-packages\\tensorflow\\python\\client\\session.py\u001b[0m in \u001b[0;36mrun\u001b[1;34m(self, fetches, feed_dict, options, run_metadata)\u001b[0m\n\u001b[0;32m    927\u001b[0m     \u001b[1;32mtry\u001b[0m\u001b[1;33m:\u001b[0m\u001b[1;33m\u001b[0m\u001b[0m\n\u001b[0;32m    928\u001b[0m       result = self._run(None, fetches, feed_dict, options_ptr,\n\u001b[1;32m--> 929\u001b[1;33m                          run_metadata_ptr)\n\u001b[0m\u001b[0;32m    930\u001b[0m       \u001b[1;32mif\u001b[0m \u001b[0mrun_metadata\u001b[0m\u001b[1;33m:\u001b[0m\u001b[1;33m\u001b[0m\u001b[0m\n\u001b[0;32m    931\u001b[0m         \u001b[0mproto_data\u001b[0m \u001b[1;33m=\u001b[0m \u001b[0mtf_session\u001b[0m\u001b[1;33m.\u001b[0m\u001b[0mTF_GetBuffer\u001b[0m\u001b[1;33m(\u001b[0m\u001b[0mrun_metadata_ptr\u001b[0m\u001b[1;33m)\u001b[0m\u001b[1;33m\u001b[0m\u001b[0m\n",
      "\u001b[1;32mc:\\users\\jowo\\onedrive - microsoft\\john_woods\\projects\\ml capstone\\pytest\\env\\lib\\site-packages\\tensorflow\\python\\client\\session.py\u001b[0m in \u001b[0;36m_run\u001b[1;34m(self, handle, fetches, feed_dict, options, run_metadata)\u001b[0m\n\u001b[0;32m   1150\u001b[0m     \u001b[1;32mif\u001b[0m \u001b[0mfinal_fetches\u001b[0m \u001b[1;32mor\u001b[0m \u001b[0mfinal_targets\u001b[0m \u001b[1;32mor\u001b[0m \u001b[1;33m(\u001b[0m\u001b[0mhandle\u001b[0m \u001b[1;32mand\u001b[0m \u001b[0mfeed_dict_tensor\u001b[0m\u001b[1;33m)\u001b[0m\u001b[1;33m:\u001b[0m\u001b[1;33m\u001b[0m\u001b[0m\n\u001b[0;32m   1151\u001b[0m       results = self._do_run(handle, final_targets, final_fetches,\n\u001b[1;32m-> 1152\u001b[1;33m                              feed_dict_tensor, options, run_metadata)\n\u001b[0m\u001b[0;32m   1153\u001b[0m     \u001b[1;32melse\u001b[0m\u001b[1;33m:\u001b[0m\u001b[1;33m\u001b[0m\u001b[0m\n\u001b[0;32m   1154\u001b[0m       \u001b[0mresults\u001b[0m \u001b[1;33m=\u001b[0m \u001b[1;33m[\u001b[0m\u001b[1;33m]\u001b[0m\u001b[1;33m\u001b[0m\u001b[0m\n",
      "\u001b[1;32mc:\\users\\jowo\\onedrive - microsoft\\john_woods\\projects\\ml capstone\\pytest\\env\\lib\\site-packages\\tensorflow\\python\\client\\session.py\u001b[0m in \u001b[0;36m_do_run\u001b[1;34m(self, handle, target_list, fetch_list, feed_dict, options, run_metadata)\u001b[0m\n\u001b[0;32m   1326\u001b[0m     \u001b[1;32mif\u001b[0m \u001b[0mhandle\u001b[0m \u001b[1;32mis\u001b[0m \u001b[1;32mNone\u001b[0m\u001b[1;33m:\u001b[0m\u001b[1;33m\u001b[0m\u001b[0m\n\u001b[0;32m   1327\u001b[0m       return self._do_call(_run_fn, feeds, fetches, targets, options,\n\u001b[1;32m-> 1328\u001b[1;33m                            run_metadata)\n\u001b[0m\u001b[0;32m   1329\u001b[0m     \u001b[1;32melse\u001b[0m\u001b[1;33m:\u001b[0m\u001b[1;33m\u001b[0m\u001b[0m\n\u001b[0;32m   1330\u001b[0m       \u001b[1;32mreturn\u001b[0m \u001b[0mself\u001b[0m\u001b[1;33m.\u001b[0m\u001b[0m_do_call\u001b[0m\u001b[1;33m(\u001b[0m\u001b[0m_prun_fn\u001b[0m\u001b[1;33m,\u001b[0m \u001b[0mhandle\u001b[0m\u001b[1;33m,\u001b[0m \u001b[0mfeeds\u001b[0m\u001b[1;33m,\u001b[0m \u001b[0mfetches\u001b[0m\u001b[1;33m)\u001b[0m\u001b[1;33m\u001b[0m\u001b[0m\n",
      "\u001b[1;32mc:\\users\\jowo\\onedrive - microsoft\\john_woods\\projects\\ml capstone\\pytest\\env\\lib\\site-packages\\tensorflow\\python\\client\\session.py\u001b[0m in \u001b[0;36m_do_call\u001b[1;34m(self, fn, *args)\u001b[0m\n\u001b[0;32m   1332\u001b[0m   \u001b[1;32mdef\u001b[0m \u001b[0m_do_call\u001b[0m\u001b[1;33m(\u001b[0m\u001b[0mself\u001b[0m\u001b[1;33m,\u001b[0m \u001b[0mfn\u001b[0m\u001b[1;33m,\u001b[0m \u001b[1;33m*\u001b[0m\u001b[0margs\u001b[0m\u001b[1;33m)\u001b[0m\u001b[1;33m:\u001b[0m\u001b[1;33m\u001b[0m\u001b[0m\n\u001b[0;32m   1333\u001b[0m     \u001b[1;32mtry\u001b[0m\u001b[1;33m:\u001b[0m\u001b[1;33m\u001b[0m\u001b[0m\n\u001b[1;32m-> 1334\u001b[1;33m       \u001b[1;32mreturn\u001b[0m \u001b[0mfn\u001b[0m\u001b[1;33m(\u001b[0m\u001b[1;33m*\u001b[0m\u001b[0margs\u001b[0m\u001b[1;33m)\u001b[0m\u001b[1;33m\u001b[0m\u001b[0m\n\u001b[0m\u001b[0;32m   1335\u001b[0m     \u001b[1;32mexcept\u001b[0m \u001b[0merrors\u001b[0m\u001b[1;33m.\u001b[0m\u001b[0mOpError\u001b[0m \u001b[1;32mas\u001b[0m \u001b[0me\u001b[0m\u001b[1;33m:\u001b[0m\u001b[1;33m\u001b[0m\u001b[0m\n\u001b[0;32m   1336\u001b[0m       \u001b[0mmessage\u001b[0m \u001b[1;33m=\u001b[0m \u001b[0mcompat\u001b[0m\u001b[1;33m.\u001b[0m\u001b[0mas_text\u001b[0m\u001b[1;33m(\u001b[0m\u001b[0me\u001b[0m\u001b[1;33m.\u001b[0m\u001b[0mmessage\u001b[0m\u001b[1;33m)\u001b[0m\u001b[1;33m\u001b[0m\u001b[0m\n",
      "\u001b[1;32mc:\\users\\jowo\\onedrive - microsoft\\john_woods\\projects\\ml capstone\\pytest\\env\\lib\\site-packages\\tensorflow\\python\\client\\session.py\u001b[0m in \u001b[0;36m_run_fn\u001b[1;34m(feed_dict, fetch_list, target_list, options, run_metadata)\u001b[0m\n\u001b[0;32m   1315\u001b[0m     \u001b[1;32mdef\u001b[0m \u001b[0m_run_fn\u001b[0m\u001b[1;33m(\u001b[0m\u001b[0mfeed_dict\u001b[0m\u001b[1;33m,\u001b[0m \u001b[0mfetch_list\u001b[0m\u001b[1;33m,\u001b[0m \u001b[0mtarget_list\u001b[0m\u001b[1;33m,\u001b[0m \u001b[0moptions\u001b[0m\u001b[1;33m,\u001b[0m \u001b[0mrun_metadata\u001b[0m\u001b[1;33m)\u001b[0m\u001b[1;33m:\u001b[0m\u001b[1;33m\u001b[0m\u001b[0m\n\u001b[0;32m   1316\u001b[0m       \u001b[1;31m# Ensure any changes to the graph are reflected in the runtime.\u001b[0m\u001b[1;33m\u001b[0m\u001b[1;33m\u001b[0m\u001b[0m\n\u001b[1;32m-> 1317\u001b[1;33m       \u001b[0mself\u001b[0m\u001b[1;33m.\u001b[0m\u001b[0m_extend_graph\u001b[0m\u001b[1;33m(\u001b[0m\u001b[1;33m)\u001b[0m\u001b[1;33m\u001b[0m\u001b[0m\n\u001b[0m\u001b[0;32m   1318\u001b[0m       return self._call_tf_sessionrun(\n\u001b[0;32m   1319\u001b[0m           options, feed_dict, fetch_list, target_list, run_metadata)\n",
      "\u001b[1;32mc:\\users\\jowo\\onedrive - microsoft\\john_woods\\projects\\ml capstone\\pytest\\env\\lib\\site-packages\\tensorflow\\python\\client\\session.py\u001b[0m in \u001b[0;36m_extend_graph\u001b[1;34m(self)\u001b[0m\n\u001b[0;32m   1350\u001b[0m   \u001b[1;32mdef\u001b[0m \u001b[0m_extend_graph\u001b[0m\u001b[1;33m(\u001b[0m\u001b[0mself\u001b[0m\u001b[1;33m)\u001b[0m\u001b[1;33m:\u001b[0m\u001b[1;33m\u001b[0m\u001b[0m\n\u001b[0;32m   1351\u001b[0m     \u001b[1;32mwith\u001b[0m \u001b[0mself\u001b[0m\u001b[1;33m.\u001b[0m\u001b[0m_graph\u001b[0m\u001b[1;33m.\u001b[0m\u001b[0m_session_run_lock\u001b[0m\u001b[1;33m(\u001b[0m\u001b[1;33m)\u001b[0m\u001b[1;33m:\u001b[0m  \u001b[1;31m# pylint: disable=protected-access\u001b[0m\u001b[1;33m\u001b[0m\u001b[0m\n\u001b[1;32m-> 1352\u001b[1;33m       \u001b[0mtf_session\u001b[0m\u001b[1;33m.\u001b[0m\u001b[0mExtendSession\u001b[0m\u001b[1;33m(\u001b[0m\u001b[0mself\u001b[0m\u001b[1;33m.\u001b[0m\u001b[0m_session\u001b[0m\u001b[1;33m)\u001b[0m\u001b[1;33m\u001b[0m\u001b[0m\n\u001b[0m\u001b[0;32m   1353\u001b[0m \u001b[1;33m\u001b[0m\u001b[0m\n\u001b[0;32m   1354\u001b[0m   \u001b[1;31m# The threshold to run garbage collection to delete dead tensors.\u001b[0m\u001b[1;33m\u001b[0m\u001b[1;33m\u001b[0m\u001b[0m\n",
      "\u001b[1;31mKeyboardInterrupt\u001b[0m: "
     ]
    }
   ],
   "source": [
    "#TRAIN MODEL AND EVALUATE WITH CROSS VALIDATION; ONLY RUN IF SURE YOU HAVE GOOD MODEL\n",
    "k_folds = 10\n",
    "skf = StratifiedKFold(n_splits=k_folds, shuffle=True)\n",
    "\n",
    "\n",
    "for index, (train_indices, val_indices) in enumerate(skf.split(dfTrain.body, dfTrain.label)):\n",
    "    print (\"Training on fold \" + str(index+1) + \"/10...\")\n",
    "    # Generate batches from indices\n",
    "    xtrain, xval = data['train']['text'], data['val']['text']\n",
    "    ytrain, yval = data['train']['y'], data['val']['y']\n",
    "    model = None\n",
    "    model = BaselineModel()\n",
    "    model.compile()\n",
    "    \n",
    "    # print \"Training new iteration on \" + str(xtrain.shape[0]) + \" training samples, \" + str(xval.shape[0]) + \" validation samples, this may be a while...\"\n",
    "    \n",
    "    history = train_model(model, xtrain, ytrain, xval, yval)\n",
    "    \n",
    "    accuracy_history = history.history['loss']\n",
    "    val_accuracy_history = history.history['val_loss']\n",
    "    print (\"Last training accuracy: \" + str(accuracy_history[-1]) + \", last validation accuracy: \" + str(val_accuracy_history[-1]))\n",
    " "
   ]
  },
  {
   "cell_type": "code",
   "execution_count": 252,
   "metadata": {},
   "outputs": [
    {
     "name": "stdout",
     "output_type": "stream",
     "text": [
      "0.05236571810730975 9\n",
      "0.09319106672465756 2\n"
     ]
    },
    {
     "data": {
      "image/png": "[encoded data removed]",
      "text/plain": [
       "<Figure size 432x288 with 1 Axes>"
      ]
     },
     "metadata": {
      "needs_background": "light"
     },
     "output_type": "display_data"
    }
   ],
   "source": [
    "import matplotlib.pyplot as plt\n",
    "#returns min train epoch and value\n",
    "print(min(history.history['loss']), history.history['loss'].index(min(history.history['loss'])))\n",
    "#returns minimum val epoch and value\n",
    "print(min(history.history['val_loss']), history.history['val_loss'].index(min(history.history['val_loss'])))\n",
    "plt.plot(history.epoch,history.history['loss'],history.epoch,history.history['val_loss'])\n",
    "plt.show()\n",
    "#Yellow=Validation set\n",
    "#Blue= Training Set\n",
    "#_=_"
   ]
  },
  {
   "cell_type": "code",
   "execution_count": 253,
   "metadata": {},
   "outputs": [],
   "source": [
    "#SKIP: Save Model\n",
    "from keras.models import load_model\n",
    "model.save('model1.h5')"
   ]
  },
  {
   "cell_type": "code",
   "execution_count": 254,
   "metadata": {},
   "outputs": [
    {
     "name": "stdout",
     "output_type": "stream",
     "text": [
      "Loaded model from disk\n"
     ]
    }
   ],
   "source": [
    "#Load Model with saved weights\n",
    "model.load_weights(\"model1.h5\")\n",
    "print(\"Loaded model from disk\")"
   ]
  },
  {
   "cell_type": "markdown",
   "metadata": {},
   "source": [
    "### Model Evaluation"
   ]
  },
  {
   "cell_type": "markdown",
   "metadata": {},
   "source": [
    "Let's use accuracy to evaluate our model:"
   ]
  },
  {
   "cell_type": "code",
   "execution_count": 255,
   "metadata": {},
   "outputs": [
    {
     "name": "stdout",
     "output_type": "stream",
     "text": [
      "Accuracy score on 333 test samples: 0.558559\n",
      "{'predict:3 actual:5': 25, 'predict:1 actual:3': 37, 'predict:5 actual:3': 28, 'predict:5 actual:1': 18, 'predict:1 actual:5': 19, 'predict:3 actual:1': 20}\n",
      "{5: 44, 3: 65, 1: 38}\n",
      "{5: 103, 3: 118, 1: 112}\n",
      "{0.6607142857142857, 0.4491525423728814, 0.5728155339805825}\n"
     ]
    }
   ],
   "source": [
    "from sklearn.metrics import accuracy_score\n",
    "h = model.predict([data['test']['text']])\n",
    "#model total accuracy on test data\n",
    "predict = np.asarray([np.argmax(i) for i in h])\n",
    "gold = np.asarray(data['test']['y'])\n",
    "resultf1 = accuracy_score(gold, predict)\n",
    "print('Accuracy score on {} test samples: {:.6}'.format(\n",
    "    len(predict), resultf1\n",
    "))\n",
    "\n",
    "#show breakdown of accuracy\n",
    "test = predict/gold\n",
    "out=[]\n",
    "for val in test:\n",
    "    if(val==3/5):\n",
    "        out.append(\"predict:3 actual:5\")\n",
    "    if(val==1/5):\n",
    "        out.append(\"predict:1 actual:5\")\n",
    "    if(val==1/3):\n",
    "        out.append(\"predict:1 actual:3\")\n",
    "    if(val==5/3):\n",
    "        out.append(\"predict:5 actual:3\")\n",
    "    if(val==3/1):\n",
    "        out.append(\"predict:3 actual:1\")\n",
    "    if(val==5/1):\n",
    "        out.append(\"predict:5 actual:1\")\n",
    "\n",
    "missedNum=[]\n",
    "for val in test:\n",
    "    if(val==3/5 or val==1/5):\n",
    "        missedNum.append(5)\n",
    "    if(val==1/3 or val==5/3):\n",
    "        missedNum.append(3)\n",
    "    if(val==3/1 or val == 5/1):\n",
    "        missedNum.append(1)\n",
    "#equals the number of incorrect guesses for a specific num\n",
    "missedNum = {i:missedNum.count(i) for i in missedNum}\n",
    "\n",
    "#equals the number of incorrect guesses of a specific num for a specific num\n",
    "incorrect = {i:out.count(i) for i in out}\n",
    "\n",
    "actualNum= gold.tolist()\n",
    "#equals the number of actual of each number\n",
    "actualNum = {i:actualNum.count(i) for i in actualNum}\n",
    "accuracy = []\n",
    "print(incorrect)\n",
    "print(missedNum)  \n",
    "print(actualNum)\n",
    "accuracy.append(missedNum.get(1)/actualNum.get(1))\n",
    "accuracy.append(missedNum.get(3)/actualNum.get(3))\n",
    "accuracy.append(missedNum.get(5)/actualNum.get(5))\n",
    "accuracy= {1-i for i in accuracy}\n",
    "print(accuracy)"
   ]
  },
  {
   "cell_type": "markdown",
   "metadata": {},
   "source": [
    "### Inference"
   ]
  },
  {
   "cell_type": "code",
   "execution_count": 29,
   "metadata": {},
   "outputs": [],
   "source": [
    "#Not using\n",
    "#def infer(texts):\n",
    "#    sequences = []\n",
    "#    for text in texts:\n",
    "#        text = text.split()\n",
    "#        text_sequence = []\n",
    "#        for word in text:\n",
    "#            if word in vocabulary:\n",
    "#                text_sequence.append(vocabulary[word])\n",
    "#        sequences.append(text_sequence)\n",
    "\n",
    "#    padded_seq = pad_sequences(sequences, maxlen=MAX_SEQUENCE_LENGTH)\n",
    "#    return model.predict([padded_seq])\n",
    "    \n",
    "    \n",
    "\n",
    "#h_ = infer(text)\n",
    "#for i,t in enumerate(text):\n",
    "#    print('{} {} {}'.format(\n",
    "#            np.argmax(h_[i]),\n",
    "#            h_[i],\n",
    "#            t[:MAX_SEQUENCE_LENGTH],\n",
    "#        ))"
   ]
  },
  {
   "cell_type": "markdown",
   "metadata": {},
   "source": [
    "\n",
    "Implement a model similar to the one described in [this paper](https://arxiv.org/pdf/1704.06125.pdf), in order to get a much higher accuracy."
   ]
  },
  {
   "cell_type": "code",
   "execution_count": 256,
   "metadata": {},
   "outputs": [],
   "source": [
    "# # Analysis through CNN model\n",
    "from keras.layers import Input, Dense, Conv1D, GlobalMaxPooling1D, Reshape, Dropout\n",
    "from keras.models import Model\n",
    "class BaselineModel2(keras.models.Model):\n",
    "    \n",
    "    def __init__(self):\n",
    "        input_layer = layers.Input(\n",
    "            shape=(MAX_SEQUENCE_LENGTH,),\n",
    "            name='Input'\n",
    "        )\n",
    "        embedding_layer = layers.Embedding(len(vocabulary) + 1,\n",
    "                            EMBEDDING_DIM,\n",
    "                            weights=[embedding_matrix],\n",
    "                            input_length=MAX_SEQUENCE_LENGTH,\n",
    "                            name='Embedding',\n",
    "                            trainable=False)(input_layer)\n",
    "\n",
    "        conv1 = Conv1D(200, 2, activation='relu')(embedding_layer)\n",
    "        conv2 = Conv1D(200, 3, activation='relu')(embedding_layer)\n",
    "        conv3 = Conv1D(200, 4, activation='relu')(embedding_layer)\n",
    "        \n",
    "        pool1 = GlobalMaxPooling1D()(conv1)\n",
    "        pool2 = GlobalMaxPooling1D()(conv2)\n",
    "        pool3 = GlobalMaxPooling1D()(conv3)\n",
    "        \n",
    "        conc_layer = keras.layers.concatenate([pool3, pool2, pool1])\n",
    "        drop1 = Dropout(0.5)(conc_layer)\n",
    "        fc_layer1 = layers.Dense(units=30,name='FullyConnected')(drop1)\n",
    "        drop2 = Dropout(0.5)(fc_layer1)\n",
    "        #fc_layer2 = layers.Flatten(name=\"Flatten\")(drop2)\n",
    "        predictions = Dense(6, activation='softmax')(drop2)\n",
    "        super().__init__(inputs=[input_layer], outputs=predictions)\n",
    "        \n",
    "    def compile(self):\n",
    "        return super().compile(\n",
    "            optimizer=keras.optimizers.Adam(lr=0.001),\n",
    "            loss='mse'\n",
    "        )"
   ]
  },
  {
   "cell_type": "code",
   "execution_count": 257,
   "metadata": {},
   "outputs": [
    {
     "data": {
      "application/vnd.jupyter.widget-view+json": {
       "model_id": "c413958430d944dbb6ee03407e9ad7d6",
       "version_major": 2,
       "version_minor": 0
      },
      "text/plain": [
       "HBox(children=(IntProgress(value=0, description='Training', max=10, style=ProgressStyle(description_width='ini…"
      ]
     },
     "metadata": {},
     "output_type": "display_data"
    },
    {
     "data": {
      "application/vnd.jupyter.widget-view+json": {
       "model_id": "020c60ac1a474a6288d9d72c0353bdee",
       "version_major": 2,
       "version_minor": 0
      },
      "text/plain": [
       "HBox(children=(IntProgress(value=0, description='Epoch 0', max=9427, style=ProgressStyle(description_width='in…"
      ]
     },
     "metadata": {},
     "output_type": "display_data"
    },
    {
     "data": {
      "application/vnd.jupyter.widget-view+json": {
       "model_id": "0ab94163afb744dbba9b52a7ce2e0306",
       "version_major": 2,
       "version_minor": 0
      },
      "text/plain": [
       "HBox(children=(IntProgress(value=0, description='Epoch 1', max=9427, style=ProgressStyle(description_width='in…"
      ]
     },
     "metadata": {},
     "output_type": "display_data"
    },
    {
     "data": {
      "application/vnd.jupyter.widget-view+json": {
       "model_id": "60e5d6681017464fbf0acb418432ea0c",
       "version_major": 2,
       "version_minor": 0
      },
      "text/plain": [
       "HBox(children=(IntProgress(value=0, description='Epoch 2', max=9427, style=ProgressStyle(description_width='in…"
      ]
     },
     "metadata": {},
     "output_type": "display_data"
    },
    {
     "data": {
      "application/vnd.jupyter.widget-view+json": {
       "model_id": "1964013476324ad28bec781adf0d179a",
       "version_major": 2,
       "version_minor": 0
      },
      "text/plain": [
       "HBox(children=(IntProgress(value=0, description='Epoch 3', max=9427, style=ProgressStyle(description_width='in…"
      ]
     },
     "metadata": {},
     "output_type": "display_data"
    },
    {
     "data": {
      "application/vnd.jupyter.widget-view+json": {
       "model_id": "bd8380dd73084cf38bcfaa5a3b004bd1",
       "version_major": 2,
       "version_minor": 0
      },
      "text/plain": [
       "HBox(children=(IntProgress(value=0, description='Epoch 4', max=9427, style=ProgressStyle(description_width='in…"
      ]
     },
     "metadata": {},
     "output_type": "display_data"
    },
    {
     "data": {
      "application/vnd.jupyter.widget-view+json": {
       "model_id": "c6211a1711034e07b928e05ac4e09caa",
       "version_major": 2,
       "version_minor": 0
      },
      "text/plain": [
       "HBox(children=(IntProgress(value=0, description='Epoch 5', max=9427, style=ProgressStyle(description_width='in…"
      ]
     },
     "metadata": {},
     "output_type": "display_data"
    },
    {
     "data": {
      "application/vnd.jupyter.widget-view+json": {
       "model_id": "72adefc8c4de4b2aa2c92838801acdf9",
       "version_major": 2,
       "version_minor": 0
      },
      "text/plain": [
       "HBox(children=(IntProgress(value=0, description='Epoch 6', max=9427, style=ProgressStyle(description_width='in…"
      ]
     },
     "metadata": {},
     "output_type": "display_data"
    },
    {
     "data": {
      "application/vnd.jupyter.widget-view+json": {
       "model_id": "33a0da1027be46dc91ef0a6bb513325c",
       "version_major": 2,
       "version_minor": 0
      },
      "text/plain": [
       "HBox(children=(IntProgress(value=0, description='Epoch 7', max=9427, style=ProgressStyle(description_width='in…"
      ]
     },
     "metadata": {},
     "output_type": "display_data"
    },
    {
     "data": {
      "application/vnd.jupyter.widget-view+json": {
       "model_id": "2f0070852bc842d7bac757cd496b2ea2",
       "version_major": 2,
       "version_minor": 0
      },
      "text/plain": [
       "HBox(children=(IntProgress(value=0, description='Epoch 8', max=9427, style=ProgressStyle(description_width='in…"
      ]
     },
     "metadata": {},
     "output_type": "display_data"
    },
    {
     "data": {
      "application/vnd.jupyter.widget-view+json": {
       "model_id": "1fa9804afdde4d4b85db010d4cb4a25b",
       "version_major": 2,
       "version_minor": 0
      },
      "text/plain": [
       "HBox(children=(IntProgress(value=0, description='Epoch 9', max=9427, style=ProgressStyle(description_width='in…"
      ]
     },
     "metadata": {},
     "output_type": "display_data"
    }
   ],
   "source": [
    "#compile then train model NOT CROSS VALIDATION\n",
    "#could train even longer\n",
    "model2 = BaselineModel2()\n",
    "model2.compile()\n",
    "history = model2.fit(\n",
    "    [data['train']['text']],\n",
    "    keras.utils.to_categorical(data['train']['y'],0),\n",
    "    epochs=10,\n",
    "    verbose=0,\n",
    "    callbacks=[\n",
    "        TQDMNotebookCallback(\n",
    "            leave_inner=True,\n",
    "        )\n",
    "    ],\n",
    "    validation_data=(\n",
    "        [data['val']['text']],\n",
    "        keras.utils.to_categorical(data['val']['y'],0)\n",
    "    ),\n",
    "    batch_size=128\n",
    ")"
   ]
  },
  {
   "cell_type": "code",
   "execution_count": 258,
   "metadata": {},
   "outputs": [
    {
     "data": {
      "image/png": "[encoded data removed]",
      "text/plain": [
       "<Figure size 432x288 with 1 Axes>"
      ]
     },
     "metadata": {
      "needs_background": "light"
     },
     "output_type": "display_data"
    }
   ],
   "source": [
    "#show results of training and evaluation of model\n",
    "import matplotlib.pyplot as plt\n",
    "\n",
    "plt.plot(history.epoch,history.history['loss'],history.epoch,history.history['val_loss'])\n",
    "plt.show()\n",
    "#_=_"
   ]
  },
  {
   "cell_type": "code",
   "execution_count": 210,
   "metadata": {},
   "outputs": [],
   "source": [
    "#SKIP: Save Model\n",
    "from keras.models import load_model\n",
    "model2.save('model2.h5')"
   ]
  },
  {
   "cell_type": "code",
   "execution_count": 211,
   "metadata": {},
   "outputs": [
    {
     "name": "stdout",
     "output_type": "stream",
     "text": [
      "Loaded model from disk\n"
     ]
    }
   ],
   "source": [
    "#Load Model with saved weights\n",
    "model2.load_weights(\"model2.h5\")\n",
    "print(\"Loaded model from disk\")"
   ]
  },
  {
   "cell_type": "code",
   "execution_count": 259,
   "metadata": {},
   "outputs": [
    {
     "name": "stdout",
     "output_type": "stream",
     "text": [
      "Accuracy score on 333 test samples: 0.696697\n",
      "{'predict:3 actual:5': 16, 'predict:1 actual:3': 18, 'predict:5 actual:3': 34, 'predict:5 actual:1': 11, 'predict:1 actual:5': 4, 'predict:3 actual:1': 18}\n",
      "{5: 20, 3: 52, 1: 29}\n",
      "{5: 103, 3: 118, 1: 112}\n",
      "{0.7410714285714286, 0.5593220338983051, 0.8058252427184466}\n"
     ]
    }
   ],
   "source": [
    "#Evaluate MOdel\n",
    "\n",
    "from sklearn.metrics import accuracy_score\n",
    "h = model2.predict([data['test']['text']])\n",
    "predict = np.asarray([np.argmax(i) for i in h])\n",
    "gold = np.asarray(data['test']['y'])\n",
    "resultf1 = accuracy_score(gold, predict)\n",
    "print('Accuracy score on {} test samples: {:.6}'.format(\n",
    "    len(predict), resultf1\n",
    "))\n",
    "#show breakdown of accuracy\n",
    "test = predict/gold\n",
    "out=[]\n",
    "for val in test:\n",
    "    if(val==3/5):\n",
    "        out.append(\"predict:3 actual:5\")\n",
    "    if(val==1/5):\n",
    "        out.append(\"predict:1 actual:5\")\n",
    "    if(val==1/3):\n",
    "        out.append(\"predict:1 actual:3\")\n",
    "    if(val==5/3):\n",
    "        out.append(\"predict:5 actual:3\")\n",
    "    if(val==3/1):\n",
    "        out.append(\"predict:3 actual:1\")\n",
    "    if(val==5/1):\n",
    "        out.append(\"predict:5 actual:1\")\n",
    "\n",
    "missedNum=[]\n",
    "for val in test:\n",
    "    if(val==3/5 or val==1/5):\n",
    "        missedNum.append(5)\n",
    "    if(val==1/3 or val==5/3):\n",
    "        missedNum.append(3)\n",
    "    if(val==3/1 or val == 5/1):\n",
    "        missedNum.append(1)\n",
    "#equals the number of incorrect guesses for a specific num\n",
    "missedNum = {i:missedNum.count(i) for i in missedNum}\n",
    "\n",
    "#equals the number of incorrect guesses of a specific num for a specific num\n",
    "incorrect = {i:out.count(i) for i in out}\n",
    "\n",
    "actualNum= gold.tolist()\n",
    "#equals the number of actual of each number\n",
    "actualNum = {i:actualNum.count(i) for i in actualNum}\n",
    "accuracy = []\n",
    "print(incorrect)\n",
    "print(missedNum)  \n",
    "print(actualNum)\n",
    "accuracy.append(missedNum.get(1)/actualNum.get(1))\n",
    "accuracy.append(missedNum.get(3)/actualNum.get(3))\n",
    "accuracy.append(missedNum.get(5)/actualNum.get(5))\n",
    "accuracy= {1-i for i in accuracy}\n",
    "print(accuracy)"
   ]
  },
  {
   "cell_type": "raw",
   "metadata": {},
   "source": [
    "# # Analysing with LSTM\n",
    "#consider reorganizing order of word embedding indexes by total use of word rather than order they occur in dataset\n",
    "#may be better for subject detection"
   ]
  },
  {
   "cell_type": "code",
   "execution_count": 260,
   "metadata": {},
   "outputs": [],
   "source": [
    "#Schema create LTSM model\n",
    "from keras.layers import Input, Dense, GlobalMaxPooling1D, Bidirectional, LSTM\n",
    "from keras.models import Model\n",
    "\n",
    "\n",
    "class BaselineModel3(keras.models.Model):\n",
    "    \n",
    "    def __init__(self):\n",
    "        input_layer = layers.Input(\n",
    "            shape=(MAX_SEQUENCE_LENGTH,),\n",
    "            name='Input'\n",
    "        )\n",
    "        print(input_layer.shape)\n",
    "        embedding_layer = layers.Embedding(len(vocabulary) + 1,\n",
    "                            EMBEDDING_DIM,\n",
    "                            weights=[embedding_matrix],\n",
    "                            name='Embedding',\n",
    "                            trainable=False)(input_layer)\n",
    "        print(embedding_layer.shape)\n",
    "        drop1 = Dropout(0.5)(embedding_layer)\n",
    "        bi_lay = Bidirectional(LSTM(200, return_sequences=False))(drop1)\n",
    "        drop2 = Dropout(0.5)(bi_lay)\n",
    "        print(drop2.shape)\n",
    "        f_con = Dense(30, activation=\"sigmoid\")(drop2)\n",
    "        drop3 = Dropout(0.5)(f_con)\n",
    "        print(drop3.shape)\n",
    "        predictions = Dense(6, activation='softmax')(drop3)\n",
    "        \n",
    "        super().__init__(inputs=[input_layer], outputs=predictions)\n",
    "        \n",
    "    def compile(self):\n",
    "        return super().compile(\n",
    "            optimizer=keras.optimizers.Adam(lr=0.001),\n",
    "            loss='mse'\n",
    "        )"
   ]
  },
  {
   "cell_type": "code",
   "execution_count": 265,
   "metadata": {},
   "outputs": [
    {
     "name": "stdout",
     "output_type": "stream",
     "text": [
      "(?, 40)\n",
      "(?, 40, 300)\n",
      "(?, 400)\n",
      "(?, 30)\n"
     ]
    },
    {
     "data": {
      "application/vnd.jupyter.widget-view+json": {
       "model_id": "5a9186fb99444b20990983214fa92911",
       "version_major": 2,
       "version_minor": 0
      },
      "text/plain": [
       "HBox(children=(IntProgress(value=0, description='Training', max=25, style=ProgressStyle(description_width='ini…"
      ]
     },
     "metadata": {},
     "output_type": "display_data"
    },
    {
     "data": {
      "application/vnd.jupyter.widget-view+json": {
       "model_id": "618582cbcc004b3480a97ebc372c77f6",
       "version_major": 2,
       "version_minor": 0
      },
      "text/plain": [
       "HBox(children=(IntProgress(value=0, description='Epoch 0', max=9427, style=ProgressStyle(description_width='in…"
      ]
     },
     "metadata": {},
     "output_type": "display_data"
    },
    {
     "data": {
      "application/vnd.jupyter.widget-view+json": {
       "model_id": "493579158d074a8f99019147485f29bb",
       "version_major": 2,
       "version_minor": 0
      },
      "text/plain": [
       "HBox(children=(IntProgress(value=0, description='Epoch 1', max=9427, style=ProgressStyle(description_width='in…"
      ]
     },
     "metadata": {},
     "output_type": "display_data"
    },
    {
     "data": {
      "application/vnd.jupyter.widget-view+json": {
       "model_id": "d3c6ac264f514287af5cde3682674a49",
       "version_major": 2,
       "version_minor": 0
      },
      "text/plain": [
       "HBox(children=(IntProgress(value=0, description='Epoch 2', max=9427, style=ProgressStyle(description_width='in…"
      ]
     },
     "metadata": {},
     "output_type": "display_data"
    },
    {
     "data": {
      "application/vnd.jupyter.widget-view+json": {
       "model_id": "e96eafef4e254ecf8c7fbff11602c894",
       "version_major": 2,
       "version_minor": 0
      },
      "text/plain": [
       "HBox(children=(IntProgress(value=0, description='Epoch 3', max=9427, style=ProgressStyle(description_width='in…"
      ]
     },
     "metadata": {},
     "output_type": "display_data"
    },
    {
     "data": {
      "application/vnd.jupyter.widget-view+json": {
       "model_id": "42faf85436aa49ed920a5137f1c6256a",
       "version_major": 2,
       "version_minor": 0
      },
      "text/plain": [
       "HBox(children=(IntProgress(value=0, description='Epoch 4', max=9427, style=ProgressStyle(description_width='in…"
      ]
     },
     "metadata": {},
     "output_type": "display_data"
    },
    {
     "data": {
      "application/vnd.jupyter.widget-view+json": {
       "model_id": "cb8c35e6eb5e4cca80e48e3b78315c64",
       "version_major": 2,
       "version_minor": 0
      },
      "text/plain": [
       "HBox(children=(IntProgress(value=0, description='Epoch 5', max=9427, style=ProgressStyle(description_width='in…"
      ]
     },
     "metadata": {},
     "output_type": "display_data"
    },
    {
     "data": {
      "application/vnd.jupyter.widget-view+json": {
       "model_id": "df1200a61d41418abbb5f24ce01560e1",
       "version_major": 2,
       "version_minor": 0
      },
      "text/plain": [
       "HBox(children=(IntProgress(value=0, description='Epoch 6', max=9427, style=ProgressStyle(description_width='in…"
      ]
     },
     "metadata": {},
     "output_type": "display_data"
    },
    {
     "data": {
      "application/vnd.jupyter.widget-view+json": {
       "model_id": "20fc6b5c772e44638ef4df4e9f99d56b",
       "version_major": 2,
       "version_minor": 0
      },
      "text/plain": [
       "HBox(children=(IntProgress(value=0, description='Epoch 7', max=9427, style=ProgressStyle(description_width='in…"
      ]
     },
     "metadata": {},
     "output_type": "display_data"
    },
    {
     "data": {
      "application/vnd.jupyter.widget-view+json": {
       "model_id": "8f8fdd624c234452bcef0a82f48a40f3",
       "version_major": 2,
       "version_minor": 0
      },
      "text/plain": [
       "HBox(children=(IntProgress(value=0, description='Epoch 8', max=9427, style=ProgressStyle(description_width='in…"
      ]
     },
     "metadata": {},
     "output_type": "display_data"
    },
    {
     "data": {
      "application/vnd.jupyter.widget-view+json": {
       "model_id": "385fa5c9b4c948e9b53c58a5f2460292",
       "version_major": 2,
       "version_minor": 0
      },
      "text/plain": [
       "HBox(children=(IntProgress(value=0, description='Epoch 9', max=9427, style=ProgressStyle(description_width='in…"
      ]
     },
     "metadata": {},
     "output_type": "display_data"
    },
    {
     "data": {
      "application/vnd.jupyter.widget-view+json": {
       "model_id": "e60f4f85b05348258f571cbb632693d0",
       "version_major": 2,
       "version_minor": 0
      },
      "text/plain": [
       "HBox(children=(IntProgress(value=0, description='Epoch 10', max=9427, style=ProgressStyle(description_width='i…"
      ]
     },
     "metadata": {},
     "output_type": "display_data"
    },
    {
     "data": {
      "application/vnd.jupyter.widget-view+json": {
       "model_id": "b83fe4daadac4d659a938ee64a9b67af",
       "version_major": 2,
       "version_minor": 0
      },
      "text/plain": [
       "HBox(children=(IntProgress(value=0, description='Epoch 11', max=9427, style=ProgressStyle(description_width='i…"
      ]
     },
     "metadata": {},
     "output_type": "display_data"
    },
    {
     "data": {
      "application/vnd.jupyter.widget-view+json": {
       "model_id": "f50c27cd3a6041828dea5308a7a857a7",
       "version_major": 2,
       "version_minor": 0
      },
      "text/plain": [
       "HBox(children=(IntProgress(value=0, description='Epoch 12', max=9427, style=ProgressStyle(description_width='i…"
      ]
     },
     "metadata": {},
     "output_type": "display_data"
    },
    {
     "data": {
      "application/vnd.jupyter.widget-view+json": {
       "model_id": "97d8d278d7554816a10727ed2814bf02",
       "version_major": 2,
       "version_minor": 0
      },
      "text/plain": [
       "HBox(children=(IntProgress(value=0, description='Epoch 13', max=9427, style=ProgressStyle(description_width='i…"
      ]
     },
     "metadata": {},
     "output_type": "display_data"
    },
    {
     "data": {
      "application/vnd.jupyter.widget-view+json": {
       "model_id": "5746a1d468f84c9f8a209e7ddd79c820",
       "version_major": 2,
       "version_minor": 0
      },
      "text/plain": [
       "HBox(children=(IntProgress(value=0, description='Epoch 14', max=9427, style=ProgressStyle(description_width='i…"
      ]
     },
     "metadata": {},
     "output_type": "display_data"
    },
    {
     "data": {
      "application/vnd.jupyter.widget-view+json": {
       "model_id": "88892dba4cc14b6e815a9b48462cf9fb",
       "version_major": 2,
       "version_minor": 0
      },
      "text/plain": [
       "HBox(children=(IntProgress(value=0, description='Epoch 15', max=9427, style=ProgressStyle(description_width='i…"
      ]
     },
     "metadata": {},
     "output_type": "display_data"
    },
    {
     "data": {
      "application/vnd.jupyter.widget-view+json": {
       "model_id": "522d7dfd708448999f20d6a50719b8b3",
       "version_major": 2,
       "version_minor": 0
      },
      "text/plain": [
       "HBox(children=(IntProgress(value=0, description='Epoch 16', max=9427, style=ProgressStyle(description_width='i…"
      ]
     },
     "metadata": {},
     "output_type": "display_data"
    },
    {
     "data": {
      "application/vnd.jupyter.widget-view+json": {
       "model_id": "93c26a7dca6046b5ad2a684c4a89540a",
       "version_major": 2,
       "version_minor": 0
      },
      "text/plain": [
       "HBox(children=(IntProgress(value=0, description='Epoch 17', max=9427, style=ProgressStyle(description_width='i…"
      ]
     },
     "metadata": {},
     "output_type": "display_data"
    },
    {
     "data": {
      "application/vnd.jupyter.widget-view+json": {
       "model_id": "823020615a0947f9acd88a72cef5f3ed",
       "version_major": 2,
       "version_minor": 0
      },
      "text/plain": [
       "HBox(children=(IntProgress(value=0, description='Epoch 18', max=9427, style=ProgressStyle(description_width='i…"
      ]
     },
     "metadata": {},
     "output_type": "display_data"
    },
    {
     "data": {
      "application/vnd.jupyter.widget-view+json": {
       "model_id": "98f166ce43714dc59770395bac21a2c2",
       "version_major": 2,
       "version_minor": 0
      },
      "text/plain": [
       "HBox(children=(IntProgress(value=0, description='Epoch 19', max=9427, style=ProgressStyle(description_width='i…"
      ]
     },
     "metadata": {},
     "output_type": "display_data"
    },
    {
     "data": {
      "application/vnd.jupyter.widget-view+json": {
       "model_id": "972e2a8219a94cb5b435ef4a3dbd6cb4",
       "version_major": 2,
       "version_minor": 0
      },
      "text/plain": [
       "HBox(children=(IntProgress(value=0, description='Epoch 20', max=9427, style=ProgressStyle(description_width='i…"
      ]
     },
     "metadata": {},
     "output_type": "display_data"
    },
    {
     "data": {
      "application/vnd.jupyter.widget-view+json": {
       "model_id": "7e8db34d544f456c99ebf534afe4f24d",
       "version_major": 2,
       "version_minor": 0
      },
      "text/plain": [
       "HBox(children=(IntProgress(value=0, description='Epoch 21', max=9427, style=ProgressStyle(description_width='i…"
      ]
     },
     "metadata": {},
     "output_type": "display_data"
    },
    {
     "data": {
      "application/vnd.jupyter.widget-view+json": {
       "model_id": "30e27ab151364f3880d903c5ef9038df",
       "version_major": 2,
       "version_minor": 0
      },
      "text/plain": [
       "HBox(children=(IntProgress(value=0, description='Epoch 22', max=9427, style=ProgressStyle(description_width='i…"
      ]
     },
     "metadata": {},
     "output_type": "display_data"
    },
    {
     "data": {
      "application/vnd.jupyter.widget-view+json": {
       "model_id": "48d4360702214e388bd8d138ebbf75cd",
       "version_major": 2,
       "version_minor": 0
      },
      "text/plain": [
       "HBox(children=(IntProgress(value=0, description='Epoch 23', max=9427, style=ProgressStyle(description_width='i…"
      ]
     },
     "metadata": {},
     "output_type": "display_data"
    },
    {
     "data": {
      "application/vnd.jupyter.widget-view+json": {
       "model_id": "03e183abff7e4cd1b933602b6cd0dcb4",
       "version_major": 2,
       "version_minor": 0
      },
      "text/plain": [
       "HBox(children=(IntProgress(value=0, description='Epoch 24', max=9427, style=ProgressStyle(description_width='i…"
      ]
     },
     "metadata": {},
     "output_type": "display_data"
    }
   ],
   "source": [
    "#compile model\n",
    "#Could train longer\n",
    "model3 = BaselineModel3()\n",
    "model3.compile()\n",
    "\n",
    "#shape of training data\n",
    "#print(data['train']['text'].shape)\n",
    "\n",
    "#train model NOT CROSS VALIDATION\n",
    "history = model3.fit([data['train']['text']],keras.utils.to_categorical(data['train']['y'],0),\n",
    "                     epochs=25,verbose=0,callbacks=[TQDMNotebookCallback(leave_inner=True,)\n",
    "    ],\n",
    "    validation_data=(\n",
    "        [data['val']['text']],\n",
    "        keras.utils.to_categorical(data['val']['y'],0)\n",
    "    ),\n",
    "    batch_size=32\n",
    ")"
   ]
  },
  {
   "cell_type": "code",
   "execution_count": 266,
   "metadata": {},
   "outputs": [
    {
     "data": {
      "image/png": "[encoded data removed]",
      "text/plain": [
       "<Figure size 432x288 with 1 Axes>"
      ]
     },
     "metadata": {
      "needs_background": "light"
     },
     "output_type": "display_data"
    }
   ],
   "source": [
    "#Evaluate training model\n",
    "import matplotlib.pyplot as plt\n",
    "\n",
    "plt.plot(history.epoch,history.history['loss'],history.epoch,history.history['val_loss'])\n",
    "plt.show()\n",
    "#_=_\n",
    "#yellow= evaluation data"
   ]
  },
  {
   "cell_type": "code",
   "execution_count": 267,
   "metadata": {},
   "outputs": [],
   "source": [
    "#SKIP: Save Model\n",
    "from keras.models import load_model\n",
    "model3.save('model3.h5')"
   ]
  },
  {
   "cell_type": "code",
   "execution_count": 268,
   "metadata": {},
   "outputs": [
    {
     "name": "stdout",
     "output_type": "stream",
     "text": [
      "Loaded model from disk\n"
     ]
    }
   ],
   "source": [
    "#Load Model with saved weights\n",
    "model3.load_weights(\"model3.h5\")\n",
    "print(\"Loaded model from disk\")"
   ]
  },
  {
   "cell_type": "code",
   "execution_count": 269,
   "metadata": {},
   "outputs": [
    {
     "name": "stdout",
     "output_type": "stream",
     "text": [
      "Accuracy score on 333 test samples: 0.651652\n",
      "{'predict:1 actual:5': 10, 'predict:1 actual:3': 33, 'predict:5 actual:3': 39, 'predict:5 actual:1': 11, 'predict:3 actual:1': 12, 'predict:3 actual:5': 11}\n",
      "{5: 21, 3: 72, 1: 23}\n",
      "{5: 103, 3: 118, 1: 112}\n",
      "{0.7946428571428572, 0.38983050847457623, 0.7961165048543689}\n"
     ]
    }
   ],
   "source": [
    "#Evaluate with test data\n",
    "\n",
    "from sklearn.metrics import accuracy_score\n",
    "h = model3.predict([data['test']['text']])\n",
    "predict = np.asarray([np.argmax(i) for i in h])\n",
    "gold = np.asarray(data['test']['y'])\n",
    "resultf1 = accuracy_score(gold, predict)\n",
    "print('Accuracy score on {} test samples: {:.6}'.format(\n",
    "    len(predict), resultf1\n",
    "))\n",
    "\n",
    "#show breakdown of accuracy\n",
    "test = predict/gold\n",
    "out=[]\n",
    "for val in test:\n",
    "    if(val==3/5):\n",
    "        out.append(\"predict:3 actual:5\")\n",
    "    if(val==1/5):\n",
    "        out.append(\"predict:1 actual:5\")\n",
    "    if(val==1/3):\n",
    "        out.append(\"predict:1 actual:3\")\n",
    "    if(val==5/3):\n",
    "        out.append(\"predict:5 actual:3\")\n",
    "    if(val==3/1):\n",
    "        out.append(\"predict:3 actual:1\")\n",
    "    if(val==5/1):\n",
    "        out.append(\"predict:5 actual:1\")\n",
    "\n",
    "missedNum=[]\n",
    "for val in test:\n",
    "    if(val==3/5 or val==1/5):\n",
    "        missedNum.append(5)\n",
    "    if(val==1/3 or val==5/3):\n",
    "        missedNum.append(3)\n",
    "    if(val==3/1 or val == 5/1):\n",
    "        missedNum.append(1)\n",
    "#equals the number of incorrect guesses for a specific num\n",
    "missedNum = {i:missedNum.count(i) for i in missedNum}\n",
    "\n",
    "#equals the number of incorrect guesses of a specific num for a specific num\n",
    "incorrect = {i:out.count(i) for i in out}\n",
    "\n",
    "actualNum= gold.tolist()\n",
    "#equals the number of actual of each number\n",
    "actualNum = {i:actualNum.count(i) for i in actualNum}\n",
    "accuracy = []\n",
    "print(incorrect)\n",
    "print(missedNum)  \n",
    "print(actualNum)\n",
    "accuracy.append(missedNum.get(1)/actualNum.get(1))\n",
    "accuracy.append(missedNum.get(3)/actualNum.get(3))\n",
    "accuracy.append(missedNum.get(5)/actualNum.get(5))\n",
    "accuracy= {1-i for i in accuracy}\n",
    "print(accuracy)"
   ]
  },
  {
   "cell_type": "code",
   "execution_count": null,
   "metadata": {},
   "outputs": [],
   "source": []
  }
 ],
 "metadata": {
  "kernelspec": {
   "display_name": "Python 3",
   "language": "python",
   "name": "python3"
  },
  "language_info": {
   "codemirror_mode": {
    "name": "ipython",
    "version": 3
   },
   "file_extension": ".py",
   "mimetype": "text/x-python",
   "name": "python",
   "nbconvert_exporter": "python",
   "pygments_lexer": "ipython3",
   "version": "3.6.4"
  },
  "toc": {
   "nav_menu": {},
   "number_sections": true,
   "sideBar": true,
   "skip_h1_title": false,
   "toc_cell": false,
   "toc_position": {},
   "toc_section_display": "block",
   "toc_window_display": true
  },
  "varInspector": {
   "cols": {
    "lenName": 16,
    "lenType": 16,
    "lenVar": 40
   },
   "kernels_config": {
    "python": {
     "delete_cmd_postfix": "",
     "delete_cmd_prefix": "del ",
     "library": "var_list.py",
     "varRefreshCmd": "print(var_dic_list())"
    },
    "r": {
     "delete_cmd_postfix": ") ",
     "delete_cmd_prefix": "rm(",
     "library": "var_list.r",
     "varRefreshCmd": "cat(var_dic_list()) "
    }
   },
   "position": {
    "height": "663px",
    "left": "1713.33px",
    "right": "20px",
    "top": "120px",
    "width": "350px"
   },
   "types_to_exclude": [
    "module",
    "function",
    "builtin_function_or_method",
    "instance",
    "_Feature"
   ],
   "window_display": true
  }
 },
 "nbformat": 4,
 "nbformat_minor": 2
}
