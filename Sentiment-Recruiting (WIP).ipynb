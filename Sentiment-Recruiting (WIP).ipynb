{
 "cells": [
  {
   "cell_type": "markdown",
   "metadata": {},
   "source": [
    "# Sentiment Analysis "
   ]
  },
  {
   "cell_type": "code",
   "execution_count": 1,
   "metadata": {},
   "outputs": [
    {
     "name": "stderr",
     "output_type": "stream",
     "text": [
      "Using TensorFlow backend.\n"
     ]
    }
   ],
   "source": [
    "from __future__ import print_function\n",
    "import sys\n",
    "import csv\n",
    "import numpy as np\n",
    "from numpy import exp, array, random, dot\n",
    "import pandas as pd\n",
    "import nltk\n",
    "import spacy\n",
    "import tensorflow as tf\n",
    "import sklearn\n",
    "import en_core_web_sm\n",
    "import vaderSentiment\n",
    "from gensim.models import KeyedVectors\n",
    "import keras\n",
    "from keras import layers\n",
    "from keras import backend as K\n",
    "from keras_tqdm import TQDMNotebookCallback\n",
    "from IPython import display\n",
    "from keras.preprocessing.sequence import pad_sequences \n",
    "from vaderSentiment.vaderSentiment import SentimentIntensityAnalyzer\n",
    "from collections import Counter\n",
    "import numpy as np\n",
    "import fastText\n",
    "sid = SentimentIntensityAnalyzer()"
   ]
  },
  {
   "cell_type": "markdown",
   "metadata": {},
   "source": [
    "The identification of sentiment in text is an important field of study, it usually involves detecting whether a piece of text expresses a POSITIVE, a NEGATIVE, or a NEUTRAL sentiment; the sentiment can be general or about a specific topic, e.g., a person, a product, or an event.\n",
    "\n",
    "Sentiment analysis has been part of the international workshop on Semantic Evaluation ([SemEval](https://en.wikipedia.org/wiki/SemEval)) for multiple years ([2016](http://anthology.aclweb.org/S/S16/S16-1001.pdf), [2017](http://www.aclweb.org/anthology/S17-2088)).\n",
    "\n",
    "You task is to implement a neural network that predicts sentiment (POSITIVE, NEGATIVE, NEUTRAL) for a given text.\n",
    "\n",
    "In the following sections, we provide the dataset preperation, a basic model, training and evaluation.\n"
   ]
  },
  {
   "cell_type": "markdown",
   "metadata": {},
   "source": [
    "## Dataset"
   ]
  },
  {
   "cell_type": "markdown",
   "metadata": {},
   "source": [
    "The dataset we are using to train and test our model is generated from German Amazon reviews."
   ]
  },
  {
   "cell_type": "markdown",
   "metadata": {},
   "source": [
    "The input is the text of the review, and the network will try to predict the star ratings."
   ]
  },
  {
   "cell_type": "markdown",
   "metadata": {},
   "source": [
    "We include only reviews with 1,3 and 5 star ratings, where: \n",
    "* 1 is considered negative\n",
    "* 3 is considered neutral\n",
    "* 5 is considered positive\n",
    "\n",
    "All reviews with rating 2,4 are not included in our dataset.\n"
   ]
  },
  {
   "cell_type": "markdown",
   "metadata": {},
   "source": [
    "### Loading the data"
   ]
  },
  {
   "cell_type": "markdown",
   "metadata": {},
   "source": [
    "We already created a python script that returns amazon reviews whose star ratings are either 1,3 or 5."
   ]
  },
  {
   "cell_type": "code",
   "execution_count": null,
   "metadata": {},
   "outputs": [],
   "source": [
    "#DON'T NEED TO RUN EVERYTIME\n",
    "dfTest =pd.read_csv(\"tweetTrainingContext.csv\", header=None)\n",
    "dfTest.drop(0, axis=1, inplace=True)\n",
    "dfTest = dfTest[dfTest[2] != 1]\n",
    "dfTest = dfTest[dfTest[2] != -1]\n",
    "dfTest.loc[dfTest[2] == 2, 2] = 5\n",
    "dfTest.loc[dfTest[2] == -2, 2] = 1\n",
    "dfTest.loc[dfTest[2] == 0, 2] = 3\n",
    "#dfTest[2].sample(n=43, replace=True, random_state=1)\n",
    "print (Counter(dfTest[2]))\n",
    "dfTest.columns=['subject','label','body']\n",
    "dfTest.to_csv(\"tweetTrainingContextFilter.csv\")"
   ]
  },
  {
   "cell_type": "code",
   "execution_count": 2,
   "metadata": {},
   "outputs": [],
   "source": [
    "#LOAD TRAINING DATA\n",
    "#{3: 2912, 5: 638, 1: 161})\n",
    "dfTrain = pd.read_csv(\"tweetTrainingContextFilter.csv\")\n"
   ]
  },
  {
   "cell_type": "code",
   "execution_count": 4,
   "metadata": {},
   "outputs": [
    {
     "data": {
      "text/html": [
       "<div>\n",
       "<style scoped>\n",
       "    .dataframe tbody tr th:only-of-type {\n",
       "        vertical-align: middle;\n",
       "    }\n",
       "\n",
       "    .dataframe tbody tr th {\n",
       "        vertical-align: top;\n",
       "    }\n",
       "\n",
       "    .dataframe thead th {\n",
       "        text-align: right;\n",
       "    }\n",
       "</style>\n",
       "<table border=\"1\" class=\"dataframe\">\n",
       "  <thead>\n",
       "    <tr style=\"text-align: right;\">\n",
       "      <th></th>\n",
       "      <th>Unnamed: 0</th>\n",
       "      <th>subject</th>\n",
       "      <th>label</th>\n",
       "      <th>body</th>\n",
       "    </tr>\n",
       "  </thead>\n",
       "  <tbody>\n",
       "    <tr>\n",
       "      <th>0</th>\n",
       "      <td>1</td>\n",
       "      <td>sony</td>\n",
       "      <td>3</td>\n",
       "      <td>@PersonaSoda well yeah, that's third parties. ...</td>\n",
       "    </tr>\n",
       "    <tr>\n",
       "      <th>1</th>\n",
       "      <td>6</td>\n",
       "      <td>sony</td>\n",
       "      <td>3</td>\n",
       "      <td>Sony's 1st teaser package for the launch of th...</td>\n",
       "    </tr>\n",
       "    <tr>\n",
       "      <th>2</th>\n",
       "      <td>7</td>\n",
       "      <td>sony</td>\n",
       "      <td>3</td>\n",
       "      <td>#tv Ind vs SL 3rd Test Day 3: Cricket live sco...</td>\n",
       "    </tr>\n",
       "    <tr>\n",
       "      <th>3</th>\n",
       "      <td>8</td>\n",
       "      <td>sony</td>\n",
       "      <td>3</td>\n",
       "      <td>@TruthInsider @bertymufc @gamerxone720 @PNF4LY...</td>\n",
       "    </tr>\n",
       "    <tr>\n",
       "      <th>4</th>\n",
       "      <td>9</td>\n",
       "      <td>sony</td>\n",
       "      <td>3</td>\n",
       "      <td>@greencapt Official reason, because the game h...</td>\n",
       "    </tr>\n",
       "    <tr>\n",
       "      <th>5</th>\n",
       "      <td>12</td>\n",
       "      <td>sony</td>\n",
       "      <td>3</td>\n",
       "      <td>I know it's coming coon but I don't get why it...</td>\n",
       "    </tr>\n",
       "    <tr>\n",
       "      <th>6</th>\n",
       "      <td>15</td>\n",
       "      <td>sony</td>\n",
       "      <td>3</td>\n",
       "      <td>At least Sony will probably be selling it for ...</td>\n",
       "    </tr>\n",
       "    <tr>\n",
       "      <th>7</th>\n",
       "      <td>16</td>\n",
       "      <td>sony</td>\n",
       "      <td>3</td>\n",
       "      <td>@InnoBystander Might keep SONY monthly subs go...</td>\n",
       "    </tr>\n",
       "    <tr>\n",
       "      <th>8</th>\n",
       "      <td>18</td>\n",
       "      <td>sony</td>\n",
       "      <td>3</td>\n",
       "      <td>Uncharted 4: A Thief's End launches for PS4 in...</td>\n",
       "    </tr>\n",
       "    <tr>\n",
       "      <th>9</th>\n",
       "      <td>21</td>\n",
       "      <td>sony</td>\n",
       "      <td>3</td>\n",
       "      <td>@Adam_OliverYT Hi Adam, you may need to contac...</td>\n",
       "    </tr>\n",
       "    <tr>\n",
       "      <th>10</th>\n",
       "      <td>22</td>\n",
       "      <td>sony</td>\n",
       "      <td>3</td>\n",
       "      <td>Oh my gosh actual acknowledgement from Sony th...</td>\n",
       "    </tr>\n",
       "    <tr>\n",
       "      <th>11</th>\n",
       "      <td>31</td>\n",
       "      <td>sony</td>\n",
       "      <td>3</td>\n",
       "      <td>Sony may release first smartphone with 4K scre...</td>\n",
       "    </tr>\n",
       "    <tr>\n",
       "      <th>12</th>\n",
       "      <td>33</td>\n",
       "      <td>sony</td>\n",
       "      <td>3</td>\n",
       "      <td>@vsamuel323 For any information on this we ask...</td>\n",
       "    </tr>\n",
       "    <tr>\n",
       "      <th>13</th>\n",
       "      <td>34</td>\n",
       "      <td>sony</td>\n",
       "      <td>3</td>\n",
       "      <td>Rich Guys Can't Make Other Rich Guys Look Bad:...</td>\n",
       "    </tr>\n",
       "    <tr>\n",
       "      <th>14</th>\n",
       "      <td>36</td>\n",
       "      <td>sony</td>\n",
       "      <td>1</td>\n",
       "      <td>Exactly why I'll never buy Sony. Those 1st cla...</td>\n",
       "    </tr>\n",
       "    <tr>\n",
       "      <th>15</th>\n",
       "      <td>37</td>\n",
       "      <td>sony</td>\n",
       "      <td>3</td>\n",
       "      <td>Sony may have cut scenes from #WillSmith's fil...</td>\n",
       "    </tr>\n",
       "    <tr>\n",
       "      <th>16</th>\n",
       "      <td>39</td>\n",
       "      <td>sony</td>\n",
       "      <td>3</td>\n",
       "      <td>New phone on Saturday! Torn between Sony z3 or...</td>\n",
       "    </tr>\n",
       "    <tr>\n",
       "      <th>17</th>\n",
       "      <td>40</td>\n",
       "      <td>sony</td>\n",
       "      <td>3</td>\n",
       "      <td>Do you see Sony pulling shit like this? No.  h...</td>\n",
       "    </tr>\n",
       "    <tr>\n",
       "      <th>18</th>\n",
       "      <td>41</td>\n",
       "      <td>sony</td>\n",
       "      <td>3</td>\n",
       "      <td>Sony went all out with this new high-tech smar...</td>\n",
       "    </tr>\n",
       "    <tr>\n",
       "      <th>19</th>\n",
       "      <td>43</td>\n",
       "      <td>sony</td>\n",
       "      <td>3</td>\n",
       "      <td>Sony's pulling a #TASM2 by beginning pre-produ...</td>\n",
       "    </tr>\n",
       "    <tr>\n",
       "      <th>20</th>\n",
       "      <td>44</td>\n",
       "      <td>sony</td>\n",
       "      <td>3</td>\n",
       "      <td>@martymegs @SonyUK @johnlewisretail it's Frida...</td>\n",
       "    </tr>\n",
       "    <tr>\n",
       "      <th>21</th>\n",
       "      <td>45</td>\n",
       "      <td>sony</td>\n",
       "      <td>3</td>\n",
       "      <td>Sony Xperia Z5, Xperia Z5 Compact Price, Xperi...</td>\n",
       "    </tr>\n",
       "    <tr>\n",
       "      <th>22</th>\n",
       "      <td>47</td>\n",
       "      <td>sony</td>\n",
       "      <td>3</td>\n",
       "      <td>Xperia Z5 pre-orders available at the Carphone...</td>\n",
       "    </tr>\n",
       "    <tr>\n",
       "      <th>23</th>\n",
       "      <td>48</td>\n",
       "      <td>sony</td>\n",
       "      <td>3</td>\n",
       "      <td>#IFA2015: International Fair of Electronic Con...</td>\n",
       "    </tr>\n",
       "    <tr>\n",
       "      <th>24</th>\n",
       "      <td>51</td>\n",
       "      <td>sony</td>\n",
       "      <td>3</td>\n",
       "      <td>@GeorgeGegham Marvel is in charge now, no way ...</td>\n",
       "    </tr>\n",
       "    <tr>\n",
       "      <th>25</th>\n",
       "      <td>52</td>\n",
       "      <td>sony</td>\n",
       "      <td>3</td>\n",
       "      <td>M$: Sony is gobbling up 3rd Party Exclusives  ...</td>\n",
       "    </tr>\n",
       "    <tr>\n",
       "      <th>26</th>\n",
       "      <td>53</td>\n",
       "      <td>sony</td>\n",
       "      <td>3</td>\n",
       "      <td>The New York Times reported Tuesday that Sony ...</td>\n",
       "    </tr>\n",
       "    <tr>\n",
       "      <th>27</th>\n",
       "      <td>54</td>\n",
       "      <td>sony</td>\n",
       "      <td>3</td>\n",
       "      <td>What evidence is there that says North Korea h...</td>\n",
       "    </tr>\n",
       "    <tr>\n",
       "      <th>28</th>\n",
       "      <td>55</td>\n",
       "      <td>sony</td>\n",
       "      <td>3</td>\n",
       "      <td>@StevieBenton Dunno about tinder style. Sony h...</td>\n",
       "    </tr>\n",
       "    <tr>\n",
       "      <th>29</th>\n",
       "      <td>59</td>\n",
       "      <td>sony</td>\n",
       "      <td>3</td>\n",
       "      <td>@blakejharrisNYC could hit the 3rd console war...</td>\n",
       "    </tr>\n",
       "    <tr>\n",
       "      <th>...</th>\n",
       "      <td>...</td>\n",
       "      <td>...</td>\n",
       "      <td>...</td>\n",
       "      <td>...</td>\n",
       "    </tr>\n",
       "    <tr>\n",
       "      <th>3681</th>\n",
       "      <td>9897</td>\n",
       "      <td>messi</td>\n",
       "      <td>5</td>\n",
       "      <td>Top 3 players in the world? Has to be: Suarez/...</td>\n",
       "    </tr>\n",
       "    <tr>\n",
       "      <th>3682</th>\n",
       "      <td>9899</td>\n",
       "      <td>messi</td>\n",
       "      <td>3</td>\n",
       "      <td>May as well scribble out the 5 on the FIFA 15 ...</td>\n",
       "    </tr>\n",
       "    <tr>\n",
       "      <th>3683</th>\n",
       "      <td>9901</td>\n",
       "      <td>metlife</td>\n",
       "      <td>3</td>\n",
       "      <td>Sigh otra MetLife is tomorrow and I'm not goin...</td>\n",
       "    </tr>\n",
       "    <tr>\n",
       "      <th>3684</th>\n",
       "      <td>9905</td>\n",
       "      <td>metlife</td>\n",
       "      <td>5</td>\n",
       "      <td>@Harry_Styles goodnight babe hope you are rest...</td>\n",
       "    </tr>\n",
       "    <tr>\n",
       "      <th>3685</th>\n",
       "      <td>9906</td>\n",
       "      <td>metlife</td>\n",
       "      <td>5</td>\n",
       "      <td>@NiallOfficial hope you have a nice day tomorr...</td>\n",
       "    </tr>\n",
       "    <tr>\n",
       "      <th>3686</th>\n",
       "      <td>9910</td>\n",
       "      <td>metlife</td>\n",
       "      <td>3</td>\n",
       "      <td>@itssabrinagable some acc on twitter which is ...</td>\n",
       "    </tr>\n",
       "    <tr>\n",
       "      <th>3687</th>\n",
       "      <td>9911</td>\n",
       "      <td>metlife</td>\n",
       "      <td>3</td>\n",
       "      <td>I wish I was going to MetLife tonight but I'm ...</td>\n",
       "    </tr>\n",
       "    <tr>\n",
       "      <th>3688</th>\n",
       "      <td>9912</td>\n",
       "      <td>metlife</td>\n",
       "      <td>3</td>\n",
       "      <td>@bestdittyvideos ok so someone on Twitter said...</td>\n",
       "    </tr>\n",
       "    <tr>\n",
       "      <th>3689</th>\n",
       "      <td>9913</td>\n",
       "      <td>metlife</td>\n",
       "      <td>3</td>\n",
       "      <td>today is the day \"harry styles will die at met...</td>\n",
       "    </tr>\n",
       "    <tr>\n",
       "      <th>3690</th>\n",
       "      <td>9923</td>\n",
       "      <td>metlife</td>\n",
       "      <td>3</td>\n",
       "      <td>@hsdelevingne he had death threats in july (I ...</td>\n",
       "    </tr>\n",
       "    <tr>\n",
       "      <th>3691</th>\n",
       "      <td>9929</td>\n",
       "      <td>metlife</td>\n",
       "      <td>3</td>\n",
       "      <td>I'll upload the rest of my videos from MetLife...</td>\n",
       "    </tr>\n",
       "    <tr>\n",
       "      <th>3692</th>\n",
       "      <td>9930</td>\n",
       "      <td>metlife</td>\n",
       "      <td>3</td>\n",
       "      <td>Panoramas of the crowd/stadium last night at M...</td>\n",
       "    </tr>\n",
       "    <tr>\n",
       "      <th>3693</th>\n",
       "      <td>9931</td>\n",
       "      <td>metlife</td>\n",
       "      <td>3</td>\n",
       "      <td>@uanreckless @_Soma_MO Yeah I saw that. It loo...</td>\n",
       "    </tr>\n",
       "    <tr>\n",
       "      <th>3694</th>\n",
       "      <td>9933</td>\n",
       "      <td>metlife</td>\n",
       "      <td>3</td>\n",
       "      <td>I couldn't go to MetLife so I'm going to a con...</td>\n",
       "    </tr>\n",
       "    <tr>\n",
       "      <th>3695</th>\n",
       "      <td>9936</td>\n",
       "      <td>metlife</td>\n",
       "      <td>3</td>\n",
       "      <td>@CLoprestiWFAN Did I just hear Bowles say that...</td>\n",
       "    </tr>\n",
       "    <tr>\n",
       "      <th>3696</th>\n",
       "      <td>9937</td>\n",
       "      <td>metlife</td>\n",
       "      <td>3</td>\n",
       "      <td>I may haven't been close to Louis at MetLife b...</td>\n",
       "    </tr>\n",
       "    <tr>\n",
       "      <th>3697</th>\n",
       "      <td>9939</td>\n",
       "      <td>metlife</td>\n",
       "      <td>3</td>\n",
       "      <td>Todd Bowles and players talk about what they'r...</td>\n",
       "    </tr>\n",
       "    <tr>\n",
       "      <th>3698</th>\n",
       "      <td>9946</td>\n",
       "      <td>metlife</td>\n",
       "      <td>3</td>\n",
       "      <td>did jessie almost faint at MetLife too the wor...</td>\n",
       "    </tr>\n",
       "    <tr>\n",
       "      <th>3699</th>\n",
       "      <td>9948</td>\n",
       "      <td>metlife</td>\n",
       "      <td>3</td>\n",
       "      <td>Harry talking to the 9 year old boy/auctioning...</td>\n",
       "    </tr>\n",
       "    <tr>\n",
       "      <th>3700</th>\n",
       "      <td>9949</td>\n",
       "      <td>metlife</td>\n",
       "      <td>3</td>\n",
       "      <td>@ItIsWhatItIs__ yea I went to the one at MetLi...</td>\n",
       "    </tr>\n",
       "    <tr>\n",
       "      <th>3701</th>\n",
       "      <td>9973</td>\n",
       "      <td>metlife</td>\n",
       "      <td>3</td>\n",
       "      <td>It's the Atlanta Falcons (1-0) against the New...</td>\n",
       "    </tr>\n",
       "    <tr>\n",
       "      <th>3702</th>\n",
       "      <td>9975</td>\n",
       "      <td>metlife</td>\n",
       "      <td>3</td>\n",
       "      <td>I'll be live streaming the sad Giants fans via...</td>\n",
       "    </tr>\n",
       "    <tr>\n",
       "      <th>3703</th>\n",
       "      <td>9977</td>\n",
       "      <td>metlife</td>\n",
       "      <td>3</td>\n",
       "      <td>I have 4 seats to the Giants game at MetLife t...</td>\n",
       "    </tr>\n",
       "    <tr>\n",
       "      <th>3704</th>\n",
       "      <td>9978</td>\n",
       "      <td>metlife</td>\n",
       "      <td>3</td>\n",
       "      <td>I have one possibly two extra tickets to see Z...</td>\n",
       "    </tr>\n",
       "    <tr>\n",
       "      <th>3705</th>\n",
       "      <td>9979</td>\n",
       "      <td>metlife</td>\n",
       "      <td>3</td>\n",
       "      <td>im going to metlife tomorrow for a preseason g...</td>\n",
       "    </tr>\n",
       "    <tr>\n",
       "      <th>3706</th>\n",
       "      <td>9980</td>\n",
       "      <td>metlife</td>\n",
       "      <td>3</td>\n",
       "      <td>@RawbCas3 Alright, let me know. Want to see AC...</td>\n",
       "    </tr>\n",
       "    <tr>\n",
       "      <th>3707</th>\n",
       "      <td>9981</td>\n",
       "      <td>metlife</td>\n",
       "      <td>3</td>\n",
       "      <td>Going to the Giants-Panthers game December 20 ...</td>\n",
       "    </tr>\n",
       "    <tr>\n",
       "      <th>3708</th>\n",
       "      <td>9996</td>\n",
       "      <td>metlife</td>\n",
       "      <td>3</td>\n",
       "      <td>everyone who sat around me at metlife was so a...</td>\n",
       "    </tr>\n",
       "    <tr>\n",
       "      <th>3709</th>\n",
       "      <td>9997</td>\n",
       "      <td>metlife</td>\n",
       "      <td>3</td>\n",
       "      <td>what giants or niners fans would wanna go to t...</td>\n",
       "    </tr>\n",
       "    <tr>\n",
       "      <th>3710</th>\n",
       "      <td>9998</td>\n",
       "      <td>metlife</td>\n",
       "      <td>3</td>\n",
       "      <td>Anybody want a ticket for tomorrow Colombia vs...</td>\n",
       "    </tr>\n",
       "  </tbody>\n",
       "</table>\n",
       "<p>3711 rows × 4 columns</p>\n",
       "</div>"
      ],
      "text/plain": [
       "      Unnamed: 0  subject  label  \\\n",
       "0              1     sony      3   \n",
       "1              6     sony      3   \n",
       "2              7     sony      3   \n",
       "3              8     sony      3   \n",
       "4              9     sony      3   \n",
       "5             12     sony      3   \n",
       "6             15     sony      3   \n",
       "7             16     sony      3   \n",
       "8             18     sony      3   \n",
       "9             21     sony      3   \n",
       "10            22     sony      3   \n",
       "11            31     sony      3   \n",
       "12            33     sony      3   \n",
       "13            34     sony      3   \n",
       "14            36     sony      1   \n",
       "15            37     sony      3   \n",
       "16            39     sony      3   \n",
       "17            40     sony      3   \n",
       "18            41     sony      3   \n",
       "19            43     sony      3   \n",
       "20            44     sony      3   \n",
       "21            45     sony      3   \n",
       "22            47     sony      3   \n",
       "23            48     sony      3   \n",
       "24            51     sony      3   \n",
       "25            52     sony      3   \n",
       "26            53     sony      3   \n",
       "27            54     sony      3   \n",
       "28            55     sony      3   \n",
       "29            59     sony      3   \n",
       "...          ...      ...    ...   \n",
       "3681        9897    messi      5   \n",
       "3682        9899    messi      3   \n",
       "3683        9901  metlife      3   \n",
       "3684        9905  metlife      5   \n",
       "3685        9906  metlife      5   \n",
       "3686        9910  metlife      3   \n",
       "3687        9911  metlife      3   \n",
       "3688        9912  metlife      3   \n",
       "3689        9913  metlife      3   \n",
       "3690        9923  metlife      3   \n",
       "3691        9929  metlife      3   \n",
       "3692        9930  metlife      3   \n",
       "3693        9931  metlife      3   \n",
       "3694        9933  metlife      3   \n",
       "3695        9936  metlife      3   \n",
       "3696        9937  metlife      3   \n",
       "3697        9939  metlife      3   \n",
       "3698        9946  metlife      3   \n",
       "3699        9948  metlife      3   \n",
       "3700        9949  metlife      3   \n",
       "3701        9973  metlife      3   \n",
       "3702        9975  metlife      3   \n",
       "3703        9977  metlife      3   \n",
       "3704        9978  metlife      3   \n",
       "3705        9979  metlife      3   \n",
       "3706        9980  metlife      3   \n",
       "3707        9981  metlife      3   \n",
       "3708        9996  metlife      3   \n",
       "3709        9997  metlife      3   \n",
       "3710        9998  metlife      3   \n",
       "\n",
       "                                                   body  \n",
       "0     @PersonaSoda well yeah, that's third parties. ...  \n",
       "1     Sony's 1st teaser package for the launch of th...  \n",
       "2     #tv Ind vs SL 3rd Test Day 3: Cricket live sco...  \n",
       "3     @TruthInsider @bertymufc @gamerxone720 @PNF4LY...  \n",
       "4     @greencapt Official reason, because the game h...  \n",
       "5     I know it's coming coon but I don't get why it...  \n",
       "6     At least Sony will probably be selling it for ...  \n",
       "7     @InnoBystander Might keep SONY monthly subs go...  \n",
       "8     Uncharted 4: A Thief's End launches for PS4 in...  \n",
       "9     @Adam_OliverYT Hi Adam, you may need to contac...  \n",
       "10    Oh my gosh actual acknowledgement from Sony th...  \n",
       "11    Sony may release first smartphone with 4K scre...  \n",
       "12    @vsamuel323 For any information on this we ask...  \n",
       "13    Rich Guys Can't Make Other Rich Guys Look Bad:...  \n",
       "14    Exactly why I'll never buy Sony. Those 1st cla...  \n",
       "15    Sony may have cut scenes from #WillSmith's fil...  \n",
       "16    New phone on Saturday! Torn between Sony z3 or...  \n",
       "17    Do you see Sony pulling shit like this? No.  h...  \n",
       "18    Sony went all out with this new high-tech smar...  \n",
       "19    Sony's pulling a #TASM2 by beginning pre-produ...  \n",
       "20    @martymegs @SonyUK @johnlewisretail it's Frida...  \n",
       "21    Sony Xperia Z5, Xperia Z5 Compact Price, Xperi...  \n",
       "22    Xperia Z5 pre-orders available at the Carphone...  \n",
       "23    #IFA2015: International Fair of Electronic Con...  \n",
       "24    @GeorgeGegham Marvel is in charge now, no way ...  \n",
       "25    M$: Sony is gobbling up 3rd Party Exclusives  ...  \n",
       "26    The New York Times reported Tuesday that Sony ...  \n",
       "27    What evidence is there that says North Korea h...  \n",
       "28    @StevieBenton Dunno about tinder style. Sony h...  \n",
       "29    @blakejharrisNYC could hit the 3rd console war...  \n",
       "...                                                 ...  \n",
       "3681  Top 3 players in the world? Has to be: Suarez/...  \n",
       "3682  May as well scribble out the 5 on the FIFA 15 ...  \n",
       "3683  Sigh otra MetLife is tomorrow and I'm not goin...  \n",
       "3684  @Harry_Styles goodnight babe hope you are rest...  \n",
       "3685  @NiallOfficial hope you have a nice day tomorr...  \n",
       "3686  @itssabrinagable some acc on twitter which is ...  \n",
       "3687  I wish I was going to MetLife tonight but I'm ...  \n",
       "3688  @bestdittyvideos ok so someone on Twitter said...  \n",
       "3689  today is the day \"harry styles will die at met...  \n",
       "3690  @hsdelevingne he had death threats in july (I ...  \n",
       "3691  I'll upload the rest of my videos from MetLife...  \n",
       "3692  Panoramas of the crowd/stadium last night at M...  \n",
       "3693  @uanreckless @_Soma_MO Yeah I saw that. It loo...  \n",
       "3694  I couldn't go to MetLife so I'm going to a con...  \n",
       "3695  @CLoprestiWFAN Did I just hear Bowles say that...  \n",
       "3696  I may haven't been close to Louis at MetLife b...  \n",
       "3697  Todd Bowles and players talk about what they'r...  \n",
       "3698  did jessie almost faint at MetLife too the wor...  \n",
       "3699  Harry talking to the 9 year old boy/auctioning...  \n",
       "3700  @ItIsWhatItIs__ yea I went to the one at MetLi...  \n",
       "3701  It's the Atlanta Falcons (1-0) against the New...  \n",
       "3702  I'll be live streaming the sad Giants fans via...  \n",
       "3703  I have 4 seats to the Giants game at MetLife t...  \n",
       "3704  I have one possibly two extra tickets to see Z...  \n",
       "3705  im going to metlife tomorrow for a preseason g...  \n",
       "3706  @RawbCas3 Alright, let me know. Want to see AC...  \n",
       "3707  Going to the Giants-Panthers game December 20 ...  \n",
       "3708  everyone who sat around me at metlife was so a...  \n",
       "3709  what giants or niners fans would wanna go to t...  \n",
       "3710  Anybody want a ticket for tomorrow Colombia vs...  \n",
       "\n",
       "[3711 rows x 4 columns]"
      ]
     },
     "execution_count": 4,
     "metadata": {},
     "output_type": "execute_result"
    }
   ],
   "source": [
    "#dfTrain\n",
    "dfTrain"
   ]
  },
  {
   "cell_type": "code",
   "execution_count": null,
   "metadata": {},
   "outputs": [],
   "source": []
  },
  {
   "cell_type": "markdown",
   "metadata": {},
   "source": [
    "The number of reviews is originally not equally distributed among the ratings, so we downsampled the reviews so that there is the same number for each rating. The discarded reviews are picked at random."
   ]
  },
  {
   "cell_type": "code",
   "execution_count": 27,
   "metadata": {},
   "outputs": [
    {
     "data": {
      "text/plain": [
       "Counter({3: 675, 5: 53, 1: 43})"
      ]
     },
     "execution_count": 27,
     "metadata": {},
     "output_type": "execute_result"
    }
   ],
   "source": [
    "\n"
   ]
  },
  {
   "cell_type": "markdown",
   "metadata": {},
   "source": [
    "#### Examples"
   ]
  },
  {
   "cell_type": "markdown",
   "metadata": {},
   "source": [
    "Printing out some data examples:"
   ]
  },
  {
   "cell_type": "code",
   "execution_count": 6,
   "metadata": {},
   "outputs": [
    {
     "ename": "NameError",
     "evalue": "name 'free' is not defined",
     "output_type": "error",
     "traceback": [
      "\u001b[1;31m---------------------------------------------------------------------------\u001b[0m",
      "\u001b[1;31mNameError\u001b[0m                                 Traceback (most recent call last)",
      "\u001b[1;32m<ipython-input-6-52bf09be1615>\u001b[0m in \u001b[0;36m<module>\u001b[1;34m\u001b[0m\n\u001b[1;32m----> 1\u001b[1;33m \u001b[0mfree\u001b[0m \u001b[1;33m-\u001b[0m\u001b[0mmh\u001b[0m\u001b[1;33m\u001b[0m\u001b[0m\n\u001b[0m",
      "\u001b[1;31mNameError\u001b[0m: name 'free' is not defined"
     ]
    }
   ],
   "source": []
  },
  {
   "cell_type": "markdown",
   "metadata": {},
   "source": [
    "### Word Embeddings and Features"
   ]
  },
  {
   "cell_type": "markdown",
   "metadata": {},
   "source": [
    "To convert text to vector space, we use [word embeddings](https://en.wikipedia.org/wiki/Word_embedding) where words from the vocabulary are mapped to vectors of real numbers.\n",
    "\n",
    "Multiple versions of the word embeddings have already been implemented, we use Facebook's [FastText](https://research.fb.com/fasttext/) library.\n",
    "\n",
    "We trained our word embeddings on German wikipedia."
   ]
  },
  {
   "cell_type": "code",
   "execution_count": 3,
   "metadata": {},
   "outputs": [],
   "source": [
    "#RUN THIS: Load Models\n",
    "twitterModel = KeyedVectors.load(\"twitterModel_1000000\")\n",
    "wikiModel = KeyedVectors.load(\"wikiModel\")"
   ]
  },
  {
   "cell_type": "markdown",
   "metadata": {},
   "source": [
    "Loading the Fasttext model (the following code might take some time to run, because the model is big)"
   ]
  },
  {
   "cell_type": "code",
   "execution_count": 5,
   "metadata": {},
   "outputs": [],
   "source": [
    "#Don't have to run now\n",
    "#Creates model with word relationship given a vectors of tokenized sentances. Example: determines \"car\" is like \"automobile\"\n",
    "#basically creates model that understands human language based on input\n",
    "#takes maybe 15 min to run\n",
    "#vector i'm training on has a series of 300 token sentences/paragraphs\n",
    "en_model = KeyedVectors.load_word2vec_format(\"wiki-news-300d-1M.vec\")\n",
    "\n",
    "#en_model.save(\"wikiModel\")"
   ]
  },
  {
   "cell_type": "code",
   "execution_count": 4,
   "metadata": {},
   "outputs": [],
   "source": []
  },
  {
   "cell_type": "code",
   "execution_count": 17,
   "metadata": {},
   "outputs": [],
   "source": [
    "#DON'T BOTHER RUNNING\n",
    "#Prove model is loaded\n",
    "words = []\n",
    "\n",
    "for word in wikiModel.vocab:\n",
    "\n",
    "    words.append(word)"
   ]
  },
  {
   "cell_type": "code",
   "execution_count": 18,
   "metadata": {},
   "outputs": [
    {
     "name": "stdout",
     "output_type": "stream",
     "text": [
      "Number of Tokens: 999994\n"
     ]
    }
   ],
   "source": [
    "#DON'T BOTHER RUNNING\n",
    "#number of words in vector\n",
    "print(\"Number of Tokens: {}\".format(len(words)))"
   ]
  },
  {
   "cell_type": "code",
   "execution_count": 19,
   "metadata": {},
   "outputs": [
    {
     "name": "stdout",
     "output_type": "stream",
     "text": [
      "Dimension of a word vector: 300\n"
     ]
    }
   ],
   "source": [
    "#DON'T BOTHER RUNNING\n",
    "# Printing out the dimension of a word vector \n",
    "\n",
    "print(\"Dimension of a word vector: {}\".format(\n",
    "\n",
    "    len(wikiModel[words[0]])\n",
    "\n",
    "))"
   ]
  },
  {
   "cell_type": "code",
   "execution_count": 20,
   "metadata": {},
   "outputs": [
    {
     "name": "stdout",
     "output_type": "stream",
     "text": [
      "Vector components of a word: [ 1.0730e-01  8.9000e-03  6.0000e-04  5.5000e-03 -6.4600e-02 -6.0000e-02\n",
      "  4.5000e-02 -1.3300e-02 -3.5700e-02  4.3000e-02 -3.5600e-02 -3.2000e-03\n",
      "  7.3000e-03 -1.0000e-04  2.5800e-02 -1.6600e-02  7.5000e-03  6.8600e-02\n",
      "  3.9200e-02  7.5300e-02  1.1500e-02 -8.7000e-03  4.2100e-02  2.6500e-02\n",
      " -6.0100e-02  2.4200e-01  1.9900e-02 -7.3900e-02 -3.1000e-03 -2.6300e-02\n",
      " -6.2000e-03  1.6800e-02 -3.5700e-02 -2.4900e-02  1.9000e-02 -1.8400e-02\n",
      " -5.3700e-02  1.4200e-01  6.0000e-02  2.2600e-02 -3.8000e-03 -6.7500e-02\n",
      " -3.6000e-03 -8.0000e-03  5.7000e-02  2.0800e-02  2.2300e-02 -2.5600e-02\n",
      " -1.5300e-02  2.2000e-03 -4.8200e-02  1.3100e-02 -6.0160e-01 -8.8000e-03\n",
      "  1.0600e-02  2.2900e-02  3.3600e-02  7.1000e-03  8.8700e-02  2.3700e-02\n",
      " -2.9000e-02 -4.0500e-02 -1.2500e-02  1.4700e-02  4.7500e-02  6.4700e-02\n",
      "  4.7400e-02  1.9900e-02  4.0800e-02  3.2200e-02  3.6000e-03  3.5000e-02\n",
      " -7.2300e-02 -3.0500e-02  1.8400e-02 -2.6000e-03  2.4000e-02 -1.6000e-02\n",
      " -3.0800e-02  4.3400e-02  1.4700e-02 -4.5700e-02 -2.6700e-02 -1.7030e-01\n",
      " -9.9000e-03  4.1700e-02  2.3500e-02 -2.6000e-02 -1.5190e-01 -1.1600e-02\n",
      " -3.0600e-02 -4.1300e-02  3.3000e-02  7.2300e-02  3.6500e-02 -1.0000e-04\n",
      "  4.2000e-03  3.4600e-02  2.7700e-02 -3.0500e-02  7.8400e-02 -4.0400e-02\n",
      "  1.8700e-02 -2.2500e-02 -2.0600e-02 -1.7900e-02 -2.4280e-01  6.6900e-02\n",
      "  5.2300e-02  5.2700e-02  1.4900e-02 -7.0800e-02 -9.8700e-02  2.6300e-02\n",
      " -6.1100e-02  3.0200e-02  2.1600e-02  3.1300e-02 -1.4000e-02 -2.4950e-01\n",
      " -3.4600e-02 -4.8000e-02  2.5000e-02  2.1300e-01 -3.3000e-02 -1.5530e-01\n",
      " -2.9200e-02 -3.4600e-02  1.0740e-01  1.0000e-03 -1.1700e-02 -5.7000e-03\n",
      " -1.2800e-01 -3.8000e-03  1.3000e-02 -1.1570e-01 -1.0800e-02  2.7500e-02\n",
      "  1.5800e-02 -1.6900e-02  7.0000e-03  2.4700e-02  5.1000e-02  1.0292e+00\n",
      " -2.8300e-02 -3.1000e-02 -2.6000e-03 -3.4300e-02  5.7800e-02  4.4400e-02\n",
      "  8.1200e-02 -2.1100e-02 -8.7200e-02  1.6900e-02  4.9900e-02  4.8500e-02\n",
      "  2.2700e-02 -3.2300e-02 -3.5000e-03  4.3500e-02 -2.7500e-02  1.5400e-02\n",
      "  1.3500e-02 -4.8400e-02 -6.9900e-02 -5.0200e-02  2.7450e-01 -3.0000e-04\n",
      " -3.7100e-02  5.1700e-02 -9.0800e-02  1.3000e-03  3.6000e-02  2.8000e-02\n",
      "  8.3900e-02  9.8000e-02 -4.9000e-02 -2.4230e-01 -1.4200e-02  2.4000e-03\n",
      " -2.0700e-02  1.2000e-03  8.8000e-03 -1.4300e-02 -1.9700e-02  5.1500e-02\n",
      " -8.5000e-03  2.5700e-02  2.1540e-01  3.0100e-02  2.1100e-02  5.3000e-02\n",
      " -5.0000e-04  1.7700e-02  1.6000e-03 -5.3000e-03 -1.6200e-02 -2.2300e-02\n",
      " -1.8620e-01  3.9800e-02  6.5800e-02 -9.6200e-02 -7.6000e-03 -7.5000e-03\n",
      " -3.4200e-02 -2.6500e-02  4.2000e-02  5.2200e-02 -2.6600e-02  2.0100e-02\n",
      " -1.3310e-01 -3.6700e-02  3.5100e-02  5.1800e-02 -8.7000e-03  5.9900e-02\n",
      " -1.0860e-01 -1.8800e-02  4.8100e-02  1.0500e-02 -6.0000e-03  1.5100e-02\n",
      " -3.1000e-03  7.7000e-03 -2.7600e-02 -3.7300e-02 -2.0300e-02  4.7200e-02\n",
      "  2.4600e-02  1.4400e-01  5.4200e-02 -2.2500e-02  2.4950e-01  1.6170e-01\n",
      "  3.8000e-03  1.1190e-01 -2.3000e-02 -7.8500e-02  2.5000e-02 -6.1600e-02\n",
      " -4.8500e-02  2.2500e-02  2.8100e-02  4.1000e-03  1.1200e-02  1.7200e-02\n",
      "  2.9100e-02 -2.8200e-02  2.6000e-03  4.0550e-01  3.9200e-02  8.8000e-03\n",
      "  2.2800e-02  2.9900e-02  1.1950e-01  5.4500e-02 -2.0000e-03  2.0000e-03\n",
      "  4.9000e-02  1.4500e-02 -8.6000e-03  9.8000e-03 -2.3600e-02  1.7100e-02\n",
      " -7.6500e-02 -4.0000e-02  1.2800e-02  1.1000e-03  4.2000e-03  2.4400e-02\n",
      "  7.5000e-03  2.0000e-02  2.0100e-02  1.9600e-02 -3.7700e-02 -4.3200e-02\n",
      " -7.3000e-03 -2.1000e-03  1.8300e-02  7.6000e-03  1.8050e-01 -5.5100e-02\n",
      "  7.5000e-03 -5.1600e-02  4.2000e-02 -6.8000e-03 -7.1100e-02 -1.4080e-01\n",
      "  5.0400e-02  2.7600e-02  4.7000e-02  3.2300e-02 -2.1900e-02  1.0000e-03\n",
      "  8.9000e-03  2.7600e-02  1.8600e-02  5.0000e-03  1.1730e-01 -4.0000e-02]\n"
     ]
    }
   ],
   "source": [
    "#DON'T BOTHER RUNNING\n",
    "# Print out the vector of a word \n",
    "\n",
    "print(\"Vector components of a word: {}\".format(\n",
    "\n",
    "    wikiModel[words[0]]\n",
    "\n",
    "))"
   ]
  },
  {
   "cell_type": "code",
   "execution_count": 7,
   "metadata": {},
   "outputs": [
    {
     "name": "stdout",
     "output_type": "stream",
     "text": [
      "Word: Hillary, Similarity: 0.78\n",
      "Word: Clintons, Similarity: 0.70\n",
      "Word: Cinton, Similarity: 0.69\n",
      "Word: Bush, Similarity: 0.69\n",
      "Word: Hiliary, Similarity: 0.69\n",
      "Word: Clinton-, Similarity: 0.68\n",
      "Word: CLinton, Similarity: 0.67\n",
      "Word: Obama, Similarity: 0.65\n",
      "Word: clinton, Similarity: 0.64\n",
      "Word: Clinto, Similarity: 0.64\n"
     ]
    },
    {
     "name": "stderr",
     "output_type": "stream",
     "text": [
      "c:\\users\\jowo\\onedrive - microsoft\\john_woods\\projects\\ml capstone\\pytest\\env\\lib\\site-packages\\ipykernel_launcher.py:11: DeprecationWarning: Call to deprecated `similar_by_word` (Method will be removed in 4.0.0, use self.wv.similar_by_word() instead).\n",
      "  # This is added back by InteractiveShellApp.init_path()\n"
     ]
    },
    {
     "name": "stdout",
     "output_type": "stream",
     "text": [
      "Word: clinton, Similarity: 0.46\n",
      "Word: HRC, Similarity: 0.41\n",
      "Word: She, Similarity: 0.39\n",
      "Word: Trump, Similarity: 0.38\n",
      "Word: she, Similarity: 0.38\n",
      "Word: HillaryClinton, Similarity: 0.37\n",
      "Word: her, Similarity: 0.36\n",
      "Word: Bernie, Similarity: 0.34\n",
      "Word: Tim, Similarity: 0.34\n",
      "Word: the, Similarity: 0.31\n"
     ]
    }
   ],
   "source": [
    "#DON'T BOTHER RUNNING\n",
    "# Finding out similar words [default= top 10]\n",
    "find_similar_to = 'Clinton'\n",
    "for similar_word in wikiModel.similar_by_word(find_similar_to):\n",
    "\n",
    "    print(\"Word: {0}, Similarity: {1:.2f}\".format(\n",
    "\n",
    "        similar_word[0], similar_word[1]\n",
    "\n",
    "    ))\n",
    "for similar_word in twitterModel.similar_by_word(find_similar_to):\n",
    "\n",
    "    print(\"Word: {0}, Similarity: {1:.2f}\".format(\n",
    "\n",
    "        similar_word[0], similar_word[1]\n",
    "\n",
    "    ))\n",
    "\n"
   ]
  },
  {
   "cell_type": "markdown",
   "metadata": {},
   "source": [
    "### Question 1\n",
    "\n",
    "What other word embedding models can we use and what are the advantages of using Fasttext?\n",
    "\n",
    "Please write your answer in the next cell:"
   ]
  },
  {
   "cell_type": "raw",
   "metadata": {
    "collapsed": true
   },
   "source": [
    "Word2Vec, GloVe\n",
    "\n",
    "Fasttext is better as it divides the word in smaller parts (called n-grams), and then generate the model as per those n-grams.\n",
    "This help in cases of those words which are rarely used, OR are not present in training set. As the probabilty of n-grams \n",
    "repeating in vocab increases as compared to that rare word."
   ]
  },
  {
   "cell_type": "markdown",
   "metadata": {},
   "source": [
    "Next, we convert all text in the dataset into sequences of word indices. A \"word index\" would simply be an integer ID for the word. We will truncate the sequences to a maximum length of 200 words.\n",
    "If sequences are shorter than 100, then we need to pad them with zeros"
   ]
  },
  {
   "cell_type": "code",
   "execution_count": 77,
   "metadata": {},
   "outputs": [],
   "source": [
    "MAX_SEQUENCE_LENGTH = 100\n",
    "#EMBEDDING_DIM = wikiModel.dim\n",
    "EMBEDDING_DIM = 300"
   ]
  },
  {
   "cell_type": "code",
   "execution_count": 78,
   "metadata": {},
   "outputs": [
    {
     "name": "stdout",
     "output_type": "stream",
     "text": [
      "300\n"
     ]
    }
   ],
   "source": [
    "print(EMBEDDING_DIM)"
   ]
  },
  {
   "cell_type": "code",
   "execution_count": 79,
   "metadata": {},
   "outputs": [
    {
     "name": "stdout",
     "output_type": "stream",
     "text": [
      "18959 unique tokens in the vocabulary\n"
     ]
    }
   ],
   "source": [
    "from keras.preprocessing.sequence import pad_sequences \n",
    "\n",
    "vocabulary = dict()\n",
    "inverse_vocabulary = ['PADDING']\n",
    "sequences = []\n",
    "for text in dfTrain.body:\n",
    "    text = text.split()\n",
    "    text_sequence = []\n",
    "    for word in text:\n",
    "        if word not in vocabulary:\n",
    "            vocabulary[word] = len(inverse_vocabulary)\n",
    "            text_sequence.append(len(inverse_vocabulary))\n",
    "            inverse_vocabulary.append(word)\n",
    "        else:\n",
    "            text_sequence.append(vocabulary[word])\n",
    "    sequences.append(text_sequence)\n",
    "print(\"%d unique tokens in the vocabulary\" %len(vocabulary))\n",
    "\n",
    "bodies_seq = pad_sequences(sequences, maxlen=MAX_SEQUENCE_LENGTH)"
   ]
  },
  {
   "cell_type": "code",
   "execution_count": 80,
   "metadata": {},
   "outputs": [
    {
     "name": "stdout",
     "output_type": "stream",
     "text": [
      "0    @PersonaSoda well yeah, that's third parties. ...\n",
      "1    Sony's 1st teaser package for the launch of th...\n",
      "Name: body, dtype: object\n"
     ]
    }
   ],
   "source": [
    "print(dfTrain.body[:2])"
   ]
  },
  {
   "cell_type": "code",
   "execution_count": 81,
   "metadata": {},
   "outputs": [],
   "source": [
    "import re\n",
    "def clean_text(text):\n",
    "    '''Clean text by removing unnecessary characters and altering the format of words.'''\n",
    "\n",
    "    text = text.lower()\n",
    "    \n",
    "    text = re.sub(r\"\\n\", \"\",  text)\n",
    "    text = re.sub(r\"[-()]\", \"\", text)\n",
    "    text = re.sub(r\"\\.\", \" .\", text)\n",
    "    text = re.sub(r\"\\!\", \" !\", text)\n",
    "    text = re.sub(r\"\\?\", \" ?\", text)\n",
    "    text = re.sub(r\"\\,\", \" ,\", text)\n",
    "    text = re.sub(r\"i'm\", \"i am\", text)\n",
    "    text = re.sub(r\"he's\", \"he is\", text)\n",
    "    text = re.sub(r\"she's\", \"she is\", text)\n",
    "    text = re.sub(r\"it's\", \"it is\", text)\n",
    "    text = re.sub(r\"that's\", \"that is\", text)\n",
    "    text = re.sub(r\"what's\", \"that is\", text)\n",
    "    text = re.sub(r\"\\'ll\", \" will\", text)\n",
    "    text = re.sub(r\"\\'re\", \" are\", text)\n",
    "    text = re.sub(r\"won't\", \"will not\", text)\n",
    "    text = re.sub(r\"can't\", \"cannot\", text)\n",
    "    text = re.sub(r\"n't\", \" not\", text)\n",
    "    text = re.sub(r\"n'\", \"ng\", text)\n",
    "    text = re.sub(r\"ohh\", \"oh\", text)\n",
    "    text = re.sub(r\"ohhh\", \"oh\", text)\n",
    "    text = re.sub(r\"ohhhh\", \"oh\", text)\n",
    "    text = re.sub(r\"ohhhhh\", \"oh\", text)\n",
    "    text = re.sub(r\"ohhhhhh\", \"oh\", text)\n",
    "    text = re.sub(r\"ahh\", \"ah\", text)\n",
    "    \n",
    "    return text"
   ]
  },
  {
   "cell_type": "code",
   "execution_count": 82,
   "metadata": {},
   "outputs": [],
   "source": [
    "bodies2 = []\n",
    "for line in dfTrain.body:\n",
    "    bodies2.append(clean_text(line))"
   ]
  },
  {
   "cell_type": "code",
   "execution_count": 83,
   "metadata": {},
   "outputs": [],
   "source": [
    "bodies=bodies2"
   ]
  },
  {
   "cell_type": "code",
   "execution_count": 84,
   "metadata": {},
   "outputs": [
    {
     "name": "stdout",
     "output_type": "stream",
     "text": [
      "13792 unique tokens in the vocabulary\n"
     ]
    }
   ],
   "source": [
    "\n",
    "\n",
    "vocabulary = dict()\n",
    "inverse_vocabulary = ['PADDING']\n",
    "sequences = []\n",
    "for text in bodies:\n",
    "    text = text.split()\n",
    "    text_sequence = []\n",
    "    for word in text:\n",
    "        if word not in vocabulary:\n",
    "            vocabulary[word] = len(inverse_vocabulary)\n",
    "            text_sequence.append(len(inverse_vocabulary))\n",
    "            inverse_vocabulary.append(word)\n",
    "        else:\n",
    "            text_sequence.append(vocabulary[word])\n",
    "    sequences.append(text_sequence)\n",
    "print(\"%d unique tokens in the vocabulary\" %len(vocabulary))\n",
    "\n",
    "bodies_seq = pad_sequences(sequences, maxlen=MAX_SEQUENCE_LENGTH)"
   ]
  },
  {
   "cell_type": "code",
   "execution_count": 85,
   "metadata": {},
   "outputs": [
    {
     "name": "stdout",
     "output_type": "stream",
     "text": [
      "[[ 0  0  0  0  0  0  0  0  0  0  0  0  0  0  0  0  0  0  0  0  0  0  0  0\n",
      "   0  0  0  0  0  0  0  0  0  0  0  0  0  0  0  0  0  0  0  0  0  0  0  0\n",
      "   0  0  0  0  0  0  0  0  0  0  0  0  0  0  0  0  0  0  0  0  0  1  2  3\n",
      "   4  5  6  7  8  9 10 11  6 12 13 14 15 16 17 18  9 18  6 19 20 21 22 23\n",
      "  24 25 26  9]\n",
      " [ 0  0  0  0  0  0  0  0  0  0  0  0  0  0  0  0  0  0  0  0  0  0  0  0\n",
      "   0  0  0  0  0  0  0  0  0  0  0  0  0  0  0  0  0  0  0  0  0  0  0  0\n",
      "   0  0  0  0  0  0  0  0  0  0  0  0  0  0  0  0  0  0  0  0  0  0  0  0\n",
      "   0  0  0  0  0  0  0  0 27 28 29 30 17 31 32 22 31 33 34 35 36 37 38 39\n",
      "  40 41 42 43]]\n"
     ]
    }
   ],
   "source": [
    "#INdex of words padded to 200 words\n",
    "print(bodies_seq[:2])"
   ]
  },
  {
   "cell_type": "markdown",
   "metadata": {},
   "source": [
    "### Question 2\n",
    "\n",
    "As you can see, there is a huge number of unique tokens extracted from the reviews. Can you think of any preprocessing steps to make the vocabulary smaller?\n",
    "\n",
    "Edit the code block above to add more preprocessing steps.\n"
   ]
  },
  {
   "cell_type": "markdown",
   "metadata": {},
   "source": [
    "### Splitting into Train/Val/Test Sets"
   ]
  },
  {
   "cell_type": "markdown",
   "metadata": {},
   "source": [
    "Split the dataset into 3 sets: train, validation and test.\n",
    "\n",
    "We use ```sklearn.model_selection.train_test_split``` twice. First to split to train, val and then split val again into val and test. "
   ]
  },
  {
   "cell_type": "code",
   "execution_count": 86,
   "metadata": {
    "scrolled": false
   },
   "outputs": [
    {
     "name": "stdout",
     "output_type": "stream",
     "text": [
      "Train: 3339 examples\n",
      "Val: 334 examples\n",
      "Test: 38 examples\n"
     ]
    }
   ],
   "source": [
    "from sklearn.model_selection import train_test_split\n",
    "\n",
    "data = {\n",
    "    'train': {},\n",
    "    'val': {},\n",
    "    'test': {},\n",
    "}\n",
    "\n",
    "(data['train']['text'],\n",
    " data['val']['text'],\n",
    " data['train']['y'],\n",
    " data['val']['y']\n",
    ") = train_test_split(bodies_seq, dfTrain.label, test_size=0.1)\n",
    "\n",
    "(data['val']['text'],\n",
    " data['test']['text'],\n",
    " data['val']['y'],\n",
    " data['test']['y']\n",
    ") = train_test_split(data['val']['text'], data['val']['y'], test_size=0.1)\n",
    "\n",
    "print('Train: {} examples'.format(len(data['train']['y'])))\n",
    "print('Val: {} examples'.format(len(data['val']['y'])))\n",
    "print('Test: {} examples'.format(len(data['test']['y'])))"
   ]
  },
  {
   "cell_type": "markdown",
   "metadata": {},
   "source": [
    "## Neural Network"
   ]
  },
  {
   "cell_type": "code",
   "execution_count": 87,
   "metadata": {},
   "outputs": [
    {
     "data": {
      "text/plain": [
       "2599    3\n",
       "2997    3\n",
       "871     1\n",
       "369     1\n",
       "705     3\n",
       "2460    3\n",
       "970     3\n",
       "1293    3\n",
       "2384    3\n",
       "3390    1\n",
       "446     3\n",
       "1754    3\n",
       "538     3\n",
       "1620    5\n",
       "3344    5\n",
       "3430    3\n",
       "377     1\n",
       "572     3\n",
       "2684    3\n",
       "3267    3\n",
       "797     3\n",
       "1852    3\n",
       "316     3\n",
       "3379    3\n",
       "2855    5\n",
       "1660    1\n",
       "2475    3\n",
       "786     3\n",
       "855     3\n",
       "3089    5\n",
       "       ..\n",
       "2703    3\n",
       "282     3\n",
       "3368    3\n",
       "617     3\n",
       "1860    3\n",
       "1523    3\n",
       "2600    3\n",
       "3141    3\n",
       "1640    1\n",
       "277     3\n",
       "5       3\n",
       "3504    3\n",
       "2707    5\n",
       "1518    3\n",
       "3260    3\n",
       "3676    3\n",
       "1266    3\n",
       "1063    3\n",
       "452     3\n",
       "702     3\n",
       "1115    3\n",
       "2136    5\n",
       "2764    3\n",
       "891     3\n",
       "1211    3\n",
       "1580    5\n",
       "3084    5\n",
       "1739    3\n",
       "3139    3\n",
       "2168    3\n",
       "Name: label, Length: 334, dtype: int64"
      ]
     },
     "execution_count": 87,
     "metadata": {},
     "output_type": "execute_result"
    }
   ],
   "source": [
    "data['val']['y']"
   ]
  },
  {
   "cell_type": "markdown",
   "metadata": {},
   "source": [
    "### The Embedding layer"
   ]
  },
  {
   "cell_type": "markdown",
   "metadata": {},
   "source": [
    "Prepare an \"embedding matrix\" which will contain at index i the embedding vector for the word of index i in our word index."
   ]
  },
  {
   "cell_type": "code",
   "execution_count": 88,
   "metadata": {},
   "outputs": [],
   "source": [
    "embedding_matrix = np.zeros((len(vocabulary) + 1, EMBEDDING_DIM)) \n",
    "for word, i in vocabulary.items():\n",
    "    if word in wikiModel:\n",
    "        embedding_matrix[i] = wikiModel[word]"
   ]
  },
  {
   "cell_type": "markdown",
   "metadata": {},
   "source": [
    "### Question 3\n",
    "\n",
    "How should we handle a word that is not found in the embeddings model (out of vocabulary words)?\n",
    "\n",
    "Please write your answer in the next cell:"
   ]
  },
  {
   "cell_type": "raw",
   "metadata": {
    "collapsed": true
   },
   "source": [
    "In ideal scenario, we can either -\n",
    "a. Either ignore those words\n",
    "b. Or generate a random embedding\n",
    "\n",
    "However, as we are using Fasttext. Which divides word into smaller parts(n-grams). So, even though word does not exist in vocabulary, it will be able to generate the embeddings by matching those n-grams."
   ]
  },
  {
   "cell_type": "code",
   "execution_count": 89,
   "metadata": {},
   "outputs": [
    {
     "name": "stdout",
     "output_type": "stream",
     "text": [
      "100\n",
      "300\n"
     ]
    }
   ],
   "source": [
    "print(MAX_SEQUENCE_LENGTH)\n",
    "print(EMBEDDING_DIM)"
   ]
  },
  {
   "cell_type": "markdown",
   "metadata": {},
   "source": [
    "### Model Definition"
   ]
  },
  {
   "cell_type": "code",
   "execution_count": 96,
   "metadata": {},
   "outputs": [],
   "source": [
    "class BaselineModel(keras.models.Model):\n",
    "    \n",
    "    def __init__(self):\n",
    "        input_layer = layers.Input(\n",
    "            shape=(MAX_SEQUENCE_LENGTH,),\n",
    "            name='Input'\n",
    "        )\n",
    "        embedding_layer = layers.Embedding(len(vocabulary) + 1,\n",
    "                            EMBEDDING_DIM,\n",
    "                            weights=[embedding_matrix],\n",
    "                            input_length=MAX_SEQUENCE_LENGTH,\n",
    "                            name='Embedding',\n",
    "                            trainable=False)(input_layer)\n",
    "            \n",
    "        fc_layer = layers.Dense(\n",
    "            units=100,\n",
    "            name='FullyConnected'\n",
    "        )(embedding_layer)\n",
    "        \n",
    "        fc_layer  = layers.Flatten(name=\"Flatten\")(fc_layer)\n",
    "        \n",
    "        predictions = layers.Dense(\n",
    "            6,\n",
    "            name='Output'\n",
    "        )(fc_layer)\n",
    "        \n",
    "        super().__init__(inputs=[input_layer], outputs=predictions)\n",
    "        \n",
    "    def compile(self):\n",
    "        return super().compile(\n",
    "            optimizer=keras.optimizers.Adam(lr=0.001),\n",
    "            loss='mse'\n",
    "        )"
   ]
  },
  {
   "cell_type": "code",
   "execution_count": 97,
   "metadata": {},
   "outputs": [],
   "source": [
    "model = BaselineModel()\n",
    "model.compile()"
   ]
  },
  {
   "cell_type": "code",
   "execution_count": 17,
   "metadata": {},
   "outputs": [
    {
     "ename": "OSError",
     "evalue": "`pydot` failed to call GraphViz.Please install GraphViz (https://www.graphviz.org/) and ensure that its executables are in the $PATH.",
     "output_type": "error",
     "traceback": [
      "\u001b[1;31m---------------------------------------------------------------------------\u001b[0m",
      "\u001b[1;31mFileNotFoundError\u001b[0m                         Traceback (most recent call last)",
      "\u001b[1;32mc:\\users\\jowo\\onedrive - microsoft\\john_woods\\projects\\ml capstone\\pytest\\env\\lib\\site-packages\\pydot.py\u001b[0m in \u001b[0;36mcreate\u001b[1;34m(self, prog, format, encoding)\u001b[0m\n\u001b[0;32m   1914\u001b[0m                 \u001b[0marguments\u001b[0m\u001b[1;33m=\u001b[0m\u001b[0marguments\u001b[0m\u001b[1;33m,\u001b[0m\u001b[1;33m\u001b[0m\u001b[0m\n\u001b[1;32m-> 1915\u001b[1;33m                 \u001b[0mworking_dir\u001b[0m\u001b[1;33m=\u001b[0m\u001b[0mtmp_dir\u001b[0m\u001b[1;33m,\u001b[0m\u001b[1;33m\u001b[0m\u001b[0m\n\u001b[0m\u001b[0;32m   1916\u001b[0m             )\n",
      "\u001b[1;32mc:\\users\\jowo\\onedrive - microsoft\\john_woods\\projects\\ml capstone\\pytest\\env\\lib\\site-packages\\pydot.py\u001b[0m in \u001b[0;36mcall_graphviz\u001b[1;34m(program, arguments, working_dir, **kwargs)\u001b[0m\n\u001b[0;32m    135\u001b[0m         \u001b[0mstdout\u001b[0m\u001b[1;33m=\u001b[0m\u001b[0msubprocess\u001b[0m\u001b[1;33m.\u001b[0m\u001b[0mPIPE\u001b[0m\u001b[1;33m,\u001b[0m\u001b[1;33m\u001b[0m\u001b[0m\n\u001b[1;32m--> 136\u001b[1;33m         \u001b[1;33m**\u001b[0m\u001b[0mkwargs\u001b[0m\u001b[1;33m\u001b[0m\u001b[0m\n\u001b[0m\u001b[0;32m    137\u001b[0m     )\n",
      "\u001b[1;32mC:\\Program Files (x86)\\Microsoft Visual Studio\\Shared\\Anaconda3_64\\lib\\subprocess.py\u001b[0m in \u001b[0;36m__init__\u001b[1;34m(self, args, bufsize, executable, stdin, stdout, stderr, preexec_fn, close_fds, shell, cwd, env, universal_newlines, startupinfo, creationflags, restore_signals, start_new_session, pass_fds, encoding, errors)\u001b[0m\n\u001b[0;32m    708\u001b[0m                                 \u001b[0merrread\u001b[0m\u001b[1;33m,\u001b[0m \u001b[0merrwrite\u001b[0m\u001b[1;33m,\u001b[0m\u001b[1;33m\u001b[0m\u001b[0m\n\u001b[1;32m--> 709\u001b[1;33m                                 restore_signals, start_new_session)\n\u001b[0m\u001b[0;32m    710\u001b[0m         \u001b[1;32mexcept\u001b[0m\u001b[1;33m:\u001b[0m\u001b[1;33m\u001b[0m\u001b[0m\n",
      "\u001b[1;32mC:\\Program Files (x86)\\Microsoft Visual Studio\\Shared\\Anaconda3_64\\lib\\subprocess.py\u001b[0m in \u001b[0;36m_execute_child\u001b[1;34m(self, args, executable, preexec_fn, close_fds, pass_fds, cwd, env, startupinfo, creationflags, shell, p2cread, p2cwrite, c2pread, c2pwrite, errread, errwrite, unused_restore_signals, unused_start_new_session)\u001b[0m\n\u001b[0;32m    996\u001b[0m                                          \u001b[0mos\u001b[0m\u001b[1;33m.\u001b[0m\u001b[0mfspath\u001b[0m\u001b[1;33m(\u001b[0m\u001b[0mcwd\u001b[0m\u001b[1;33m)\u001b[0m \u001b[1;32mif\u001b[0m \u001b[0mcwd\u001b[0m \u001b[1;32mis\u001b[0m \u001b[1;32mnot\u001b[0m \u001b[1;32mNone\u001b[0m \u001b[1;32melse\u001b[0m \u001b[1;32mNone\u001b[0m\u001b[1;33m,\u001b[0m\u001b[1;33m\u001b[0m\u001b[0m\n\u001b[1;32m--> 997\u001b[1;33m                                          startupinfo)\n\u001b[0m\u001b[0;32m    998\u001b[0m             \u001b[1;32mfinally\u001b[0m\u001b[1;33m:\u001b[0m\u001b[1;33m\u001b[0m\u001b[0m\n",
      "\u001b[1;31mFileNotFoundError\u001b[0m: [WinError 2] The system cannot find the file specified",
      "\nDuring handling of the above exception, another exception occurred:\n",
      "\u001b[1;31mFileNotFoundError\u001b[0m                         Traceback (most recent call last)",
      "\u001b[1;32mc:\\users\\jowo\\onedrive - microsoft\\john_woods\\projects\\ml capstone\\pytest\\env\\lib\\site-packages\\keras\\utils\\vis_utils.py\u001b[0m in \u001b[0;36m_check_pydot\u001b[1;34m()\u001b[0m\n\u001b[0;32m     25\u001b[0m         \u001b[1;31m# to check the pydot/graphviz installation.\u001b[0m\u001b[1;33m\u001b[0m\u001b[1;33m\u001b[0m\u001b[0m\n\u001b[1;32m---> 26\u001b[1;33m         \u001b[0mpydot\u001b[0m\u001b[1;33m.\u001b[0m\u001b[0mDot\u001b[0m\u001b[1;33m.\u001b[0m\u001b[0mcreate\u001b[0m\u001b[1;33m(\u001b[0m\u001b[0mpydot\u001b[0m\u001b[1;33m.\u001b[0m\u001b[0mDot\u001b[0m\u001b[1;33m(\u001b[0m\u001b[1;33m)\u001b[0m\u001b[1;33m)\u001b[0m\u001b[1;33m\u001b[0m\u001b[0m\n\u001b[0m\u001b[0;32m     27\u001b[0m     \u001b[1;32mexcept\u001b[0m \u001b[0mOSError\u001b[0m\u001b[1;33m:\u001b[0m\u001b[1;33m\u001b[0m\u001b[0m\n",
      "\u001b[1;32mc:\\users\\jowo\\onedrive - microsoft\\john_woods\\projects\\ml capstone\\pytest\\env\\lib\\site-packages\\pydot.py\u001b[0m in \u001b[0;36mcreate\u001b[1;34m(self, prog, format, encoding)\u001b[0m\n\u001b[0;32m   1921\u001b[0m                     prog=prog)\n\u001b[1;32m-> 1922\u001b[1;33m                 \u001b[1;32mraise\u001b[0m \u001b[0mOSError\u001b[0m\u001b[1;33m(\u001b[0m\u001b[1;33m*\u001b[0m\u001b[0margs\u001b[0m\u001b[1;33m)\u001b[0m\u001b[1;33m\u001b[0m\u001b[0m\n\u001b[0m\u001b[0;32m   1923\u001b[0m             \u001b[1;32melse\u001b[0m\u001b[1;33m:\u001b[0m\u001b[1;33m\u001b[0m\u001b[0m\n",
      "\u001b[1;31mFileNotFoundError\u001b[0m: [WinError 2] \"dot\" not found in path.",
      "\nDuring handling of the above exception, another exception occurred:\n",
      "\u001b[1;31mOSError\u001b[0m                                   Traceback (most recent call last)",
      "\u001b[1;32m<ipython-input-17-c4fa2ccb2b7a>\u001b[0m in \u001b[0;36m<module>\u001b[1;34m\u001b[0m\n\u001b[0;32m      1\u001b[0m \u001b[1;32mfrom\u001b[0m \u001b[0mgraphviz\u001b[0m \u001b[1;32mimport\u001b[0m \u001b[0mDigraph\u001b[0m\u001b[1;33m\u001b[0m\u001b[0m\n\u001b[1;32m----> 2\u001b[1;33m \u001b[0mdisplay\u001b[0m\u001b[1;33m.\u001b[0m\u001b[0mdisplay\u001b[0m\u001b[1;33m(\u001b[0m\u001b[0mdisplay\u001b[0m\u001b[1;33m.\u001b[0m\u001b[0mImage\u001b[0m\u001b[1;33m(\u001b[0m\u001b[0mkeras\u001b[0m\u001b[1;33m.\u001b[0m\u001b[0mutils\u001b[0m\u001b[1;33m.\u001b[0m\u001b[0mvis_utils\u001b[0m\u001b[1;33m.\u001b[0m\u001b[0mmodel_to_dot\u001b[0m\u001b[1;33m(\u001b[0m\u001b[0mmodel\u001b[0m\u001b[1;33m,\u001b[0m \u001b[0mshow_shapes\u001b[0m\u001b[1;33m=\u001b[0m\u001b[1;32mTrue\u001b[0m\u001b[1;33m)\u001b[0m\u001b[1;33m.\u001b[0m\u001b[0mcreate_png\u001b[0m\u001b[1;33m(\u001b[0m\u001b[1;33m)\u001b[0m\u001b[1;33m)\u001b[0m\u001b[1;33m)\u001b[0m\u001b[1;33m\u001b[0m\u001b[0m\n\u001b[0m",
      "\u001b[1;32mc:\\users\\jowo\\onedrive - microsoft\\john_woods\\projects\\ml capstone\\pytest\\env\\lib\\site-packages\\keras\\utils\\vis_utils.py\u001b[0m in \u001b[0;36mmodel_to_dot\u001b[1;34m(model, show_shapes, show_layer_names, rankdir)\u001b[0m\n\u001b[0;32m     53\u001b[0m     \u001b[1;32mfrom\u001b[0m \u001b[1;33m.\u001b[0m\u001b[1;33m.\u001b[0m\u001b[0mmodels\u001b[0m \u001b[1;32mimport\u001b[0m \u001b[0mSequential\u001b[0m\u001b[1;33m\u001b[0m\u001b[0m\n\u001b[0;32m     54\u001b[0m \u001b[1;33m\u001b[0m\u001b[0m\n\u001b[1;32m---> 55\u001b[1;33m     \u001b[0m_check_pydot\u001b[0m\u001b[1;33m(\u001b[0m\u001b[1;33m)\u001b[0m\u001b[1;33m\u001b[0m\u001b[0m\n\u001b[0m\u001b[0;32m     56\u001b[0m     \u001b[0mdot\u001b[0m \u001b[1;33m=\u001b[0m \u001b[0mpydot\u001b[0m\u001b[1;33m.\u001b[0m\u001b[0mDot\u001b[0m\u001b[1;33m(\u001b[0m\u001b[1;33m)\u001b[0m\u001b[1;33m\u001b[0m\u001b[0m\n\u001b[0;32m     57\u001b[0m     \u001b[0mdot\u001b[0m\u001b[1;33m.\u001b[0m\u001b[0mset\u001b[0m\u001b[1;33m(\u001b[0m\u001b[1;34m'rankdir'\u001b[0m\u001b[1;33m,\u001b[0m \u001b[0mrankdir\u001b[0m\u001b[1;33m)\u001b[0m\u001b[1;33m\u001b[0m\u001b[0m\n",
      "\u001b[1;32mc:\\users\\jowo\\onedrive - microsoft\\john_woods\\projects\\ml capstone\\pytest\\env\\lib\\site-packages\\keras\\utils\\vis_utils.py\u001b[0m in \u001b[0;36m_check_pydot\u001b[1;34m()\u001b[0m\n\u001b[0;32m     27\u001b[0m     \u001b[1;32mexcept\u001b[0m \u001b[0mOSError\u001b[0m\u001b[1;33m:\u001b[0m\u001b[1;33m\u001b[0m\u001b[0m\n\u001b[0;32m     28\u001b[0m         raise OSError(\n\u001b[1;32m---> 29\u001b[1;33m             \u001b[1;34m'`pydot` failed to call GraphViz.'\u001b[0m\u001b[1;33m\u001b[0m\u001b[0m\n\u001b[0m\u001b[0;32m     30\u001b[0m             \u001b[1;34m'Please install GraphViz (https://www.graphviz.org/) '\u001b[0m\u001b[1;33m\u001b[0m\u001b[0m\n\u001b[0;32m     31\u001b[0m             'and ensure that its executables are in the $PATH.')\n",
      "\u001b[1;31mOSError\u001b[0m: `pydot` failed to call GraphViz.Please install GraphViz (https://www.graphviz.org/) and ensure that its executables are in the $PATH."
     ]
    }
   ],
   "source": [
    "#JUST FOR VISUALIZING MODEL? DON'T NEED?\n",
    "from graphviz import Digraph\n",
    "\n",
    "display.display(display.Image(keras.utils.vis_utils.model_to_dot(model, show_shapes=True).create_png()))"
   ]
  },
  {
   "cell_type": "markdown",
   "metadata": {},
   "source": [
    "### Model Training"
   ]
  },
  {
   "cell_type": "code",
   "execution_count": 98,
   "metadata": {},
   "outputs": [
    {
     "data": {
      "text/plain": [
       "(3339,)"
      ]
     },
     "execution_count": 98,
     "metadata": {},
     "output_type": "execute_result"
    }
   ],
   "source": [
    "data['train']['y'].shape"
   ]
  },
  {
   "cell_type": "code",
   "execution_count": 99,
   "metadata": {},
   "outputs": [
    {
     "data": {
      "application/vnd.jupyter.widget-view+json": {
       "model_id": "bb2b1f55df8d4adfb7449afb0185f1db",
       "version_major": 2,
       "version_minor": 0
      },
      "text/plain": [
       "HBox(children=(IntProgress(value=0, description='Training', max=10, style=ProgressStyle(description_width='ini…"
      ]
     },
     "metadata": {},
     "output_type": "display_data"
    },
    {
     "data": {
      "application/vnd.jupyter.widget-view+json": {
       "model_id": "90b2210fe4de417cad65a5a966ee40ae",
       "version_major": 2,
       "version_minor": 0
      },
      "text/plain": [
       "HBox(children=(IntProgress(value=0, description='Epoch 0', max=3339, style=ProgressStyle(description_width='in…"
      ]
     },
     "metadata": {},
     "output_type": "display_data"
    },
    {
     "data": {
      "application/vnd.jupyter.widget-view+json": {
       "model_id": "43369866060b4134889672fd5447893c",
       "version_major": 2,
       "version_minor": 0
      },
      "text/plain": [
       "HBox(children=(IntProgress(value=0, description='Epoch 1', max=3339, style=ProgressStyle(description_width='in…"
      ]
     },
     "metadata": {},
     "output_type": "display_data"
    },
    {
     "data": {
      "application/vnd.jupyter.widget-view+json": {
       "model_id": "9bffb0d2875642fc826d1d69a0fa0cee",
       "version_major": 2,
       "version_minor": 0
      },
      "text/plain": [
       "HBox(children=(IntProgress(value=0, description='Epoch 2', max=3339, style=ProgressStyle(description_width='in…"
      ]
     },
     "metadata": {},
     "output_type": "display_data"
    },
    {
     "data": {
      "application/vnd.jupyter.widget-view+json": {
       "model_id": "a09ca178ef2b4412ac4f88fa0735275e",
       "version_major": 2,
       "version_minor": 0
      },
      "text/plain": [
       "HBox(children=(IntProgress(value=0, description='Epoch 3', max=3339, style=ProgressStyle(description_width='in…"
      ]
     },
     "metadata": {},
     "output_type": "display_data"
    },
    {
     "data": {
      "application/vnd.jupyter.widget-view+json": {
       "model_id": "e1a431a49f8844d393f7cfba8a747513",
       "version_major": 2,
       "version_minor": 0
      },
      "text/plain": [
       "HBox(children=(IntProgress(value=0, description='Epoch 4', max=3339, style=ProgressStyle(description_width='in…"
      ]
     },
     "metadata": {},
     "output_type": "display_data"
    },
    {
     "data": {
      "application/vnd.jupyter.widget-view+json": {
       "model_id": "3d0cbded4ec84a68846e1d3f24073911",
       "version_major": 2,
       "version_minor": 0
      },
      "text/plain": [
       "HBox(children=(IntProgress(value=0, description='Epoch 5', max=3339, style=ProgressStyle(description_width='in…"
      ]
     },
     "metadata": {},
     "output_type": "display_data"
    },
    {
     "data": {
      "application/vnd.jupyter.widget-view+json": {
       "model_id": "fab8c51124fc4a87a85c615d17e215fb",
       "version_major": 2,
       "version_minor": 0
      },
      "text/plain": [
       "HBox(children=(IntProgress(value=0, description='Epoch 6', max=3339, style=ProgressStyle(description_width='in…"
      ]
     },
     "metadata": {},
     "output_type": "display_data"
    },
    {
     "data": {
      "application/vnd.jupyter.widget-view+json": {
       "model_id": "3ca8ac3485864a3fb5245343bab62c32",
       "version_major": 2,
       "version_minor": 0
      },
      "text/plain": [
       "HBox(children=(IntProgress(value=0, description='Epoch 7', max=3339, style=ProgressStyle(description_width='in…"
      ]
     },
     "metadata": {},
     "output_type": "display_data"
    },
    {
     "data": {
      "application/vnd.jupyter.widget-view+json": {
       "model_id": "65758e94e327415bb0f27ceaac925d62",
       "version_major": 2,
       "version_minor": 0
      },
      "text/plain": [
       "HBox(children=(IntProgress(value=0, description='Epoch 8', max=3339, style=ProgressStyle(description_width='in…"
      ]
     },
     "metadata": {},
     "output_type": "display_data"
    },
    {
     "data": {
      "application/vnd.jupyter.widget-view+json": {
       "model_id": "889af9617ca745be86118b8e19de874a",
       "version_major": 2,
       "version_minor": 0
      },
      "text/plain": [
       "HBox(children=(IntProgress(value=0, description='Epoch 9', max=3339, style=ProgressStyle(description_width='in…"
      ]
     },
     "metadata": {},
     "output_type": "display_data"
    },
    {
     "name": "stdout",
     "output_type": "stream",
     "text": [
      "\n"
     ]
    }
   ],
   "source": [
    "\n",
    "history = model.fit(\n",
    "    [data['train']['text']],\n",
    "    keras.utils.to_categorical(data['train']['y'],0),\n",
    "    epochs=10,\n",
    "    verbose=0,\n",
    "    callbacks=[\n",
    "        TQDMNotebookCallback(\n",
    "            leave_inner=True,\n",
    "        )\n",
    "    ],\n",
    "    validation_data=(\n",
    "        [data['val']['text']],\n",
    "        keras.utils.to_categorical(data['val']['y'],0)\n",
    "    ),\n",
    "    batch_size=128\n",
    ")"
   ]
  },
  {
   "cell_type": "code",
   "execution_count": 101,
   "metadata": {},
   "outputs": [
    {
     "data": {
      "image/png": "[encoded data removed]",
      "text/plain": [
       "<Figure size 432x288 with 1 Axes>"
      ]
     },
     "metadata": {
      "needs_background": "light"
     },
     "output_type": "display_data"
    }
   ],
   "source": [
    "import matplotlib.pyplot as plt\n",
    "\n",
    "plt.plot(history.epoch,history.history['loss'],history.epoch,history.history['val_loss'])\n",
    "plt.show()\n",
    "#Yellow=Validation set\n",
    "#Blue= Training Set\n",
    "#_=_"
   ]
  },
  {
   "cell_type": "markdown",
   "metadata": {},
   "source": [
    "### Question 4\n",
    "\n",
    "This model is very simple, it consists of only the embedding layer and one dense layer. By looking at the graph above, you can see that the model is not generelizing well on the validation set, when does that usually happen and what can we do to improve it? \n",
    "\n",
    "Please write your answer in the next cell:"
   ]
  },
  {
   "cell_type": "code",
   "execution_count": 102,
   "metadata": {},
   "outputs": [
    {
     "data": {
      "text/plain": [
       "' Generalization normally fails in Validation when model get overfit to Training data. To prevent overfitting, we can -\\n1. Add more Data\\n2. Use models with variations and average out their output. i.e. -\\n    a. Either using models of different forms\\n    b. Or through Bagging approach i.e. training it on different subsets of Training data.\\n3. Control the capacity/flexibility of model. It can be done by - \\n    a. Early stopping before it overfits\\n    b. Controlling architecture -- limiting no. of hidden layers\\n    c. Adding Noise\\n    d. Penalizing large weights\\n4. Taking average of predictions generated by varying Weight vectors.\\n'"
      ]
     },
     "execution_count": 102,
     "metadata": {},
     "output_type": "execute_result"
    }
   ],
   "source": [
    "''' Generalization normally fails in Validation when model get overfit to Training data. To prevent overfitting, we can -\n",
    "1. Add more Data\n",
    "2. Use models with variations and average out their output. i.e. -\n",
    "    a. Either using models of different forms\n",
    "    b. Or through Bagging approach i.e. training it on different subsets of Training data.\n",
    "3. Control the capacity/flexibility of model. It can be done by - \n",
    "    a. Early stopping before it overfits\n",
    "    b. Controlling architecture -- limiting no. of hidden layers\n",
    "    c. Adding Noise\n",
    "    d. Penalizing large weights\n",
    "4. Taking average of predictions generated by varying Weight vectors.\n",
    "5. Use dropout layers\n",
    "'''"
   ]
  },
  {
   "cell_type": "markdown",
   "metadata": {},
   "source": [
    "### Model Evaluation"
   ]
  },
  {
   "cell_type": "markdown",
   "metadata": {},
   "source": [
    "Let's use accuracy to evaluate our model:"
   ]
  },
  {
   "cell_type": "code",
   "execution_count": 27,
   "metadata": {},
   "outputs": [],
   "source": [
    "from sklearn.metrics import accuracy_score"
   ]
  },
  {
   "cell_type": "code",
   "execution_count": 28,
   "metadata": {},
   "outputs": [],
   "source": [
    "h = model.predict([data['test']['text']])"
   ]
  },
  {
   "cell_type": "code",
   "execution_count": 29,
   "metadata": {},
   "outputs": [
    {
     "name": "stdout",
     "output_type": "stream",
     "text": [
      "Accuracy score on 471 test samples: 0.545648\n"
     ]
    }
   ],
   "source": [
    "predict = np.asarray([np.argmax(i) for i in h])\n",
    "gold = np.asarray(data['test']['y'])\n",
    "resultf1 = accuracy_score(gold, predict)\n",
    "print('Accuracy score on {} test samples: {:.6}'.format(\n",
    "    len(predict), resultf1\n",
    "))"
   ]
  },
  {
   "cell_type": "markdown",
   "metadata": {},
   "source": [
    "### Question 5\n",
    "\n",
    "As you can see, this model is not performing well. What would you change in this model to increase its accuracy?\n",
    "\n",
    "Please write your answer in the next cell:"
   ]
  },
  {
   "cell_type": "code",
   "execution_count": 103,
   "metadata": {},
   "outputs": [
    {
     "data": {
      "text/plain": [
       "'\\nThere can be several ways to improve the model -\\n1. We can intoduce more layers like convolution along with pooling etc. And test with different architectures of CNN\\n2. We can use RNN network like LSTM, which stores previous state in memory.\\n'"
      ]
     },
     "execution_count": 103,
     "metadata": {},
     "output_type": "execute_result"
    }
   ],
   "source": [
    "'''\n",
    "There can be several ways to improve the model -\n",
    "1. We can intoduce more layers like convolution along with pooling etc. And test with different architectures of CNN\n",
    "2. We can use RNN network like LSTM, which stores previous state in memory.\n",
    "'''"
   ]
  },
  {
   "cell_type": "markdown",
   "metadata": {},
   "source": [
    "### Inference"
   ]
  },
  {
   "cell_type": "code",
   "execution_count": 30,
   "metadata": {},
   "outputs": [],
   "source": [
    "def infer(texts):\n",
    "    sequences = []\n",
    "    for text in texts:\n",
    "        text = text.split()\n",
    "        text_sequence = []\n",
    "        for word in text:\n",
    "            if word in vocabulary:\n",
    "                text_sequence.append(vocabulary[word])\n",
    "        sequences.append(text_sequence)\n",
    "\n",
    "    padded_seq = pad_sequences(sequences, maxlen=MAX_SEQUENCE_LENGTH)\n",
    "    return model.predict([padded_seq])\n",
    "    "
   ]
  },
  {
   "cell_type": "code",
   "execution_count": 31,
   "metadata": {},
   "outputs": [],
   "source": [
    "text = ['das ist schlecht',\n",
    "       'ich finde das echt toll',\n",
    "       'das ist gut',\n",
    "       'das ist nicht schlecht',\n",
    "       'das ist nicht gut',\n",
    "       'okay vielen dank',]"
   ]
  },
  {
   "cell_type": "code",
   "execution_count": 32,
   "metadata": {},
   "outputs": [
    {
     "name": "stdout",
     "output_type": "stream",
     "text": [
      "0 [ 0.40850994  0.21610351  0.28963226] das ist schlecht\n",
      "0 [ 0.4200699   0.13947555  0.36822423] ich finde das echt toll\n",
      "2 [ 0.29508847  0.22653696  0.39167821] das ist gut\n",
      "0 [ 0.45426169  0.22597839  0.2401565 ] das ist nicht schlecht\n",
      "2 [ 0.34084019  0.23641184  0.34220243] das ist nicht gut\n",
      "2 [ 0.15376954  0.19991808  0.56166852] okay vielen dank\n"
     ]
    }
   ],
   "source": [
    "h_ = infer(text)\n",
    "for i,t in enumerate(text):\n",
    "    print('{} {} {}'.format(\n",
    "            np.argmax(h_[i]),\n",
    "            h_[i],\n",
    "            t[:MAX_SEQUENCE_LENGTH],\n",
    "        ))"
   ]
  },
  {
   "cell_type": "markdown",
   "metadata": {},
   "source": [
    "### Question 6\n",
    "\n",
    "Implement a model similar to the one described in [this paper](https://arxiv.org/pdf/1704.06125.pdf), in order to get a much higher accuracy."
   ]
  },
  {
   "cell_type": "raw",
   "metadata": {},
   "source": [
    "# # Analysis through CNN model"
   ]
  },
  {
   "cell_type": "code",
   "execution_count": 96,
   "metadata": {},
   "outputs": [],
   "source": [
    "from keras.layers import Input, Dense, Conv1D, GlobalMaxPooling1D, Reshape, Dropout\n",
    "from keras.models import Model\n",
    "\n",
    "\n",
    "class BaselineModel2(keras.models.Model):\n",
    "    \n",
    "    def __init__(self):\n",
    "        input_layer = layers.Input(\n",
    "            shape=(MAX_SEQUENCE_LENGTH,),\n",
    "            name='Input'\n",
    "        )\n",
    "        embedding_layer = layers.Embedding(len(vocabulary) + 1,\n",
    "                            EMBEDDING_DIM,\n",
    "                            weights=[embedding_matrix],\n",
    "                            input_length=MAX_SEQUENCE_LENGTH,\n",
    "                            name='Embedding',\n",
    "                            trainable=False)(input_layer)\n",
    "\n",
    "        conv1 = Conv1D(200, 2, activation='relu')(embedding_layer)\n",
    "        conv2 = Conv1D(200, 3, activation='relu')(embedding_layer)\n",
    "        conv3 = Conv1D(200, 4, activation='relu')(embedding_layer)\n",
    "        \n",
    "        pool1 = GlobalMaxPooling1D()(conv1)\n",
    "        pool2 = GlobalMaxPooling1D()(conv2)\n",
    "        pool3 = GlobalMaxPooling1D()(conv3)\n",
    "        \n",
    "        conc_layer = keras.layers.concatenate([pool3, pool2, pool1])\n",
    "        drop1 = Dropout(0.5)(conc_layer)\n",
    "        fc_layer1 = layers.Dense(units=30,name='FullyConnected')(drop1)\n",
    "        drop2 = Dropout(0.5)(fc_layer1)\n",
    "        #fc_layer2 = layers.Flatten(name=\"Flatten\")(drop2)\n",
    "        predictions = Dense(3, activation='softmax')(drop2)\n",
    "        super().__init__(inputs=[input_layer], outputs=predictions)\n",
    "        \n",
    "    def compile(self):\n",
    "        return super().compile(\n",
    "            optimizer=keras.optimizers.Adam(lr=0.001),\n",
    "            loss='mse'\n",
    "        )"
   ]
  },
  {
   "cell_type": "code",
   "execution_count": 97,
   "metadata": {},
   "outputs": [],
   "source": [
    "model2 = BaselineModel2()\n",
    "model2.compile()"
   ]
  },
  {
   "cell_type": "code",
   "execution_count": 98,
   "metadata": {},
   "outputs": [],
   "source": [
    "#display.display(display.Image(keras.utils.vis_utils.model_to_dot(model2, show_shapes=True).create_png()))"
   ]
  },
  {
   "cell_type": "code",
   "execution_count": 99,
   "metadata": {},
   "outputs": [
    {
     "data": {
      "application/vnd.jupyter.widget-view+json": {
       "model_id": "cb182710424b426c98b5c71c2fba57de",
       "version_major": 2,
       "version_minor": 0
      },
      "text/html": [
       "<p>Failed to display Jupyter Widget of type <code>HBox</code>.</p>\n",
       "<p>\n",
       "  If you're reading this message in Jupyter Notebook or JupyterLab, it may mean\n",
       "  that the widgets JavaScript is still loading. If this message persists, it\n",
       "  likely means that the widgets JavaScript library is either not installed or\n",
       "  not enabled. See the <a href=\"https://ipywidgets.readthedocs.io/en/stable/user_install.html\">Jupyter\n",
       "  Widgets Documentation</a> for setup instructions.\n",
       "</p>\n",
       "<p>\n",
       "  If you're reading this message in another notebook frontend (for example, a static\n",
       "  rendering on GitHub or <a href=\"https://nbviewer.jupyter.org/\">NBViewer</a>),\n",
       "  it may mean that your frontend doesn't currently support widgets.\n",
       "</p>\n"
      ],
      "text/plain": [
       "HBox(children=(IntProgress(value=0, description='Training', max=10), HTML(value='')))"
      ]
     },
     "metadata": {},
     "output_type": "display_data"
    },
    {
     "data": {
      "application/vnd.jupyter.widget-view+json": {
       "model_id": "75eb4b46b989498baf8183b4e3c382bc",
       "version_major": 2,
       "version_minor": 0
      },
      "text/html": [
       "<p>Failed to display Jupyter Widget of type <code>HBox</code>.</p>\n",
       "<p>\n",
       "  If you're reading this message in Jupyter Notebook or JupyterLab, it may mean\n",
       "  that the widgets JavaScript is still loading. If this message persists, it\n",
       "  likely means that the widgets JavaScript library is either not installed or\n",
       "  not enabled. See the <a href=\"https://ipywidgets.readthedocs.io/en/stable/user_install.html\">Jupyter\n",
       "  Widgets Documentation</a> for setup instructions.\n",
       "</p>\n",
       "<p>\n",
       "  If you're reading this message in another notebook frontend (for example, a static\n",
       "  rendering on GitHub or <a href=\"https://nbviewer.jupyter.org/\">NBViewer</a>),\n",
       "  it may mean that your frontend doesn't currently support widgets.\n",
       "</p>\n"
      ],
      "text/plain": [
       "HBox(children=(IntProgress(value=0, description='Epoch 0', max=42371), HTML(value='')))"
      ]
     },
     "metadata": {},
     "output_type": "display_data"
    },
    {
     "data": {
      "application/vnd.jupyter.widget-view+json": {
       "model_id": "cc2f9683048a4a4f99fcd726b0deb6e8",
       "version_major": 2,
       "version_minor": 0
      },
      "text/html": [
       "<p>Failed to display Jupyter Widget of type <code>HBox</code>.</p>\n",
       "<p>\n",
       "  If you're reading this message in Jupyter Notebook or JupyterLab, it may mean\n",
       "  that the widgets JavaScript is still loading. If this message persists, it\n",
       "  likely means that the widgets JavaScript library is either not installed or\n",
       "  not enabled. See the <a href=\"https://ipywidgets.readthedocs.io/en/stable/user_install.html\">Jupyter\n",
       "  Widgets Documentation</a> for setup instructions.\n",
       "</p>\n",
       "<p>\n",
       "  If you're reading this message in another notebook frontend (for example, a static\n",
       "  rendering on GitHub or <a href=\"https://nbviewer.jupyter.org/\">NBViewer</a>),\n",
       "  it may mean that your frontend doesn't currently support widgets.\n",
       "</p>\n"
      ],
      "text/plain": [
       "HBox(children=(IntProgress(value=0, description='Epoch 1', max=42371), HTML(value='')))"
      ]
     },
     "metadata": {},
     "output_type": "display_data"
    },
    {
     "data": {
      "application/vnd.jupyter.widget-view+json": {
       "model_id": "ea4ec32a0834474ab1404bb2cacc67d2",
       "version_major": 2,
       "version_minor": 0
      },
      "text/html": [
       "<p>Failed to display Jupyter Widget of type <code>HBox</code>.</p>\n",
       "<p>\n",
       "  If you're reading this message in Jupyter Notebook or JupyterLab, it may mean\n",
       "  that the widgets JavaScript is still loading. If this message persists, it\n",
       "  likely means that the widgets JavaScript library is either not installed or\n",
       "  not enabled. See the <a href=\"https://ipywidgets.readthedocs.io/en/stable/user_install.html\">Jupyter\n",
       "  Widgets Documentation</a> for setup instructions.\n",
       "</p>\n",
       "<p>\n",
       "  If you're reading this message in another notebook frontend (for example, a static\n",
       "  rendering on GitHub or <a href=\"https://nbviewer.jupyter.org/\">NBViewer</a>),\n",
       "  it may mean that your frontend doesn't currently support widgets.\n",
       "</p>\n"
      ],
      "text/plain": [
       "HBox(children=(IntProgress(value=0, description='Epoch 2', max=42371), HTML(value='')))"
      ]
     },
     "metadata": {},
     "output_type": "display_data"
    },
    {
     "data": {
      "application/vnd.jupyter.widget-view+json": {
       "model_id": "ec291571874548998a7742572dd4c482",
       "version_major": 2,
       "version_minor": 0
      },
      "text/html": [
       "<p>Failed to display Jupyter Widget of type <code>HBox</code>.</p>\n",
       "<p>\n",
       "  If you're reading this message in Jupyter Notebook or JupyterLab, it may mean\n",
       "  that the widgets JavaScript is still loading. If this message persists, it\n",
       "  likely means that the widgets JavaScript library is either not installed or\n",
       "  not enabled. See the <a href=\"https://ipywidgets.readthedocs.io/en/stable/user_install.html\">Jupyter\n",
       "  Widgets Documentation</a> for setup instructions.\n",
       "</p>\n",
       "<p>\n",
       "  If you're reading this message in another notebook frontend (for example, a static\n",
       "  rendering on GitHub or <a href=\"https://nbviewer.jupyter.org/\">NBViewer</a>),\n",
       "  it may mean that your frontend doesn't currently support widgets.\n",
       "</p>\n"
      ],
      "text/plain": [
       "HBox(children=(IntProgress(value=0, description='Epoch 3', max=42371), HTML(value='')))"
      ]
     },
     "metadata": {},
     "output_type": "display_data"
    },
    {
     "data": {
      "application/vnd.jupyter.widget-view+json": {
       "model_id": "c39bc69a367f41f9b4a2d650322361f2",
       "version_major": 2,
       "version_minor": 0
      },
      "text/html": [
       "<p>Failed to display Jupyter Widget of type <code>HBox</code>.</p>\n",
       "<p>\n",
       "  If you're reading this message in Jupyter Notebook or JupyterLab, it may mean\n",
       "  that the widgets JavaScript is still loading. If this message persists, it\n",
       "  likely means that the widgets JavaScript library is either not installed or\n",
       "  not enabled. See the <a href=\"https://ipywidgets.readthedocs.io/en/stable/user_install.html\">Jupyter\n",
       "  Widgets Documentation</a> for setup instructions.\n",
       "</p>\n",
       "<p>\n",
       "  If you're reading this message in another notebook frontend (for example, a static\n",
       "  rendering on GitHub or <a href=\"https://nbviewer.jupyter.org/\">NBViewer</a>),\n",
       "  it may mean that your frontend doesn't currently support widgets.\n",
       "</p>\n"
      ],
      "text/plain": [
       "HBox(children=(IntProgress(value=0, description='Epoch 4', max=42371), HTML(value='')))"
      ]
     },
     "metadata": {},
     "output_type": "display_data"
    },
    {
     "data": {
      "application/vnd.jupyter.widget-view+json": {
       "model_id": "ccb21112b9cf47d99a4082e903842d45",
       "version_major": 2,
       "version_minor": 0
      },
      "text/html": [
       "<p>Failed to display Jupyter Widget of type <code>HBox</code>.</p>\n",
       "<p>\n",
       "  If you're reading this message in Jupyter Notebook or JupyterLab, it may mean\n",
       "  that the widgets JavaScript is still loading. If this message persists, it\n",
       "  likely means that the widgets JavaScript library is either not installed or\n",
       "  not enabled. See the <a href=\"https://ipywidgets.readthedocs.io/en/stable/user_install.html\">Jupyter\n",
       "  Widgets Documentation</a> for setup instructions.\n",
       "</p>\n",
       "<p>\n",
       "  If you're reading this message in another notebook frontend (for example, a static\n",
       "  rendering on GitHub or <a href=\"https://nbviewer.jupyter.org/\">NBViewer</a>),\n",
       "  it may mean that your frontend doesn't currently support widgets.\n",
       "</p>\n"
      ],
      "text/plain": [
       "HBox(children=(IntProgress(value=0, description='Epoch 5', max=42371), HTML(value='')))"
      ]
     },
     "metadata": {},
     "output_type": "display_data"
    },
    {
     "data": {
      "application/vnd.jupyter.widget-view+json": {
       "model_id": "1ee64a74de9549c89ec44e87fbf7fdd6",
       "version_major": 2,
       "version_minor": 0
      },
      "text/html": [
       "<p>Failed to display Jupyter Widget of type <code>HBox</code>.</p>\n",
       "<p>\n",
       "  If you're reading this message in Jupyter Notebook or JupyterLab, it may mean\n",
       "  that the widgets JavaScript is still loading. If this message persists, it\n",
       "  likely means that the widgets JavaScript library is either not installed or\n",
       "  not enabled. See the <a href=\"https://ipywidgets.readthedocs.io/en/stable/user_install.html\">Jupyter\n",
       "  Widgets Documentation</a> for setup instructions.\n",
       "</p>\n",
       "<p>\n",
       "  If you're reading this message in another notebook frontend (for example, a static\n",
       "  rendering on GitHub or <a href=\"https://nbviewer.jupyter.org/\">NBViewer</a>),\n",
       "  it may mean that your frontend doesn't currently support widgets.\n",
       "</p>\n"
      ],
      "text/plain": [
       "HBox(children=(IntProgress(value=0, description='Epoch 6', max=42371), HTML(value='')))"
      ]
     },
     "metadata": {},
     "output_type": "display_data"
    },
    {
     "data": {
      "application/vnd.jupyter.widget-view+json": {
       "model_id": "3eb841cd6d7949c49f9941c6f1f7dfd8",
       "version_major": 2,
       "version_minor": 0
      },
      "text/html": [
       "<p>Failed to display Jupyter Widget of type <code>HBox</code>.</p>\n",
       "<p>\n",
       "  If you're reading this message in Jupyter Notebook or JupyterLab, it may mean\n",
       "  that the widgets JavaScript is still loading. If this message persists, it\n",
       "  likely means that the widgets JavaScript library is either not installed or\n",
       "  not enabled. See the <a href=\"https://ipywidgets.readthedocs.io/en/stable/user_install.html\">Jupyter\n",
       "  Widgets Documentation</a> for setup instructions.\n",
       "</p>\n",
       "<p>\n",
       "  If you're reading this message in another notebook frontend (for example, a static\n",
       "  rendering on GitHub or <a href=\"https://nbviewer.jupyter.org/\">NBViewer</a>),\n",
       "  it may mean that your frontend doesn't currently support widgets.\n",
       "</p>\n"
      ],
      "text/plain": [
       "HBox(children=(IntProgress(value=0, description='Epoch 7', max=42371), HTML(value='')))"
      ]
     },
     "metadata": {},
     "output_type": "display_data"
    },
    {
     "data": {
      "application/vnd.jupyter.widget-view+json": {
       "model_id": "1b1e07af35cc43bfae564b981f4e1d0f",
       "version_major": 2,
       "version_minor": 0
      },
      "text/html": [
       "<p>Failed to display Jupyter Widget of type <code>HBox</code>.</p>\n",
       "<p>\n",
       "  If you're reading this message in Jupyter Notebook or JupyterLab, it may mean\n",
       "  that the widgets JavaScript is still loading. If this message persists, it\n",
       "  likely means that the widgets JavaScript library is either not installed or\n",
       "  not enabled. See the <a href=\"https://ipywidgets.readthedocs.io/en/stable/user_install.html\">Jupyter\n",
       "  Widgets Documentation</a> for setup instructions.\n",
       "</p>\n",
       "<p>\n",
       "  If you're reading this message in another notebook frontend (for example, a static\n",
       "  rendering on GitHub or <a href=\"https://nbviewer.jupyter.org/\">NBViewer</a>),\n",
       "  it may mean that your frontend doesn't currently support widgets.\n",
       "</p>\n"
      ],
      "text/plain": [
       "HBox(children=(IntProgress(value=0, description='Epoch 8', max=42371), HTML(value='')))"
      ]
     },
     "metadata": {},
     "output_type": "display_data"
    },
    {
     "data": {
      "application/vnd.jupyter.widget-view+json": {
       "model_id": "2fd5cb92a9ac4e74b733e1314d3e28b7",
       "version_major": 2,
       "version_minor": 0
      },
      "text/html": [
       "<p>Failed to display Jupyter Widget of type <code>HBox</code>.</p>\n",
       "<p>\n",
       "  If you're reading this message in Jupyter Notebook or JupyterLab, it may mean\n",
       "  that the widgets JavaScript is still loading. If this message persists, it\n",
       "  likely means that the widgets JavaScript library is either not installed or\n",
       "  not enabled. See the <a href=\"https://ipywidgets.readthedocs.io/en/stable/user_install.html\">Jupyter\n",
       "  Widgets Documentation</a> for setup instructions.\n",
       "</p>\n",
       "<p>\n",
       "  If you're reading this message in another notebook frontend (for example, a static\n",
       "  rendering on GitHub or <a href=\"https://nbviewer.jupyter.org/\">NBViewer</a>),\n",
       "  it may mean that your frontend doesn't currently support widgets.\n",
       "</p>\n"
      ],
      "text/plain": [
       "HBox(children=(IntProgress(value=0, description='Epoch 9', max=42371), HTML(value='')))"
      ]
     },
     "metadata": {},
     "output_type": "display_data"
    },
    {
     "name": "stdout",
     "output_type": "stream",
     "text": [
      "\n"
     ]
    }
   ],
   "source": [
    "history = model2.fit(\n",
    "    [data['train']['text']],\n",
    "    keras.utils.to_categorical(data['train']['y'],3),\n",
    "    epochs=10,\n",
    "    verbose=0,\n",
    "    callbacks=[\n",
    "        TQDMNotebookCallback(\n",
    "            leave_inner=True,\n",
    "        )\n",
    "    ],\n",
    "    validation_data=(\n",
    "        [data['val']['text']],\n",
    "        keras.utils.to_categorical(data['val']['y'],3)\n",
    "    ),\n",
    "    batch_size=128\n",
    ")"
   ]
  },
  {
   "cell_type": "code",
   "execution_count": 100,
   "metadata": {},
   "outputs": [
    {
     "data": {
      "image/png": "[encoded data removed]",
      "text/plain": [
       "<matplotlib.figure.Figure at 0x7faefbd27ba8>"
      ]
     },
     "metadata": {},
     "output_type": "display_data"
    }
   ],
   "source": [
    "import matplotlib.pyplot as plt\n",
    "\n",
    "plt.plot(history.epoch,history.history['loss'],history.epoch,history.history['val_loss'])\n",
    "plt.show()\n",
    "_=_"
   ]
  },
  {
   "cell_type": "code",
   "execution_count": 101,
   "metadata": {},
   "outputs": [
    {
     "name": "stdout",
     "output_type": "stream",
     "text": [
      "Accuracy score on 471 test samples: 0.728238\n"
     ]
    }
   ],
   "source": [
    "from sklearn.metrics import accuracy_score\n",
    "h = model2.predict([data['test']['text']])\n",
    "predict = np.asarray([np.argmax(i) for i in h])\n",
    "gold = np.asarray(data['test']['y'])\n",
    "resultf1 = accuracy_score(gold, predict)\n",
    "print('Accuracy score on {} test samples: {:.6}'.format(\n",
    "    len(predict), resultf1\n",
    "))"
   ]
  },
  {
   "cell_type": "raw",
   "metadata": {},
   "source": [
    "# # Analysing with LSTM"
   ]
  },
  {
   "cell_type": "code",
   "execution_count": 59,
   "metadata": {},
   "outputs": [],
   "source": [
    "from keras.layers import Input, Dense, GlobalMaxPooling1D, Bidirectional, LSTM\n",
    "from keras.models import Model\n",
    "\n",
    "\n",
    "class BaselineModel3(keras.models.Model):\n",
    "    \n",
    "    def __init__(self):\n",
    "        input_layer = layers.Input(\n",
    "            shape=(MAX_SEQUENCE_LENGTH,),\n",
    "            name='Input'\n",
    "        )\n",
    "        print(input_layer.shape)\n",
    "        embedding_layer = layers.Embedding(len(vocabulary) + 1,\n",
    "                            EMBEDDING_DIM,\n",
    "                            weights=[embedding_matrix],\n",
    "                            name='Embedding',\n",
    "                            trainable=False)(input_layer)\n",
    "        print(embedding_layer.shape)\n",
    "        drop1 = Dropout(0.5)(embedding_layer)\n",
    "        bi_lay = Bidirectional(LSTM(200, return_sequences=False))(drop1)\n",
    "        drop2 = Dropout(0.5)(bi_lay)\n",
    "        print(drop2.shape)\n",
    "        f_con = Dense(30, activation=\"sigmoid\")(drop2)\n",
    "        drop3 = Dropout(0.5)(f_con)\n",
    "        print(drop3.shape)\n",
    "        predictions = Dense(3, activation='softmax')(drop3)\n",
    "        \n",
    "        super().__init__(inputs=[input_layer], outputs=predictions)\n",
    "        \n",
    "    def compile(self):\n",
    "        return super().compile(\n",
    "            optimizer=keras.optimizers.Adam(lr=0.001),\n",
    "            loss='mse'\n",
    "        )"
   ]
  },
  {
   "cell_type": "code",
   "execution_count": 60,
   "metadata": {},
   "outputs": [
    {
     "name": "stdout",
     "output_type": "stream",
     "text": [
      "(?, 200)\n",
      "(?, 200, 100)\n",
      "(?, ?, 400)\n",
      "(?, 200, 30)\n"
     ]
    }
   ],
   "source": [
    "model3 = BaselineModel3()\n",
    "model3.compile()"
   ]
  },
  {
   "cell_type": "code",
   "execution_count": 63,
   "metadata": {},
   "outputs": [
    {
     "name": "stdout",
     "output_type": "stream",
     "text": [
      "(42371, 200)\n"
     ]
    }
   ],
   "source": [
    "print(data['train']['text'].shape)"
   ]
  },
  {
   "cell_type": "code",
   "execution_count": 61,
   "metadata": {},
   "outputs": [],
   "source": [
    "#display.display(display.Image(keras.utils.vis_utils.model_to_dot(model3, show_shapes=True).create_png()))"
   ]
  },
  {
   "cell_type": "code",
   "execution_count": 62,
   "metadata": {},
   "outputs": [
    {
     "ename": "ValueError",
     "evalue": "Error when checking target: expected dense_11 to have 3 dimensions, but got array with shape (42371, 3)",
     "output_type": "error",
     "traceback": [
      "\u001b[0;31m---------------------------------------------------------------------------\u001b[0m",
      "\u001b[0;31mValueError\u001b[0m                                Traceback (most recent call last)",
      "\u001b[0;32m<ipython-input-62-fe159a32beb7>\u001b[0m in \u001b[0;36m<module>\u001b[0;34m()\u001b[0m\n\u001b[1;32m      6\u001b[0m         \u001b[0mkeras\u001b[0m\u001b[0;34m.\u001b[0m\u001b[0mutils\u001b[0m\u001b[0;34m.\u001b[0m\u001b[0mto_categorical\u001b[0m\u001b[0;34m(\u001b[0m\u001b[0mdata\u001b[0m\u001b[0;34m[\u001b[0m\u001b[0;34m'val'\u001b[0m\u001b[0;34m]\u001b[0m\u001b[0;34m[\u001b[0m\u001b[0;34m'y'\u001b[0m\u001b[0;34m]\u001b[0m\u001b[0;34m,\u001b[0m\u001b[0;36m3\u001b[0m\u001b[0;34m)\u001b[0m\u001b[0;34m\u001b[0m\u001b[0m\n\u001b[1;32m      7\u001b[0m     ),\n\u001b[0;32m----> 8\u001b[0;31m     \u001b[0mbatch_size\u001b[0m\u001b[0;34m=\u001b[0m\u001b[0;36m32\u001b[0m\u001b[0;34m\u001b[0m\u001b[0m\n\u001b[0m\u001b[1;32m      9\u001b[0m )\n",
      "\u001b[0;32m/usr/local/lib/python3.5/dist-packages/keras/engine/training.py\u001b[0m in \u001b[0;36mfit\u001b[0;34m(self, x, y, batch_size, epochs, verbose, callbacks, validation_split, validation_data, shuffle, class_weight, sample_weight, initial_epoch, steps_per_epoch, validation_steps, **kwargs)\u001b[0m\n\u001b[1;32m   1572\u001b[0m             \u001b[0mclass_weight\u001b[0m\u001b[0;34m=\u001b[0m\u001b[0mclass_weight\u001b[0m\u001b[0;34m,\u001b[0m\u001b[0;34m\u001b[0m\u001b[0m\n\u001b[1;32m   1573\u001b[0m             \u001b[0mcheck_batch_axis\u001b[0m\u001b[0;34m=\u001b[0m\u001b[0;32mFalse\u001b[0m\u001b[0;34m,\u001b[0m\u001b[0;34m\u001b[0m\u001b[0m\n\u001b[0;32m-> 1574\u001b[0;31m             batch_size=batch_size)\n\u001b[0m\u001b[1;32m   1575\u001b[0m         \u001b[0;31m# Prepare validation data.\u001b[0m\u001b[0;34m\u001b[0m\u001b[0;34m\u001b[0m\u001b[0m\n\u001b[1;32m   1576\u001b[0m         \u001b[0mdo_validation\u001b[0m \u001b[0;34m=\u001b[0m \u001b[0;32mFalse\u001b[0m\u001b[0;34m\u001b[0m\u001b[0m\n",
      "\u001b[0;32m/usr/local/lib/python3.5/dist-packages/keras/engine/training.py\u001b[0m in \u001b[0;36m_standardize_user_data\u001b[0;34m(self, x, y, sample_weight, class_weight, check_batch_axis, batch_size)\u001b[0m\n\u001b[1;32m   1409\u001b[0m                                     \u001b[0moutput_shapes\u001b[0m\u001b[0;34m,\u001b[0m\u001b[0;34m\u001b[0m\u001b[0m\n\u001b[1;32m   1410\u001b[0m                                     \u001b[0mcheck_batch_axis\u001b[0m\u001b[0;34m=\u001b[0m\u001b[0;32mFalse\u001b[0m\u001b[0;34m,\u001b[0m\u001b[0;34m\u001b[0m\u001b[0m\n\u001b[0;32m-> 1411\u001b[0;31m                                     exception_prefix='target')\n\u001b[0m\u001b[1;32m   1412\u001b[0m         sample_weights = _standardize_sample_weights(sample_weight,\n\u001b[1;32m   1413\u001b[0m                                                      self._feed_output_names)\n",
      "\u001b[0;32m/usr/local/lib/python3.5/dist-packages/keras/engine/training.py\u001b[0m in \u001b[0;36m_standardize_input_data\u001b[0;34m(data, names, shapes, check_batch_axis, exception_prefix)\u001b[0m\n\u001b[1;32m    139\u001b[0m                                  \u001b[0;34m' to have '\u001b[0m \u001b[0;34m+\u001b[0m \u001b[0mstr\u001b[0m\u001b[0;34m(\u001b[0m\u001b[0mlen\u001b[0m\u001b[0;34m(\u001b[0m\u001b[0mshapes\u001b[0m\u001b[0;34m[\u001b[0m\u001b[0mi\u001b[0m\u001b[0;34m]\u001b[0m\u001b[0;34m)\u001b[0m\u001b[0;34m)\u001b[0m \u001b[0;34m+\u001b[0m\u001b[0;34m\u001b[0m\u001b[0m\n\u001b[1;32m    140\u001b[0m                                  \u001b[0;34m' dimensions, but got array with shape '\u001b[0m \u001b[0;34m+\u001b[0m\u001b[0;34m\u001b[0m\u001b[0m\n\u001b[0;32m--> 141\u001b[0;31m                                  str(array.shape))\n\u001b[0m\u001b[1;32m    142\u001b[0m             \u001b[0;32mfor\u001b[0m \u001b[0mj\u001b[0m\u001b[0;34m,\u001b[0m \u001b[0;34m(\u001b[0m\u001b[0mdim\u001b[0m\u001b[0;34m,\u001b[0m \u001b[0mref_dim\u001b[0m\u001b[0;34m)\u001b[0m \u001b[0;32min\u001b[0m \u001b[0menumerate\u001b[0m\u001b[0;34m(\u001b[0m\u001b[0mzip\u001b[0m\u001b[0;34m(\u001b[0m\u001b[0marray\u001b[0m\u001b[0;34m.\u001b[0m\u001b[0mshape\u001b[0m\u001b[0;34m,\u001b[0m \u001b[0mshapes\u001b[0m\u001b[0;34m[\u001b[0m\u001b[0mi\u001b[0m\u001b[0;34m]\u001b[0m\u001b[0;34m)\u001b[0m\u001b[0;34m)\u001b[0m\u001b[0;34m:\u001b[0m\u001b[0;34m\u001b[0m\u001b[0m\n\u001b[1;32m    143\u001b[0m                 \u001b[0;32mif\u001b[0m \u001b[0;32mnot\u001b[0m \u001b[0mj\u001b[0m \u001b[0;32mand\u001b[0m \u001b[0;32mnot\u001b[0m \u001b[0mcheck_batch_axis\u001b[0m\u001b[0;34m:\u001b[0m\u001b[0;34m\u001b[0m\u001b[0m\n",
      "\u001b[0;31mValueError\u001b[0m: Error when checking target: expected dense_11 to have 3 dimensions, but got array with shape (42371, 3)"
     ]
    }
   ],
   "source": [
    "history = model3.fit([data['train']['text'].reshape()],keras.utils.to_categorical(data['train']['y'],3),\n",
    "                     epochs=10,verbose=0,callbacks=[TQDMNotebookCallback(leave_inner=True,)\n",
    "    ],\n",
    "    validation_data=(\n",
    "        [data['val']['text']],\n",
    "        keras.utils.to_categorical(data['val']['y'],3)\n",
    "    ),\n",
    "    batch_size=32\n",
    ")"
   ]
  },
  {
   "cell_type": "code",
   "execution_count": null,
   "metadata": {},
   "outputs": [],
   "source": [
    "import matplotlib.pyplot as plt\n",
    "\n",
    "plt.plot(history.epoch,history.history['loss'],history.epoch,history.history['val_loss'])\n",
    "plt.show()\n",
    "_=_"
   ]
  },
  {
   "cell_type": "code",
   "execution_count": null,
   "metadata": {},
   "outputs": [],
   "source": [
    "from sklearn.metrics import accuracy_score\n",
    "h = model2.predict([data['test']['text']])\n",
    "predict = np.asarray([np.argmax(i) for i in h])\n",
    "gold = np.asarray(data['test']['y'])\n",
    "resultf1 = accuracy_score(gold, predict)\n",
    "print('Accuracy score on {} test samples: {:.6}'.format(\n",
    "    len(predict), resultf1\n",
    "))"
   ]
  },
  {
   "cell_type": "code",
   "execution_count": 26,
   "metadata": {},
   "outputs": [
    {
     "name": "stdout",
     "output_type": "stream",
     "text": [
      "[0.9595083  0.26233734 0.30014796]\n",
      "[[0.95685904]\n",
      " [0.90399242]\n",
      " [0.78772734]\n",
      " [0.52574663]]\n",
      "[[0.5834513  0.14647375 0.14317278]\n",
      " [0.05805849 0.22996969 0.32466572]]\n"
     ]
    }
   ],
   "source": [
    "\n",
    "import numpy as np\n",
    "a= np.random.rand(8,6)\n",
    "b=np.random.rand(3,)\n",
    "c=np.random.rand(4,1)\n",
    "#print((a+b).shape) \n",
    "print(b)\n",
    "print(c)\n",
    "print(a[:2,1:4])"
   ]
  },
  {
   "cell_type": "code",
   "execution_count": null,
   "metadata": {},
   "outputs": [],
   "source": []
  }
 ],
 "metadata": {
  "kernelspec": {
   "display_name": "Python 3",
   "language": "python",
   "name": "python3"
  },
  "language_info": {
   "codemirror_mode": {
    "name": "ipython",
    "version": 3
   },
   "file_extension": ".py",
   "mimetype": "text/x-python",
   "name": "python",
   "nbconvert_exporter": "python",
   "pygments_lexer": "ipython3",
   "version": "3.6.4"
  },
  "toc": {
   "nav_menu": {},
   "number_sections": true,
   "sideBar": true,
   "skip_h1_title": false,
   "toc_cell": false,
   "toc_position": {},
   "toc_section_display": "block",
   "toc_window_display": true
  },
  "varInspector": {
   "cols": {
    "lenName": 16,
    "lenType": 16,
    "lenVar": 40
   },
   "kernels_config": {
    "python": {
     "delete_cmd_postfix": "",
     "delete_cmd_prefix": "del ",
     "library": "var_list.py",
     "varRefreshCmd": "print(var_dic_list())"
    },
    "r": {
     "delete_cmd_postfix": ") ",
     "delete_cmd_prefix": "rm(",
     "library": "var_list.r",
     "varRefreshCmd": "cat(var_dic_list()) "
    }
   },
   "position": {
    "height": "663px",
    "left": "1713.33px",
    "right": "20px",
    "top": "120px",
    "width": "350px"
   },
   "types_to_exclude": [
    "module",
    "function",
    "builtin_function_or_method",
    "instance",
    "_Feature"
   ],
   "window_display": true
  }
 },
 "nbformat": 4,
 "nbformat_minor": 2
}
