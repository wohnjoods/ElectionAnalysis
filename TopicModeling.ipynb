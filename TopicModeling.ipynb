{
 "cells": [
  {
   "cell_type": "code",
   "execution_count": 1,
   "metadata": {},
   "outputs": [],
   "source": [
    "import sys\n",
    "import csv\n",
    "import pandas as pd\n",
    "import nltk\n",
    "import spacy\n",
    "import en_core_web_sm\n",
    "import vaderSentiment\n",
    "from vaderSentiment.vaderSentiment import SentimentIntensityAnalyzer\n",
    "sid = SentimentIntensityAnalyzer()\n",
    "df = pd.read_pickle(\"text.pkl\")"
   ]
  },
  {
   "cell_type": "code",
   "execution_count": 8,
   "metadata": {},
   "outputs": [],
   "source": [
    "#df.to_csv('text.csv')\n",
    "#df.to_pickle(\"text.pkl\")"
   ]
  },
  {
   "cell_type": "code",
   "execution_count": 9,
   "metadata": {},
   "outputs": [],
   "source": []
  },
  {
   "cell_type": "code",
   "execution_count": 2,
   "metadata": {},
   "outputs": [],
   "source": [
    "dfShort=df[:100]"
   ]
  },
  {
   "cell_type": "code",
   "execution_count": 3,
   "metadata": {},
   "outputs": [],
   "source": [
    "nlp = en_core_web_sm.load()"
   ]
  },
  {
   "cell_type": "code",
   "execution_count": 4,
   "metadata": {},
   "outputs": [],
   "source": [
    "tokenList = ['trump','clinton','hillary','donald', 'hillaryclinton', 'realdonaldtrump']\n",
    "posTrumpList\n",
    "negTrumpList\n",
    "posClintonList\n",
    "negClintonList = ['crooked hillary']\n",
    "#depLabelList = ['dep','dobj','appos','compound','nsubj','pobj','nmod','ROOT','nsubjpass','poss','conj','attr','npadvmod']\n",
    "depLabelList = ['dobj','appos','nsubj'] #dep that are good for identifying subject\n",
    "depLabelDict = {}\n",
    "posLabelDict = {}\n",
    "#posLabelList = ['NOUN', 'PROPN', 'ADJ']\n"
   ]
  },
  {
   "cell_type": "code",
   "execution_count": 14,
   "metadata": {},
   "outputs": [
    {
     "name": "stdout",
     "output_type": "stream",
     "text": [
      "RT @DrJenGunter: Because HRC has been slandered by misogynistic press for 40 yrs who have Trump $100 million free air time https://t.co/yLL…\n",
      "pos\n",
      "Trump dobj\n",
      "RT @DonaldJTrumpJr: Wow so young and so articulate! Black Teen Activist CJ Pearson Endorses Trump – (VIDEO) https://t.co/ZMME26rjsh via @ga…\n",
      "pos\n",
      "Trump nsubj\n",
      "RT @DiamondandSilk: The DNC speeches have been about TRUMP TRUMP TRUMP because nobody has nothing great to say about Crooked Hillary. https…\n",
      "neg\n",
      "TRUMP pobj\n",
      "RT @DiamondandSilk: The DNC speeches have been about TRUMP TRUMP TRUMP because nobody has nothing great to say about Crooked Hillary. https…\n",
      "neg\n",
      "Hillary pobj\n",
      "Columnas políticas del 28/07: Osorio Chong, Tierra Caliente y las demandas: \"Donald Trump ha hecho de la ment... https://t.co/BxFXjgOgaD\n",
      "pos\n",
      "Trump appos\n",
      "We need to talk about the child rape lawsuit filed against Donald Trump. https://t.co/ydG8zuHcfT\n",
      "neg\n",
      "Trump pobj\n",
      "RT @javiparada: “No abucheen, ¡voten!”, el poderoso mensaje de Barack Obama contra Donald Trump y a favor de Hillary Clinton https://t.co/w…\n",
      "pos\n",
      "Clinton appos\n",
      "RT @4counting: Devastating. Hillary Clinton is \"sane\" and \"competent,\" unlike Trump, Bloomberg tells Americans https://t.co/Ckvk8iPQQZ via…\n",
      "neg\n",
      "Clinton nsubj\n",
      "RT @4counting: Devastating. Hillary Clinton is \"sane\" and \"competent,\" unlike Trump, Bloomberg tells Americans https://t.co/Ckvk8iPQQZ via…\n",
      "neg\n",
      "Trump pobj\n",
      "RT @ShareeShannon: Obama’s Powerful Message: Donald Trump Is Un-American https://t.co/8ErqzTRyYi via @JohnCassidy #ObamaSpeech\n",
      "pos\n",
      "Trump appos\n",
      "The Hollywood Reporter: Critic's Notebook: Obama Inspires, Bloomberg Tears Into Trump at Democratic Convention. https://t.co/AZWvkC7kCL\n",
      "pos\n",
      "Trump pobj\n",
      "RT @HillaryClinton: \"Ronald Reagan called America 'a shining city on a hill.'Donald Trump calls it 'a divided crime scene' that only he c…\n",
      "neg\n",
      "Trump nsubj\n",
      "RT @bennydiego: Bloomberg on Donald Trump: \"God help us. I'm a New Yorker, and I know a con when I see one!\" #DemsInPhilly https://t.co/nOc…\n",
      "pos\n",
      "Trump pobj\n",
      "RT @camilacabello97: .@cabeyosmind it scares the hell out of me that trump might be president and I think we have to do everything to make…\n",
      "neg\n",
      "trump nsubj\n",
      "Putin's already hacking. #Trump merely wants him to share it. https://t.co/L60rXocgyU\n",
      "pos\n",
      "Trump nsubj\n",
      "RT @AnnCoulter: McAuliffe: Clinton would flip-flop on TPP.  https://t.co/NTG7eDUSez  And she'll get no resistance from Paul Ryan. VOTE NEHL…\n",
      "neg\n",
      "Clinton nsubj\n",
      "RT @NateSilver538: Why does our forecast love Trump so much? https://t.co/tCvkS2cje5\n",
      "pos\n",
      "Trump dobj\n",
      "RT @kylegriffin1: BIDEN on Trump: \"He has no clue about what makes America great. Actually, he has no clue period.\" #DemsInPhilly\n",
      "pos\n",
      "Trump pobj\n",
      "Trump Is Disqualified By  'Endorsing Russia To Hack Into Our Nat'l Security Apparatus' https://t.co/lfkvbd6uBP via @crooksandliars\n",
      "neg\n",
      "Trump nsubj\n",
      "RT @kayleighmcenany: The way #PresidentObama is breathlessly attacking Trump makes it glaringly obvious, he is deeply scared that Trump can…\n",
      "neg\n",
      "Trump dobj\n",
      "RT @kayleighmcenany: The way #PresidentObama is breathlessly attacking Trump makes it glaringly obvious, he is deeply scared that Trump can…\n",
      "neg\n",
      "Trump nsubj\n",
      "RT @washingtonpost: More than 500 miles apart, Donald Trump and Joe Biden debate compassion https://t.co/Y3eRb7h3eD\n",
      "pos\n",
      "Trump appos\n",
      "RT @WmCraigBarnard: No American should believe Democrats who have been cheating their own candidates will do any less so against Trump. htt…\n",
      "neg\n",
      "Trump pobj\n",
      "RT @pawlodlaboha: @andersostlund  Trump is the Hubbard of political pornography. Failed in everything. Succeeded in fooling the masses http…\n",
      "neg\n",
      "Trump nsubj\n",
      "@SopanDeb Lousy journalism to claim Trump mocked disabled and people see thru it. No evidence Trump's seen the guy in 20+ years.\n",
      "neg\n",
      "Trump nsubj\n",
      "@SopanDeb Lousy journalism to claim Trump mocked disabled and people see thru it. No evidence Trump's seen the guy in 20+ years.\n",
      "neg\n",
      "Trump nsubj\n",
      "RT @CrestonQ: Bill Clinton exaggerates how many people moved out of poverty under his administration https://t.co/PLjk01x85j via @PolitiFact\n",
      "neg\n",
      "Clinton nsubj\n",
      "RT @DPRK_News: Hillary Clinton expected to promote record of failure in Libya, Russia, China, and DPRK, proving she lives in worlds of dayd…\n",
      "neg\n",
      "Clinton nsubj\n",
      "RT @AP_Politics: Obama boosts Clinton: Carry her like you carried me. #DemsInPhilly https://t.co/HCwa3NyJhe https://t.co/SZmaJsPfXJ\n",
      "pos\n",
      "Clinton dobj\n"
     ]
    }
   ],
   "source": [
    "docCount=0\n",
    "for row in dfShort.itertuples(index=True, name='Pandas'):\n",
    "    doc = nlp(getattr(row, \"text\"))\n",
    "    sentiment = sid.polarity_scores(getattr(row, \"text\"))\n",
    "    \n",
    "    for token in doc:\n",
    "        if(token.lemma_ in tokenList):\n",
    "            #print(docCount,token.i,token.text,token.pos_,token.dep_, spacy.explain(token.dep_))\n",
    "            \n",
    "            if(token.pos_ not in posLabelDict):\n",
    "                posLabelDict[token.pos_] = 1\n",
    "            if(token.dep_ not in depLabelDict):\n",
    "                depLabelDict[token.dep_] = 1\n",
    "            \n",
    "            if(token.dep_ in depLabelList):\n",
    "                \n",
    "                if(sentiment['compound'] < -0.1):\n",
    "                    print(doc)\n",
    "                    print('neg')\n",
    "                    print(token.text,token.dep_)\n",
    "                if(sentiment['compound'] > 0.1):\n",
    "                    print(doc)\n",
    "                    print('pos')\n",
    "                    print(token.text,token.dep_)\n",
    "                \n",
    "            #if(token.pos_ in posLabelDict):\n",
    "            #    posLabelDict[token.pos_]=posLabelDict[token.pos_]+1\n",
    "            #if(token.dep_ in depLabelDict):\n",
    "            #    depLabelDict[token.dep_]=depLabelDict[token.dep_]+1\n",
    "                \n",
    "        #if(token.dep_ == \"nsubj\"):\n",
    "            #print(token.dep_)\n",
    "    docCount=docCount+1"
   ]
  },
  {
   "cell_type": "code",
   "execution_count": 66,
   "metadata": {},
   "outputs": [
    {
     "name": "stdout",
     "output_type": "stream",
     "text": [
      "{'dep': 2, 'dobj': 9, 'appos': 7, 'compound': 36, 'nsubj': 21, 'pobj': 12, 'nmod': 2, 'ROOT': 2, 'nsubjpass': 2, 'poss': 5, 'conj': 2, 'attr': 2, 'npadvmod': 2}\n",
      "{'NOUN': 8, 'PROPN': 84, 'ADJ': 2}\n"
     ]
    }
   ],
   "source": [
    "print(depLabelDict)\n",
    "print(posLabelDict)"
   ]
  },
  {
   "cell_type": "code",
   "execution_count": null,
   "metadata": {},
   "outputs": [],
   "source": []
  },
  {
   "cell_type": "code",
   "execution_count": null,
   "metadata": {},
   "outputs": [],
   "source": []
  },
  {
   "cell_type": "code",
   "execution_count": 12,
   "metadata": {},
   "outputs": [
    {
     "name": "stdout",
     "output_type": "stream",
     "text": [
      "RT\n",
      "@VanityFair\n",
      ":\n",
      "Obama\n",
      "on\n",
      "Trump\n",
      ":\n",
      "“\n",
      "Homegrown\n",
      "demagogues\n",
      "will\n",
      "always\n",
      "fail\n",
      ".\n",
      "”\n",
      "https://t.co/OIwEBddy2K\n",
      "#\n",
      "DNCinPHL\n",
      "https://t.co/t8PrOi45HH\n"
     ]
    }
   ],
   "source": [
    "for token in doc:\n",
    "    print(token.text)"
   ]
  },
  {
   "cell_type": "code",
   "execution_count": null,
   "metadata": {},
   "outputs": [],
   "source": []
  },
  {
   "cell_type": "code",
   "execution_count": 1,
   "metadata": {},
   "outputs": [
    {
     "name": "stdout",
     "output_type": "stream",
     "text": [
      "Collecting vaderSentiment\n",
      "\u001b[?25l  Downloading https://files.pythonhosted.org/packages/86/9e/c53e1fc61aac5ee490a6ac5e21b1ac04e55a7c2aba647bb8411c9aadf24e/vaderSentiment-3.2.1-py2.py3-none-any.whl (125kB)\n",
      "\u001b[K    100% |████████████████████████████████| 133kB 3.0MB/s \n",
      "\u001b[?25hInstalling collected packages: vaderSentiment\n",
      "Successfully installed vaderSentiment-3.2.1\n"
     ]
    },
    {
     "name": "stderr",
     "output_type": "stream",
     "text": [
      "/home/nbuser/anaconda3_420/lib/python3.5/site-packages/nltk/twitter/__init__.py:20: UserWarning: The twython library has not been installed. Some functionality from the twitter package will not be available.\n",
      "  warnings.warn(\"The twython library has not been installed. \"\n"
     ]
    }
   ],
   "source": [
    "!pip install vaderSentiment\n",
    "#!pip install nltk\n",
    "#!pip install twython\n",
    "import pandas as pd\n",
    "\n",
    "import nltk\n",
    "from nltk.sentiment.vader import SentimentIntensityAnalyzer\n",
    "import vaderSentiment\n",
    "from vaderSentiment.vaderSentiment import SentimentIntensityAnalyzer\n",
    "\n"
   ]
  },
  {
   "cell_type": "code",
   "execution_count": null,
   "metadata": {},
   "outputs": [],
   "source": [
    "#nltk.download()"
   ]
  },
  {
   "cell_type": "code",
   "execution_count": 6,
   "metadata": {},
   "outputs": [],
   "source": [
    "sid = SentimentIntensityAnalyzer()"
   ]
  },
  {
   "cell_type": "markdown",
   "metadata": {},
   "source": [
    "#Testing for azurre sentiment api formatting\n",
    "addSent= {'errors': [], 'documents': [{'id': '760050982818488320', 'score': 0.5}, {'id': '760050982587727874', 'score': 0.9485833644866943}]}\n",
    "sentiments= {'errors': [], 'documents': [{'id': '760050985125482496', 'score': 0.5}, {'id': '760050977428926465', 'score': 0.7024973630905151}, {'id': '760050980369170432', 'score': 0.048686087131500244}, {'id': '760050982818488320', 'score': 0.5}, {'id': '760050982587727874', 'score': 0.9485833644866943}]}\n",
    "length = len(addSent['documents'])\n",
    "print (length)\n",
    "sentiments['documents'].extend((addSent['documents'][:length]))"
   ]
  },
  {
   "cell_type": "code",
   "execution_count": 2,
   "metadata": {},
   "outputs": [],
   "source": [
    "tweets= {'documents': [{\"id\":\"760050938778226688\",\"language\":\"en\",\"text\":\"GOP Leaders Don\\'t Ditch Trump Even After Condemning His Attacks On Muslim War Hero\\'s Family https://t.co/Pnc6avFqKY #SmartNews\"}, {\"id\":\"760050943094292480\",\"language\":\"en\",\"text\":\"Saudi prince thinks Trump is the worst on Twitter: //\\\"I bailed you out twice\\\"// https://t.co/2usXpBv1oi via @HuffPostPol\"}, {\"id\":\"760050943312302080\",\"language\":\"en\",\"text\":\"RT @TheDemocrats: She is a Gold Star mother, she is Muslim, and she has some words for Donald Trump.\"}]}"
   ]
  },
  {
   "cell_type": "code",
   "execution_count": 3,
   "metadata": {},
   "outputs": [
    {
     "data": {
      "text/html": [
       "<div>\n",
       "<table border=\"1\" class=\"dataframe\">\n",
       "  <thead>\n",
       "    <tr style=\"text-align: right;\">\n",
       "      <th></th>\n",
       "      <th>id</th>\n",
       "      <th>language</th>\n",
       "      <th>text</th>\n",
       "    </tr>\n",
       "  </thead>\n",
       "  <tbody>\n",
       "    <tr>\n",
       "      <th>0</th>\n",
       "      <td>760050938778226688</td>\n",
       "      <td>en</td>\n",
       "      <td>GOP Leaders Don't Ditch Trump Even After Conde...</td>\n",
       "    </tr>\n",
       "    <tr>\n",
       "      <th>1</th>\n",
       "      <td>760050943094292480</td>\n",
       "      <td>en</td>\n",
       "      <td>Saudi prince thinks Trump is the worst on Twit...</td>\n",
       "    </tr>\n",
       "    <tr>\n",
       "      <th>2</th>\n",
       "      <td>760050943312302080</td>\n",
       "      <td>en</td>\n",
       "      <td>RT @TheDemocrats: She is a Gold Star mother, s...</td>\n",
       "    </tr>\n",
       "  </tbody>\n",
       "</table>\n",
       "</div>"
      ],
      "text/plain": [
       "                   id language  \\\n",
       "0  760050938778226688       en   \n",
       "1  760050943094292480       en   \n",
       "2  760050943312302080       en   \n",
       "\n",
       "                                                text  \n",
       "0  GOP Leaders Don't Ditch Trump Even After Conde...  \n",
       "1  Saudi prince thinks Trump is the worst on Twit...  \n",
       "2  RT @TheDemocrats: She is a Gold Star mother, s...  "
      ]
     },
     "execution_count": 3,
     "metadata": {},
     "output_type": "execute_result"
    }
   ],
   "source": [
    "dfTweets= pd.DataFrame(tweets['documents'])\n",
    "#dfTweets.set_index('id')\n",
    "dfTweets"
   ]
  },
  {
   "cell_type": "code",
   "execution_count": 18,
   "metadata": {},
   "outputs": [
    {
     "data": {
      "text/html": [
       "<div>\n",
       "<table border=\"1\" class=\"dataframe\">\n",
       "  <thead>\n",
       "    <tr style=\"text-align: right;\">\n",
       "      <th></th>\n",
       "      <th>id</th>\n",
       "      <th>location</th>\n",
       "    </tr>\n",
       "  </thead>\n",
       "  <tbody>\n",
       "    <tr>\n",
       "      <th>1</th>\n",
       "      <td>760050938778226688</td>\n",
       "      <td>OH</td>\n",
       "    </tr>\n",
       "    <tr>\n",
       "      <th>2</th>\n",
       "      <td>760050943094292480</td>\n",
       "      <td>NC</td>\n",
       "    </tr>\n",
       "    <tr>\n",
       "      <th>3</th>\n",
       "      <td>760050943094292481</td>\n",
       "      <td>SC</td>\n",
       "    </tr>\n",
       "  </tbody>\n",
       "</table>\n",
       "</div>"
      ],
      "text/plain": [
       "                   id location\n",
       "1  760050938778226688       OH\n",
       "2  760050943094292480       NC\n",
       "3  760050943094292481       SC"
      ]
     },
     "execution_count": 18,
     "metadata": {},
     "output_type": "execute_result"
    }
   ],
   "source": [
    "#testing for nltk sentiment api\n",
    "\n",
    "columns = ['id','location']\n",
    "dic = {'id': '760050938778226688', 'location':'OH'}\n",
    "dic2 = {'id': '760050943094292480', 'location':'NC'}\n",
    "dic3 = {'id': '760050943094292481', 'location':'SC'}\n",
    "dfLocation= pd.DataFrame(columns=columns)\n",
    "dfLocation.set_index('id')\n",
    "dfLocation.loc[1]= dic\n",
    "dfLocation.loc[2]= dic2\n",
    "dfLocation.loc[3]= dic3\n",
    "dfLocation"
   ]
  },
  {
   "cell_type": "code",
   "execution_count": 21,
   "metadata": {},
   "outputs": [
    {
     "data": {
      "text/html": [
       "<div>\n",
       "<table border=\"1\" class=\"dataframe\">\n",
       "  <thead>\n",
       "    <tr style=\"text-align: right;\">\n",
       "      <th></th>\n",
       "      <th>id</th>\n",
       "      <th>language</th>\n",
       "    </tr>\n",
       "  </thead>\n",
       "  <tbody>\n",
       "    <tr>\n",
       "      <th>0</th>\n",
       "      <td>760050938778226688</td>\n",
       "      <td>en</td>\n",
       "    </tr>\n",
       "    <tr>\n",
       "      <th>1</th>\n",
       "      <td>760050943094292480</td>\n",
       "      <td>en</td>\n",
       "    </tr>\n",
       "  </tbody>\n",
       "</table>\n",
       "</div>"
      ],
      "text/plain": [
       "                   id language\n",
       "0  760050938778226688       en\n",
       "1  760050943094292480       en"
      ]
     },
     "execution_count": 21,
     "metadata": {},
     "output_type": "execute_result"
    }
   ],
   "source": [
    "#Merge df test\n",
    "result = pd.merge(dfLocation,\n",
    "                 dfTweets[['id', 'language', 'text']],\n",
    "                 on='id')\n",
    "result = result[['id','language']]\n",
    "result.head()"
   ]
  },
  {
   "cell_type": "code",
   "execution_count": 50,
   "metadata": {},
   "outputs": [],
   "source": [
    "length = len(dfTweets.index)\n",
    "num = 0\n",
    "while num < length: \n",
    "    text = dfTweets.at[num, 'text']\n",
    "    sentiment = sid.polarity_scores(text)\n",
    "    dfTweets.at[num, 'neg']=sentiment['neg']\n",
    "    dfTweets.at[num, 'pos']=sentiment['pos']\n",
    "    dfTweets.at[num, 'neu']=sentiment['neu']\n",
    "    dfTweets.at[num, 'compound']=sentiment['compound']\n",
    "\n",
    "    num=num+1\n",
    "#figure out storing as df"
   ]
  },
  {
   "cell_type": "code",
   "execution_count": 53,
   "metadata": {},
   "outputs": [
    {
     "data": {
      "text/html": [
       "<div>\n",
       "<table border=\"1\" class=\"dataframe\">\n",
       "  <thead>\n",
       "    <tr style=\"text-align: right;\">\n",
       "      <th></th>\n",
       "      <th>id</th>\n",
       "      <th>language</th>\n",
       "      <th>text</th>\n",
       "      <th>neg</th>\n",
       "      <th>pos</th>\n",
       "      <th>neu</th>\n",
       "      <th>compound</th>\n",
       "    </tr>\n",
       "  </thead>\n",
       "  <tbody>\n",
       "    <tr>\n",
       "      <th>0</th>\n",
       "      <td>760050938778226688</td>\n",
       "      <td>en</td>\n",
       "      <td>GOP Leaders Don't Ditch Trump Even After Conde...</td>\n",
       "      <td>0.312</td>\n",
       "      <td>0.0</td>\n",
       "      <td>0.688</td>\n",
       "      <td>-0.7783</td>\n",
       "    </tr>\n",
       "    <tr>\n",
       "      <th>1</th>\n",
       "      <td>760050943094292480</td>\n",
       "      <td>en</td>\n",
       "      <td>Saudi prince thinks Trump is the worst on Twit...</td>\n",
       "      <td>0.204</td>\n",
       "      <td>0.0</td>\n",
       "      <td>0.796</td>\n",
       "      <td>-0.6249</td>\n",
       "    </tr>\n",
       "  </tbody>\n",
       "</table>\n",
       "</div>"
      ],
      "text/plain": [
       "                   id language  \\\n",
       "0  760050938778226688       en   \n",
       "1  760050943094292480       en   \n",
       "\n",
       "                                                text    neg  pos    neu  \\\n",
       "0  GOP Leaders Don't Ditch Trump Even After Conde...  0.312  0.0  0.688   \n",
       "1  Saudi prince thinks Trump is the worst on Twit...  0.204  0.0  0.796   \n",
       "\n",
       "   compound  \n",
       "0   -0.7783  \n",
       "1   -0.6249  "
      ]
     },
     "execution_count": 53,
     "metadata": {},
     "output_type": "execute_result"
    }
   ],
   "source": [
    " dfTweets[:2]"
   ]
  },
  {
   "cell_type": "code",
   "execution_count": 46,
   "metadata": {},
   "outputs": [
    {
     "data": {
      "text/html": [
       "<div>\n",
       "<table border=\"1\" class=\"dataframe\">\n",
       "  <thead>\n",
       "    <tr style=\"text-align: right;\">\n",
       "      <th></th>\n",
       "      <th>id</th>\n",
       "      <th>language</th>\n",
       "      <th>text</th>\n",
       "      <th>neg</th>\n",
       "      <th>pos</th>\n",
       "      <th>neu</th>\n",
       "      <th>compound</th>\n",
       "      <th>Negative</th>\n",
       "      <th>Positive</th>\n",
       "    </tr>\n",
       "  </thead>\n",
       "  <tbody>\n",
       "    <tr>\n",
       "      <th>0</th>\n",
       "      <td>760050938778226688</td>\n",
       "      <td>en</td>\n",
       "      <td>GOP Leaders Don't Ditch Trump Even After Conde...</td>\n",
       "      <td>0.312</td>\n",
       "      <td>0.0</td>\n",
       "      <td>0.688</td>\n",
       "      <td>-0.7783</td>\n",
       "      <td>True</td>\n",
       "      <td>False</td>\n",
       "    </tr>\n",
       "    <tr>\n",
       "      <th>1</th>\n",
       "      <td>760050943094292480</td>\n",
       "      <td>en</td>\n",
       "      <td>Saudi prince thinks Trump is the worst on Twit...</td>\n",
       "      <td>0.204</td>\n",
       "      <td>0.0</td>\n",
       "      <td>0.796</td>\n",
       "      <td>-0.6249</td>\n",
       "      <td>True</td>\n",
       "      <td>False</td>\n",
       "    </tr>\n",
       "    <tr>\n",
       "      <th>2</th>\n",
       "      <td>760050943312302080</td>\n",
       "      <td>en</td>\n",
       "      <td>RT @TheDemocrats: She is a Gold Star mother, s...</td>\n",
       "      <td>0.000</td>\n",
       "      <td>0.0</td>\n",
       "      <td>1.000</td>\n",
       "      <td>0.0000</td>\n",
       "      <td>False</td>\n",
       "      <td>False</td>\n",
       "    </tr>\n",
       "  </tbody>\n",
       "</table>\n",
       "</div>"
      ],
      "text/plain": [
       "                   id language  \\\n",
       "0  760050938778226688       en   \n",
       "1  760050943094292480       en   \n",
       "2  760050943312302080       en   \n",
       "\n",
       "                                                text    neg  pos    neu  \\\n",
       "0  GOP Leaders Don't Ditch Trump Even After Conde...  0.312  0.0  0.688   \n",
       "1  Saudi prince thinks Trump is the worst on Twit...  0.204  0.0  0.796   \n",
       "2  RT @TheDemocrats: She is a Gold Star mother, s...  0.000  0.0  1.000   \n",
       "\n",
       "   compound Negative Positive  \n",
       "0   -0.7783     True    False  \n",
       "1   -0.6249     True    False  \n",
       "2    0.0000    False    False  "
      ]
     },
     "execution_count": 46,
     "metadata": {},
     "output_type": "execute_result"
    }
   ],
   "source": [
    "dfTweets['Negative'] = dfTweets['compound'] < -0.1\n",
    "dfTweets['Positive'] = dfTweets['compound'] > 0.1\n",
    "dfTweets"
   ]
  },
  {
   "cell_type": "code",
   "execution_count": 13,
   "metadata": {},
   "outputs": [
    {
     "name": "stdout",
     "output_type": "stream",
     "text": [
      "[{'score': 0.5, 'id': '760050985125482496'}, {'score': 0.7024973630905151, 'id': '760050977428926465'}, {'score': 0.048686087131500244, 'id': '760050980369170432'}, {'score': 0.5, 'id': '760050982818488320'}, {'score': 0.9485833644866943, 'id': '760050982587727874'}, {'score': 0.5, 'id': '760050982818488320'}, {'score': 0.9485833644866943, 'id': '760050982587727874'}]\n"
     ]
    }
   ],
   "source": [
    "#print (sentiments['documents'][5]['documents'])"
   ]
  },
  {
   "cell_type": "code",
   "execution_count": 8,
   "metadata": {},
   "outputs": [],
   "source": []
  },
  {
   "cell_type": "code",
   "execution_count": 14,
   "metadata": {},
   "outputs": [
    {
     "name": "stdout",
     "output_type": "stream",
     "text": [
      "{'score': 0.5, 'id': '760050985125482496'}\n",
      "{'score': 0.7024973630905151, 'id': '760050977428926465'}\n",
      "{'score': 0.048686087131500244, 'id': '760050980369170432'}\n",
      "{'score': 0.5, 'id': '760050982818488320'}\n",
      "{'score': 0.9485833644866943, 'id': '760050982587727874'}\n",
      "{'score': 0.5, 'id': '760050982818488320'}\n",
      "{'score': 0.9485833644866943, 'id': '760050982587727874'}\n"
     ]
    }
   ],
   "source": []
  },
  {
   "cell_type": "code",
   "execution_count": null,
   "metadata": {},
   "outputs": [],
   "source": []
  },
  {
   "cell_type": "code",
   "execution_count": null,
   "metadata": {},
   "outputs": [],
   "source": [
    "print (sentiments)"
   ]
  },
  {
   "cell_type": "code",
   "execution_count": null,
   "metadata": {},
   "outputs": [],
   "source": [
    "#create new df \n",
    "df = pd.DataFrame(sentiments['documents'])"
   ]
  },
  {
   "cell_type": "code",
   "execution_count": null,
   "metadata": {},
   "outputs": [],
   "source": [
    "df"
   ]
  },
  {
   "cell_type": "code",
   "execution_count": null,
   "metadata": {},
   "outputs": [],
   "source": []
  }
 ],
 "metadata": {
  "kernelspec": {
   "display_name": "Python 3",
   "language": "python",
   "name": "python3"
  },
  "language_info": {
   "codemirror_mode": {
    "name": "ipython",
    "version": 3
   },
   "file_extension": ".py",
   "mimetype": "text/x-python",
   "name": "python",
   "nbconvert_exporter": "python",
   "pygments_lexer": "ipython3",
   "version": "3.6.4"
  }
 },
 "nbformat": 4,
 "nbformat_minor": 2
}
