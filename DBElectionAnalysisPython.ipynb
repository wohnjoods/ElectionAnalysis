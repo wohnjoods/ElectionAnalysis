{
 "cells": [
  {
   "cell_type": "code",
   "execution_count": 1,
   "metadata": {},
   "outputs": [],
   "source": [
    "#Client ID = c4bee0df-0321-4f6c-9cb7-135dd5921986\n",
    "#Client Credential = DvdZPgIV5jdOXDDkQ3VaNhbMpqT9kWbA4MN/BbiPB40=\n",
    "#Directory ID = 72f988bf-86f1-41af-91ab-2d7cd011db47\n",
    "#Twitter Consumer Key = y4xCBt7Mxm2DZoCTvMVbHMXRd\n",
    "#Twitter Consumer Secret = WQKKbnfmFwmzNlMP8Qhmy3IYIjxQKnKyUSKvY0LYHVj3D84RPS\n",
    "#Twitter Access Token = 29534874-CFPlO4WqRq5oXMm1NuWeX5MhmOALiujsXb1NV2JSK\n",
    "#Twitter Access Secret = hUgstQOzvTz7V8SQhbQot1GPBD9ezOHiDhoLWPwZY5G20\n",
    "#Text API Endpoint = https://eastus.api.cognitive.microsoft.com/text/analytics/v2.0\n",
    "#Text API Key = feb9678e9e9b4f7fbde11d6be07560e3\n"
   ]
  },
  {
   "cell_type": "code",
   "execution_count": 1,
   "metadata": {},
   "outputs": [
    {
     "ename": "NameError",
     "evalue": "name 'dbutils' is not defined",
     "output_type": "error",
     "traceback": [
      "\u001b[1;31m---------------------------------------------------------------------------\u001b[0m",
      "\u001b[1;31mNameError\u001b[0m                                 Traceback (most recent call last)",
      "\u001b[1;32m<ipython-input-1-bfd6f21cdb08>\u001b[0m in \u001b[0;36m<module>\u001b[1;34m\u001b[0m\n\u001b[0;32m      7\u001b[0m          \"dfs.adls.oauth2.refresh.url\": \"https://login.microsoftonline.com/72f988bf-86f1-41af-91ab-2d7cd011db47/oauth2/token\"}\n\u001b[0;32m      8\u001b[0m \u001b[1;33m\u001b[0m\u001b[0m\n\u001b[1;32m----> 9\u001b[1;33m dbutils.fs.mount(\n\u001b[0m\u001b[0;32m     10\u001b[0m \u001b[0msource\u001b[0m \u001b[1;33m=\u001b[0m \u001b[1;34m\"adl://electiondata.azuredatalakestore.net\"\u001b[0m\u001b[1;33m,\u001b[0m\u001b[1;33m\u001b[0m\u001b[0m\n\u001b[0;32m     11\u001b[0m \u001b[0mmount_point\u001b[0m \u001b[1;33m=\u001b[0m \u001b[1;34m\"/mnt/tweets2\"\u001b[0m\u001b[1;33m,\u001b[0m\u001b[1;33m\u001b[0m\u001b[0m\n",
      "\u001b[1;31mNameError\u001b[0m: name 'dbutils' is not defined"
     ]
    }
   ],
   "source": [
    "  #Only have to run all this if new notebook\n",
    "\n",
    "#Configure and mount DataLake Storage to Databricks to enable reading tweets from datalake\n",
    "configs = {\"dfs.adls.oauth2.access.token.provider.type\": \"ClientCredential\",\n",
    "           \"dfs.adls.oauth2.client.id\": \"c4bee0df-0321-4f6c-9cb7-135dd5921986\",\n",
    "           \"dfs.adls.oauth2.credential\": \"DvdZPgIV5jdOXDDkQ3VaNhbMpqT9kWbA4MN/BbiPB40=\",\n",
    "           \"dfs.adls.oauth2.refresh.url\": \"https://login.microsoftonline.com/72f988bf-86f1-41af-91ab-2d7cd011db47/oauth2/token\"}\n",
    "\n",
    "dbutils.fs.mount(\n",
    "  source = \"adl://electiondata.azuredatalakestore.net\",\n",
    "  mount_point = \"/mnt/tweets2\",\n",
    "  extra_configs = configs)\n",
    "\n",
    "\n",
    "\n",
    "\n"
   ]
  },
  {
   "cell_type": "code",
   "execution_count": 3,
   "metadata": {},
   "outputs": [
    {
     "data": {
      "text/html": [
       "<style scoped>\n",
       "  .ansiout {\n",
       "    display: block;\n",
       "    unicode-bidi: embed;\n",
       "    white-space: pre-wrap;\n",
       "    word-wrap: break-word;\n",
       "    word-break: break-all;\n",
       "    font-family: \"Source Code Pro\", \"Menlo\", monospace;;\n",
       "    font-size: 13px;\n",
       "    color: #555;\n",
       "    margin-left: 4px;\n",
       "    line-height: 19px;\n",
       "  }\n",
       "</style>\n",
       "<div class=\"ansiout\"><span class=\"ansired\">---------------------------------------------------------------------------</span>\n",
       "<span class=\"ansired\">TypeError</span>                                 Traceback (most recent call last)\n",
       "<span class=\"ansigreen\">&lt;command-2086322965411349&gt;</span> in <span class=\"ansicyan\">&lt;module&gt;</span><span class=\"ansiblue\">()</span>\n",
       "<span class=\"ansigreen\">     25</span> df <span class=\"ansiyellow\">=</span> df<span class=\"ansiyellow\">.</span>fillna<span class=\"ansiyellow\">(</span><span class=\"ansiblue\">&quot;--&quot;</span><span class=\"ansiyellow\">)</span><span class=\"ansiyellow\"></span>\n",
       "<span class=\"ansigreen\">     26</span> <span class=\"ansired\">#replace &quot; with \\&quot;</span><span class=\"ansiyellow\"></span><span class=\"ansiyellow\"></span>\n",
       "<span class=\"ansigreen\">---&gt; 27</span><span class=\"ansiyellow\"> </span>df<span class=\"ansiyellow\">[</span><span class=\"ansiblue\">&apos;text&apos;</span><span class=\"ansiyellow\">]</span> <span class=\"ansiyellow\">=</span> df<span class=\"ansiyellow\">[</span><span class=\"ansiblue\">&apos;text&apos;</span><span class=\"ansiyellow\">]</span><span class=\"ansiyellow\">.</span>str<span class=\"ansiyellow\">.</span>replace<span class=\"ansiyellow\">(</span><span class=\"ansiblue\">&apos;&quot;&apos;</span><span class=\"ansiyellow\">,</span><span class=\"ansiblue\">&apos;\\&quot;&apos;</span><span class=\"ansiyellow\">)</span><span class=\"ansiyellow\"></span>\n",
       "<span class=\"ansigreen\">     28</span> df<span class=\"ansiyellow\"></span>\n",
       "<span class=\"ansigreen\">     29</span> <span class=\"ansired\">#Overwrite for any changes in format to save in databricks store</span><span class=\"ansiyellow\"></span><span class=\"ansiyellow\"></span>\n",
       "\n",
       "<span class=\"ansired\">TypeError</span>: &apos;Column&apos; object is not callable</div>"
      ]
     },
     "metadata": {},
     "output_type": "display_data"
    }
   ],
   "source": [
    "#Only run if new tweets\n",
    "#Takes approx \n",
    "\n",
    "# Puts tweets .json file into data frame\n",
    "df = spark.read.json(\"/mnt/tweets\")\n",
    "\n",
    "#Defines key and api url to make calls for sentiment analysis\n",
    "#subscription_key = \"feb9678e9e9b4f7fbde11d6be07560e3\"\n",
    "#assert subscription_key\n",
    "#text_analytics_base_url = \"https://eastus.api.cognitive.microsoft.com/text/analytics/v2.0/\"\n",
    "#sentiment_api_url = text_analytics_base_url + \"sentiment\"\n",
    "\n",
    "#import for method to fill column with language\n",
    "from pyspark.sql.functions import lit\n",
    "\n",
    "#EDITING DF before saving to Notebook, doesn't have to be ran if no new tweets\n",
    "#Select ID andd Text columns\n",
    "df = df.select(\"id_str\", \"full_text\")\n",
    "#Rename Columns\n",
    "df = df.toDF('id', 'text')\n",
    "#Add Column with fill values\n",
    "df = df.withColumn('language', lit('en'))\n",
    "#Rearrange columns for api format\n",
    "df = df.select(\"id\", \"language\", \"text\")\n",
    "#fill blank cells\n",
    "df = df.fillna(\"--\")\n",
    "#replace \" with \\\"\n",
    "df['text'] = df['text'].str.replace('\"','\\\"')\n",
    "df\n",
    "#Overwrite for any changes in format to save in databricks store\n",
    "#df.write.parquet(\"tweets.parquet\", 'overwrite')"
   ]
  },
  {
   "cell_type": "code",
   "execution_count": 4,
   "metadata": {},
   "outputs": [
    {
     "data": {
      "text/html": [
       "<style scoped>\n",
       "  .ansiout {\n",
       "    display: block;\n",
       "    unicode-bidi: embed;\n",
       "    white-space: pre-wrap;\n",
       "    word-wrap: break-word;\n",
       "    word-break: break-all;\n",
       "    font-family: \"Source Code Pro\", \"Menlo\", monospace;;\n",
       "    font-size: 13px;\n",
       "    color: #555;\n",
       "    margin-left: 4px;\n",
       "    line-height: 19px;\n",
       "  }\n",
       "</style>\n",
       "<div class=\"ansiout\"></div>"
      ]
     },
     "metadata": {},
     "output_type": "display_data"
    }
   ],
   "source": [
    "#TEMP Create df and save for location of tweets\n",
    "#Takes approx \n",
    "\n",
    "# Puts tweets .json file into data frame\n",
    "df = spark.read.json(\"/mnt/tweets\")\n",
    "\n",
    "#Defines key and api url to make calls for sentiment analysis\n",
    "subscription_key = \"feb9678e9e9b4f7fbde11d6be07560e3\"\n",
    "assert subscription_key\n",
    "text_analytics_base_url = \"https://eastus.api.cognitive.microsoft.com/text/analytics/v2.0/\"\n",
    "sentiment_api_url = text_analytics_base_url + \"sentiment\"\n",
    "\n",
    "#import for method to fill column with language\n",
    "from pyspark.sql.functions import lit\n",
    "\n",
    "#EDITING DF before saving to Notebook, doesn't have to be ran if no new tweets\n",
    "#Select ID andd Text columns\n",
    "df = df.select(\"id_str\", \"coordinates\",\"geo\", \"place\")\n",
    "#Rename Columns\n",
    "df = df.toDF('id', \"coordinates\",'location', 'place')\n",
    "#fill blank cells\n",
    "df = df.fillna(\"--\")\n",
    "df\n",
    "#Overwrite for any changes in format to save in databricks store\n",
    "df.write.parquet(\"tweetsLocation.parquet\", 'overwrite')"
   ]
  },
  {
   "cell_type": "code",
   "execution_count": 5,
   "metadata": {},
   "outputs": [
    {
     "data": {
      "text/html": [
       "<style scoped>\n",
       "  .ansiout {\n",
       "    display: block;\n",
       "    unicode-bidi: embed;\n",
       "    white-space: pre-wrap;\n",
       "    word-wrap: break-word;\n",
       "    word-break: break-all;\n",
       "    font-family: \"Source Code Pro\", \"Menlo\", monospace;;\n",
       "    font-size: 13px;\n",
       "    color: #555;\n",
       "    margin-left: 4px;\n",
       "    line-height: 19px;\n",
       "  }\n",
       "</style>\n",
       "<div class=\"ansiout\"></div>"
      ]
     },
     "metadata": {},
     "output_type": "display_data"
    }
   ],
   "source": [
    "#RUN EVERYTIME CLUSTER IS RESTARTED (RAM LOSSED)\n",
    "\n",
    "#Import stuff\n",
    "import twitter\n",
    "import sys\n",
    "import csv\n",
    "import pandas as pd\n",
    "import nltk\n",
    "import pyspark\n",
    "import numpy\n",
    "import pprint\n",
    "import fastparquet\n",
    "import ast\n",
    "from collections import defaultdict\n",
    "import vaderSentiment\n",
    "from vaderSentiment.vaderSentiment import SentimentIntensityAnalyzer\n",
    "sid = SentimentIntensityAnalyzer()\n",
    "#import azure-mgmt-resource\n",
    "#import azure-mgmt-datalake-store\n",
    "#import azure-datalake-store\n",
    "\n",
    "from pyspark.sql.types import StructType\n",
    "import requests\n",
    "#Read most uptodate save as df from databricks file store\n",
    "#dfTweets = spark.read.parquet(\"tweets.parquet\")\n",
    "#Read location df from file store\n",
    "dfLocation = spark.read.parquet(\"tweetsLocation.parquet\")\n",
    "#Create jsonformatted df for location\n",
    "#jsonDF = dfLocation.toJSON()\n",
    "#Create jsonformatted df\n",
    "#jsonDF = dfTweets.toJSON()\n",
    "\n",
    "#Defines key and api url to make calls for sentiment analysis\n",
    "subscription_key = \"feb9678e9e9b4f7fbde11d6be07560e3\"\n",
    "assert subscription_key\n",
    "text_analytics_base_url = \"https://eastus.api.cognitive.microsoft.com/text/analytics/v2.0/\"\n",
    "sentiment_api_url = text_analytics_base_url + \"sentiment\"\n"
   ]
  },
  {
   "cell_type": "code",
   "execution_count": 6,
   "metadata": {},
   "outputs": [],
   "source": [
    "#14467438 tweets\n",
    "#Get jsonList with all, and run next two nodes\n",
    "#Create List of Json Objects\n",
    "jsonList = jsonDF.take(14467438)\n"
   ]
  },
  {
   "cell_type": "code",
   "execution_count": 7,
   "metadata": {},
   "outputs": [
    {
     "data": {
      "text/html": [
       "<style scoped>\n",
       "  .ansiout {\n",
       "    display: block;\n",
       "    unicode-bidi: embed;\n",
       "    white-space: pre-wrap;\n",
       "    word-wrap: break-word;\n",
       "    word-break: break-all;\n",
       "    font-family: \"Source Code Pro\", \"Menlo\", monospace;;\n",
       "    font-size: 13px;\n",
       "    color: #555;\n",
       "    margin-left: 4px;\n",
       "    line-height: 19px;\n",
       "  }\n",
       "</style>\n",
       "<div class=\"ansiout\"><span class=\"ansired\">---------------------------------------------------------------------------</span>\n",
       "<span class=\"ansired\">TypeError</span>                                 Traceback (most recent call last)\n",
       "<span class=\"ansigreen\">&lt;command-1101879728616213&gt;</span> in <span class=\"ansicyan\">&lt;module&gt;</span><span class=\"ansiblue\">()</span>\n",
       "<span class=\"ansigreen\">----&gt; 1</span><span class=\"ansiyellow\"> </span>dfTweets<span class=\"ansiyellow\">[</span><span class=\"ansiblue\">&apos;text&apos;</span><span class=\"ansiyellow\">]</span> <span class=\"ansiyellow\">=</span> dfTweets<span class=\"ansiyellow\">[</span><span class=\"ansiblue\">&apos;text&apos;</span><span class=\"ansiyellow\">]</span><span class=\"ansiyellow\">.</span>str<span class=\"ansiyellow\">.</span>replace<span class=\"ansiyellow\">(</span><span class=\"ansiblue\">&apos;&quot;&apos;</span><span class=\"ansiyellow\">,</span><span class=\"ansiblue\">&apos;\\&quot;&apos;</span><span class=\"ansiyellow\">)</span><span class=\"ansiyellow\"></span>\n",
       "<span class=\"ansigreen\">      2</span> dfTweets<span class=\"ansiyellow\"></span>\n",
       "\n",
       "<span class=\"ansired\">TypeError</span>: &apos;Column&apos; object is not callable</div>"
      ]
     },
     "metadata": {},
     "output_type": "display_data"
    }
   ],
   "source": [
    "#NEXT STEPS:\n",
    "#Try using nltk and reading text from df that is converted to pandas df, then append sentiment to that same df\n",
    "#if successful, save df as csv to datalake"
   ]
  },
  {
   "cell_type": "code",
   "execution_count": 8,
   "metadata": {},
   "outputs": [
    {
     "data": {
      "text/html": [
       "<style scoped>\n",
       "  .ansiout {\n",
       "    display: block;\n",
       "    unicode-bidi: embed;\n",
       "    white-space: pre-wrap;\n",
       "    word-wrap: break-word;\n",
       "    word-break: break-all;\n",
       "    font-family: \"Source Code Pro\", \"Menlo\", monospace;;\n",
       "    font-size: 13px;\n",
       "    color: #555;\n",
       "    margin-left: 4px;\n",
       "    line-height: 19px;\n",
       "  }\n",
       "</style>\n",
       "<div class=\"ansiout\"></div>"
      ]
     },
     "metadata": {},
     "output_type": "display_data"
    }
   ],
   "source": [
    "#takes about 2 min\n",
    "#convert and edit data as pandas df\n",
    "#dfTweets= pd.DataFrame(tweets['documents'])\n",
    "#dfTweets = dfTweets.toPandas()\n",
    "dfLocation = dfLocation.toPandas()"
   ]
  },
  {
   "cell_type": "code",
   "execution_count": 9,
   "metadata": {},
   "outputs": [
    {
     "data": {
      "text/html": [
       "<style scoped>\n",
       "  .ansiout {\n",
       "    display: block;\n",
       "    unicode-bidi: embed;\n",
       "    white-space: pre-wrap;\n",
       "    word-wrap: break-word;\n",
       "    word-break: break-all;\n",
       "    font-family: \"Source Code Pro\", \"Menlo\", monospace;;\n",
       "    font-size: 13px;\n",
       "    color: #555;\n",
       "    margin-left: 4px;\n",
       "    line-height: 19px;\n",
       "  }\n",
       "</style>\n",
       "<div class=\"ansiout\"></div>"
      ]
     },
     "metadata": {},
     "output_type": "display_data"
    }
   ],
   "source": [
    "#test timing for 1000\n",
    "#length =1000\n",
    "#will take approx 2.5 hours\n",
    "length = len(dfTweets.index)\n",
    "num = 0\n",
    "while num < length: \n",
    "    text = dfTweets.at[num, 'text']\n",
    "    sentiment = sid.polarity_scores(text)\n",
    "    dfTweets.at[num, 'neg']=sentiment['neg']\n",
    "    dfTweets.at[num, 'pos']=sentiment['pos']\n",
    "    dfTweets.at[num, 'neu']=sentiment['neu']\n",
    "    dfTweets.at[num, 'compound']=sentiment['compound']\n",
    "\n",
    "    num=num+1"
   ]
  },
  {
   "cell_type": "code",
   "execution_count": 10,
   "metadata": {},
   "outputs": [
    {
     "data": {
      "text/html": [
       "<style scoped>\n",
       "  .ansiout {\n",
       "    display: block;\n",
       "    unicode-bidi: embed;\n",
       "    white-space: pre-wrap;\n",
       "    word-wrap: break-word;\n",
       "    word-break: break-all;\n",
       "    font-family: \"Source Code Pro\", \"Menlo\", monospace;;\n",
       "    font-size: 13px;\n",
       "    color: #555;\n",
       "    margin-left: 4px;\n",
       "    line-height: 19px;\n",
       "  }\n",
       "</style>\n",
       "<div class=\"ansiout\"></div>"
      ]
     },
     "metadata": {},
     "output_type": "display_data"
    }
   ],
   "source": [
    "dfTweets['Negative'] = dfTweets['compound'] < -0.1\n",
    "dfTweets['Positive'] = dfTweets['compound'] > 0.1"
   ]
  },
  {
   "cell_type": "code",
   "execution_count": 11,
   "metadata": {},
   "outputs": [
    {
     "data": {
      "text/html": [
       "<style scoped>\n",
       "  .ansiout {\n",
       "    display: block;\n",
       "    unicode-bidi: embed;\n",
       "    white-space: pre-wrap;\n",
       "    word-wrap: break-word;\n",
       "    word-break: break-all;\n",
       "    font-family: \"Source Code Pro\", \"Menlo\", monospace;;\n",
       "    font-size: 13px;\n",
       "    color: #555;\n",
       "    margin-left: 4px;\n",
       "    line-height: 19px;\n",
       "  }\n",
       "</style>\n",
       "<div class=\"ansiout\">To sign in, use a web browser to open the page https://microsoft.com/devicelogin and enter the code AMN275U2Z to authenticate.\n",
       "</div>"
      ]
     },
     "metadata": {},
     "output_type": "display_data"
    }
   ],
   "source": [
    "#sign in to use dataLake for given session\n",
    "from azure.datalake.store import core, lib, multithread\n",
    "token = lib.auth()"
   ]
  },
  {
   "cell_type": "code",
   "execution_count": 12,
   "metadata": {},
   "outputs": [
    {
     "data": {
      "text/html": [
       "<style scoped>\n",
       "  .ansiout {\n",
       "    display: block;\n",
       "    unicode-bidi: embed;\n",
       "    white-space: pre-wrap;\n",
       "    word-wrap: break-word;\n",
       "    word-break: break-all;\n",
       "    font-family: \"Source Code Pro\", \"Menlo\", monospace;;\n",
       "    font-size: 13px;\n",
       "    color: #555;\n",
       "    margin-left: 4px;\n",
       "    line-height: 19px;\n",
       "  }\n",
       "</style>\n",
       "<div class=\"ansiout\"></div>"
      ]
     },
     "metadata": {},
     "output_type": "display_data"
    }
   ],
   "source": [
    "#save df to DataLake\n",
    "#takes about 10 min, can monitor with storage explorer progress\n",
    "adl = core.AzureDLFileSystem(token, store_name='electiondata')\n",
    "dfCSV = dfTweets.to_csv()\n",
    "with adl.open('/tweetSentiment2.csv', 'wb') as f:\n",
    "    f.write(str.encode(dfCSV))\n",
    "    f.close()\n",
    "#with adl.open('tweetSentiment.csv', 'rb') as f:\n",
    "#    dfTweets = pd.read_csv(f) "
   ]
  },
  {
   "cell_type": "code",
   "execution_count": 13,
   "metadata": {},
   "outputs": [
    {
     "data": {
      "text/html": [
       "<style scoped>\n",
       "  .ansiout {\n",
       "    display: block;\n",
       "    unicode-bidi: embed;\n",
       "    white-space: pre-wrap;\n",
       "    word-wrap: break-word;\n",
       "    word-break: break-all;\n",
       "    font-family: \"Source Code Pro\", \"Menlo\", monospace;;\n",
       "    font-size: 13px;\n",
       "    color: #555;\n",
       "    margin-left: 4px;\n",
       "    line-height: 19px;\n",
       "  }\n",
       "</style>\n",
       "<div class=\"ansiout\"><span class=\"ansired\">---------------------------------------------------------------------------</span>\n",
       "<span class=\"ansired\">AttributeError</span>                            Traceback (most recent call last)\n",
       "<span class=\"ansigreen\">&lt;command-188930204088356&gt;</span> in <span class=\"ansicyan\">&lt;module&gt;</span><span class=\"ansiblue\">()</span>\n",
       "<span class=\"ansigreen\">      1</span> <span class=\"ansired\">#save location df to Datalake</span><span class=\"ansiyellow\"></span><span class=\"ansiyellow\"></span>\n",
       "<span class=\"ansigreen\">      2</span> adl <span class=\"ansiyellow\">=</span> core<span class=\"ansiyellow\">.</span>AzureDLFileSystem<span class=\"ansiyellow\">(</span>token<span class=\"ansiyellow\">,</span> store_name<span class=\"ansiyellow\">=</span><span class=\"ansiblue\">&apos;electiondata&apos;</span><span class=\"ansiyellow\">)</span><span class=\"ansiyellow\"></span>\n",
       "<span class=\"ansigreen\">----&gt; 3</span><span class=\"ansiyellow\"> </span>dfCSV <span class=\"ansiyellow\">=</span> dfLocation<span class=\"ansiyellow\">.</span>to_csv<span class=\"ansiyellow\">(</span><span class=\"ansiyellow\">)</span><span class=\"ansiyellow\"></span>\n",
       "<span class=\"ansigreen\">      4</span> <span class=\"ansigreen\">with</span> adl<span class=\"ansiyellow\">.</span>open<span class=\"ansiyellow\">(</span><span class=\"ansiblue\">&apos;/tweetLocation.csv&apos;</span><span class=\"ansiyellow\">,</span> <span class=\"ansiblue\">&apos;wb&apos;</span><span class=\"ansiyellow\">)</span> <span class=\"ansigreen\">as</span> f<span class=\"ansiyellow\">:</span><span class=\"ansiyellow\"></span>\n",
       "<span class=\"ansigreen\">      5</span>     f<span class=\"ansiyellow\">.</span>write<span class=\"ansiyellow\">(</span>str<span class=\"ansiyellow\">.</span>encode<span class=\"ansiyellow\">(</span>dfCSV<span class=\"ansiyellow\">)</span><span class=\"ansiyellow\">)</span><span class=\"ansiyellow\"></span>\n",
       "\n",
       "<span class=\"ansigreen\">/databricks/spark/python/pyspark/sql/dataframe.py</span> in <span class=\"ansicyan\">__getattr__</span><span class=\"ansiblue\">(self, name)</span>\n",
       "<span class=\"ansigreen\">   1243</span>         <span class=\"ansigreen\">if</span> name <span class=\"ansigreen\">not</span> <span class=\"ansigreen\">in</span> self<span class=\"ansiyellow\">.</span>columns<span class=\"ansiyellow\">:</span><span class=\"ansiyellow\"></span>\n",
       "<span class=\"ansigreen\">   1244</span>             raise AttributeError(\n",
       "<span class=\"ansigreen\">-&gt; 1245</span><span class=\"ansiyellow\">                 &quot;&apos;%s&apos; object has no attribute &apos;%s&apos;&quot; % (self.__class__.__name__, name))\n",
       "</span><span class=\"ansigreen\">   1246</span>         jc <span class=\"ansiyellow\">=</span> self<span class=\"ansiyellow\">.</span>_jdf<span class=\"ansiyellow\">.</span>apply<span class=\"ansiyellow\">(</span>name<span class=\"ansiyellow\">)</span><span class=\"ansiyellow\"></span>\n",
       "<span class=\"ansigreen\">   1247</span>         <span class=\"ansigreen\">return</span> Column<span class=\"ansiyellow\">(</span>jc<span class=\"ansiyellow\">)</span><span class=\"ansiyellow\"></span>\n",
       "\n",
       "<span class=\"ansired\">AttributeError</span>: &apos;DataFrame&apos; object has no attribute &apos;to_csv&apos;</div>"
      ]
     },
     "metadata": {},
     "output_type": "display_data"
    }
   ],
   "source": [
    "#save location df to Datalake\n",
    "adl = core.AzureDLFileSystem(token, store_name='electiondata')\n",
    "dfCSV = dfLocation.to_csv()\n",
    "with adl.open('/tweetLocation.csv', 'wb') as f:\n",
    "    f.write(str.encode(dfCSV))\n",
    "    f.close()\n",
    "#with adl.open('tweetSentiment.csv', 'rb') as f:\n",
    "#    dfTweets = pd.read_csv(f) "
   ]
  },
  {
   "cell_type": "code",
   "execution_count": 14,
   "metadata": {},
   "outputs": [],
   "source": [
    "#Read location and sentiment csv's from dataLake into pandas df\n",
    "adl = core.AzureDLFileSystem(token, store_name='electiondata')\n",
    "with adl.open('tweetSentiment2.csv', 'rb') as f:\n",
    "  #dfSentiment = pd.read_csv(f)\n",
    "  #clean read sentiment\n",
    "  df_clean = pd.read_csv(f,lineterminator='\\n')\n",
    "  dfSentiment=df_clean\n"
   ]
  },
  {
   "cell_type": "code",
   "execution_count": 15,
   "metadata": {},
   "outputs": [
    {
     "data": {
      "text/html": [
       "<style scoped>\n",
       "  .ansiout {\n",
       "    display: block;\n",
       "    unicode-bidi: embed;\n",
       "    white-space: pre-wrap;\n",
       "    word-wrap: break-word;\n",
       "    word-break: break-all;\n",
       "    font-family: \"Source Code Pro\", \"Menlo\", monospace;;\n",
       "    font-size: 13px;\n",
       "    color: #555;\n",
       "    margin-left: 4px;\n",
       "    line-height: 19px;\n",
       "  }\n",
       "</style>\n",
       "<div class=\"ansiout\"></div>"
      ]
     },
     "metadata": {},
     "output_type": "display_data"
    }
   ],
   "source": [
    "with adl.open('tweetLocation.csv', 'rb') as f:\n",
    "    dfLocation = pd.read_csv(f)"
   ]
  },
  {
   "cell_type": "code",
   "execution_count": 16,
   "metadata": {},
   "outputs": [
    {
     "data": {
      "text/html": [
       "<style scoped>\n",
       "  .ansiout {\n",
       "    display: block;\n",
       "    unicode-bidi: embed;\n",
       "    white-space: pre-wrap;\n",
       "    word-wrap: break-word;\n",
       "    word-break: break-all;\n",
       "    font-family: \"Source Code Pro\", \"Menlo\", monospace;;\n",
       "    font-size: 13px;\n",
       "    color: #555;\n",
       "    margin-left: 4px;\n",
       "    line-height: 19px;\n",
       "  }\n",
       "</style>\n",
       "<div class=\"ansiout\"><span class=\"ansired\">Out[</span><span class=\"ansired\">34</span><span class=\"ansired\">]: </span>\n",
       "    Unnamed: 0                  id coordinates location  \\\n",
       "0            0  780587190669680640         NaN      NaN   \n",
       "1            1  780587188404703232         NaN      NaN   \n",
       "2            2  780587187972640768         NaN      NaN   \n",
       "3            3  780587186613788672         NaN      NaN   \n",
       "4            4  780587190833192960         NaN      NaN   \n",
       "5            5  780587191303081985         NaN      NaN   \n",
       "6            6  780587186890674176         NaN      NaN   \n",
       "7            7  780587186970202112         NaN      NaN   \n",
       "8            8  780587187108622336         NaN      NaN   \n",
       "9            9  780587195455406080         NaN      NaN   \n",
       "10          10  780587191005224960         NaN      NaN   \n",
       "11          11  780587190573301760         NaN      NaN   \n",
       "12          12  780587191797886977         NaN      NaN   \n",
       "13          13  780587195530899456         NaN      NaN   \n",
       "14          14  780587195535155202         NaN      NaN   \n",
       "15          15  780587194742341632         NaN      NaN   \n",
       "16          16  780587191399571456         NaN      NaN   \n",
       "17          17  780587191152050176         NaN      NaN   \n",
       "18          18  780587195346411520         NaN      NaN   \n",
       "19          19  780587193995710469         NaN      NaN   \n",
       "20          20  780587194343788544         NaN      NaN   \n",
       "21          21  780587190824820737         NaN      NaN   \n",
       "22          22  780587191877640192         NaN      NaN   \n",
       "23          23  780587190942179328         NaN      NaN   \n",
       "24          24  780587193605775362         NaN      NaN   \n",
       "25          25  780587190979997697         NaN      NaN   \n",
       "26          26  780587192628355072         NaN      NaN   \n",
       "27          27  780587195161726976         NaN      NaN   \n",
       "28          28  780587192397787136         NaN      NaN   \n",
       "29          29  780587190963216385         NaN      NaN   \n",
       "..         ...                 ...         ...      ...   \n",
       "70          70  780587193861410816         NaN      NaN   \n",
       "71          71  780587192884133889         NaN      NaN   \n",
       "72          72  780587191260950529         NaN      NaN   \n",
       "73          73  780587195442798592         NaN      NaN   \n",
       "74          74  780587195526680577         NaN      NaN   \n",
       "75          75  780587192188010496         NaN      NaN   \n",
       "76          76  780587193911783424         NaN      NaN   \n",
       "77          77  780587190774476800         NaN      NaN   \n",
       "78          78  780587191311433728         NaN      NaN   \n",
       "79          79  780587191764262913         NaN      NaN   \n",
       "80          80  780587195207979008         NaN      NaN   \n",
       "81          81  780587195438604288         NaN      NaN   \n",
       "82          82  780587191454040064         NaN      NaN   \n",
       "83          83  780587195157446657         NaN      NaN   \n",
       "84          84  780587196176801793         NaN      NaN   \n",
       "85          85  780587197246345216         NaN      NaN   \n",
       "86          86  780587195065245696         NaN      NaN   \n",
       "87          87  780587199620317188         NaN      NaN   \n",
       "88          88  780587195568644096         NaN      NaN   \n",
       "89          89  780587195363053568         NaN      NaN   \n",
       "90          90  780587195878952961         NaN      NaN   \n",
       "91          91  780587195128307713         NaN      NaN   \n",
       "92          92  780587199473545216         NaN      NaN   \n",
       "93          93  780587199674847232         NaN      NaN   \n",
       "94          94  780587197636435968         NaN      NaN   \n",
       "95          95  780587198374678530         NaN      NaN   \n",
       "96          96  780587199486160896         NaN      NaN   \n",
       "97          97  780587197372198913         NaN      NaN   \n",
       "98          98  780587199226142720         NaN      NaN   \n",
       "99          99  780587198882217985         NaN      NaN   \n",
       "\n",
       "                                                place  \n",
       "0                                                 NaN  \n",
       "1                                                 NaN  \n",
       "2                                                 NaN  \n",
       "3                                                 NaN  \n",
       "4                                                 NaN  \n",
       "5                                                 NaN  \n",
       "6                                                 NaN  \n",
       "7   Row(bounding_box=Row(coordinates=[[[-122.07371...  \n",
       "8                                                 NaN  \n",
       "9                                                 NaN  \n",
       "10                                                NaN  \n",
       "11                                                NaN  \n",
       "12                                                NaN  \n",
       "13                                                NaN  \n",
       "14                                                NaN  \n",
       "15                                                NaN  \n",
       "16                                                NaN  \n",
       "17                                                NaN  \n",
       "18                                                NaN  \n",
       "19                                                NaN  \n",
       "20                                                NaN  \n",
       "21                                                NaN  \n",
       "22                                                NaN  \n",
       "23                                                NaN  \n",
       "24                                                NaN  \n",
       "25                                                NaN  \n",
       "26                                                NaN  \n",
       "27                                                NaN  \n",
       "28                                                NaN  \n",
       "29                                                NaN  \n",
       "..                                                ...  \n",
       "70                                                NaN  \n",
       "71                                                NaN  \n",
       "72                                                NaN  \n",
       "73                                                NaN  \n",
       "74                                                NaN  \n",
       "75                                                NaN  \n",
       "76                                                NaN  \n",
       "77                                                NaN  \n",
       "78                                                NaN  \n",
       "79                                                NaN  \n",
       "80                                                NaN  \n",
       "81                                                NaN  \n",
       "82                                                NaN  \n",
       "83                                                NaN  \n",
       "84  Row(bounding_box=Row(coordinates=[[[-80.248975...  \n",
       "85                                                NaN  \n",
       "86                                                NaN  \n",
       "87                                                NaN  \n",
       "88                                                NaN  \n",
       "89                                                NaN  \n",
       "90                                                NaN  \n",
       "91                                                NaN  \n",
       "92                                                NaN  \n",
       "93                                                NaN  \n",
       "94                                                NaN  \n",
       "95                                                NaN  \n",
       "96                                                NaN  \n",
       "97                                                NaN  \n",
       "98                                                NaN  \n",
       "99                                                NaN  \n",
       "\n",
       "[100 rows x 5 columns]\n",
       "</div>"
      ]
     },
     "metadata": {},
     "output_type": "display_data"
    }
   ],
   "source": [
    "dfSentiment=df_clean\n",
    "dfLocation.head(100)"
   ]
  },
  {
   "cell_type": "code",
   "execution_count": 17,
   "metadata": {},
   "outputs": [
    {
     "data": {
      "text/html": [
       "<style scoped>\n",
       "  .ansiout {\n",
       "    display: block;\n",
       "    unicode-bidi: embed;\n",
       "    white-space: pre-wrap;\n",
       "    word-wrap: break-word;\n",
       "    word-break: break-all;\n",
       "    font-family: \"Source Code Pro\", \"Menlo\", monospace;;\n",
       "    font-size: 13px;\n",
       "    color: #555;\n",
       "    margin-left: 4px;\n",
       "    line-height: 19px;\n",
       "  }\n",
       "</style>\n",
       "<div class=\"ansiout\"></div>"
      ]
     },
     "metadata": {},
     "output_type": "display_data"
    }
   ],
   "source": [
    "dfSnippet=dfSentiment[:1000]"
   ]
  },
  {
   "cell_type": "code",
   "execution_count": 18,
   "metadata": {},
   "outputs": [
    {
     "data": {
      "text/html": [
       "<style scoped>\n",
       "  .ansiout {\n",
       "    display: block;\n",
       "    unicode-bidi: embed;\n",
       "    white-space: pre-wrap;\n",
       "    word-wrap: break-word;\n",
       "    word-break: break-all;\n",
       "    font-family: \"Source Code Pro\", \"Menlo\", monospace;;\n",
       "    font-size: 13px;\n",
       "    color: #555;\n",
       "    margin-left: 4px;\n",
       "    line-height: 19px;\n",
       "  }\n",
       "</style>\n",
       "<div class=\"ansiout\"></div>"
      ]
     },
     "metadata": {},
     "output_type": "display_data"
    }
   ],
   "source": [
    "dfLocation['id']= pd.to_numeric(dfLocation['id'], downcast='integer', errors='coerce')\n",
    "dfSentiment['id']= pd.to_numeric(dfSentiment['id'], downcast='integer', errors='coerce')"
   ]
  },
  {
   "cell_type": "code",
   "execution_count": 19,
   "metadata": {},
   "outputs": [
    {
     "data": {
      "text/html": [
       "<style scoped>\n",
       "  .ansiout {\n",
       "    display: block;\n",
       "    unicode-bidi: embed;\n",
       "    white-space: pre-wrap;\n",
       "    word-wrap: break-word;\n",
       "    word-break: break-all;\n",
       "    font-family: \"Source Code Pro\", \"Menlo\", monospace;;\n",
       "    font-size: 13px;\n",
       "    color: #555;\n",
       "    margin-left: 4px;\n",
       "    line-height: 19px;\n",
       "  }\n",
       "</style>\n",
       "<div class=\"ansiout\"><span class=\"ansired\">Out[</span><span class=\"ansired\">38</span><span class=\"ansired\">]: </span>\n",
       "          Unnamed: 0            id language  \\\n",
       "0                  0  7.600509e+17       en   \n",
       "1                  1  7.600509e+17       en   \n",
       "2                  2  7.600509e+17       en   \n",
       "3                  3  7.600509e+17       en   \n",
       "4                  4  7.600509e+17       en   \n",
       "5                  5  7.600509e+17       en   \n",
       "6                  6  7.600509e+17       en   \n",
       "7                  7  7.600509e+17       en   \n",
       "8                  8  7.600509e+17       en   \n",
       "9                  9  7.600510e+17       en   \n",
       "10                10  7.600510e+17       en   \n",
       "11                11  7.600510e+17       en   \n",
       "12                12  7.600510e+17       en   \n",
       "13                13  7.600509e+17       en   \n",
       "14                14  7.600509e+17       en   \n",
       "15                15  7.600509e+17       en   \n",
       "16                16  7.600510e+17       en   \n",
       "17                17  7.600510e+17       en   \n",
       "18                18  7.600510e+17       en   \n",
       "19                19  7.600510e+17       en   \n",
       "20                20  7.600510e+17       en   \n",
       "21                21  7.600510e+17       en   \n",
       "22                22  7.600510e+17       en   \n",
       "23                23  7.600510e+17       en   \n",
       "24                24  7.600510e+17       en   \n",
       "25                25  7.600510e+17       en   \n",
       "26                26  7.600510e+17       en   \n",
       "27                27  7.600510e+17       en   \n",
       "28                28  7.600510e+17       en   \n",
       "29                29  7.600510e+17       en   \n",
       "...              ...           ...      ...   \n",
       "14467408    14467408  7.806001e+17       en   \n",
       "14467409    14467409  7.806001e+17       en   \n",
       "14467410    14467410  7.806001e+17       en   \n",
       "14467411    14467411  7.806001e+17       en   \n",
       "14467412    14467412  7.806001e+17       en   \n",
       "14467413    14467413  7.806001e+17       en   \n",
       "14467414    14467414  7.806001e+17       en   \n",
       "14467415    14467415  7.806001e+17       en   \n",
       "14467416    14467416  7.806001e+17       en   \n",
       "14467417    14467417  7.806001e+17       en   \n",
       "14467418    14467418  7.806001e+17       en   \n",
       "14467419    14467419  7.806001e+17       en   \n",
       "14467420    14467420  7.806001e+17       en   \n",
       "14467421    14467421  7.806001e+17       en   \n",
       "14467422    14467422  7.806001e+17       en   \n",
       "14467423    14467423  7.806001e+17       en   \n",
       "14467424    14467424  7.806001e+17       en   \n",
       "14467425    14467425  7.806001e+17       en   \n",
       "14467426    14467426  7.806001e+17       en   \n",
       "14467427    14467427  7.806001e+17       en   \n",
       "14467428    14467428  7.806001e+17       en   \n",
       "14467429    14467429  7.806001e+17       en   \n",
       "14467430    14467430  7.806001e+17       en   \n",
       "14467431    14467431  7.806001e+17       en   \n",
       "14467432    14467432  7.806001e+17       en   \n",
       "14467433    14467433  7.806001e+17       en   \n",
       "14467434    14467434  7.806001e+17       en   \n",
       "14467435    14467435  7.806001e+17       en   \n",
       "14467436    14467436  7.806001e+17       en   \n",
       "14467437    14467437  7.806001e+17       en   \n",
       "\n",
       "                                                       text    neg    pos  \\\n",
       "0         GOP Leaders Don&apos;t Ditch Trump Even After Conde...  0.312  0.000   \n",
       "1         Saudi prince takes on Trump on Twitter: &quot;I bai...  0.000  0.000   \n",
       "2         RT @TheDemocrats: She is a Gold Star mother, s...  0.000  0.000   \n",
       "3         RT @guardian: Donald Trump has gone too far in...  0.163  0.000   \n",
       "4         👁 Reading: “And Then There Was Trump - The New...  0.000  0.000   \n",
       "5         @realDonaldTrump @GOP And another lie from Fra...  0.000  0.000   \n",
       "6         RT @ABC: Clinton slams Trump for his remarks a...  0.200  0.000   \n",
       "7         @BluCapo keep deflecting.  That&apos;s all you clow...  0.103  0.192   \n",
       "8         RT @AmyMek: EXPOSED! Khan Is A #MuslimBrotherh...  0.239  0.000   \n",
       "9         RT @washingtonpost: Ghazala Khan: Trump critic...  0.143  0.000   \n",
       "10        How the ‘Stupid Party’ Created Donald Trump ht...  0.000  0.440   \n",
       "11        @guardian Clinton can invite many more on stag...  0.283  0.110   \n",
       "12        RT @ABC: Clinton slams Trump for his remarks a...  0.200  0.000   \n",
       "13        https://t.co/ocCnvQXRvJ Will Khizr Khan be Don...  0.000  0.000   \n",
       "14        RT @RyanLizza: &quot;Once unmentionable, questions ...  0.000  0.146   \n",
       "15        RT @petermaer: A sure FIRE way to win votes in...  0.172  0.335   \n",
       "16        RT @ananavarro: Ghazala Khan in her own words....  0.187  0.146   \n",
       "17        RT @LindaSuhler: My government failed us &amp;amp;...  0.162  0.103   \n",
       "18        RT @EsotericCD: Get a load of this extremist M...  0.143  0.000   \n",
       "19        Not voting trump, BUT he&apos;s not accessory to 4 ...  0.000  0.000   \n",
       "20        RT @bbcmundo: Mucho antes de Hillary Clinton h...  0.000  0.000   \n",
       "21        RT @politicsblahbla: A number that sums up thi...  0.203  0.060   \n",
       "22        RT @NasLink82: Donald Trump’s slander of Capta...  0.198  0.000   \n",
       "23        Donald Trump Ducks Tax Disclosure https://t.co...  0.000  0.000   \n",
       "24        RT @BarbieKeleigh: This is so wonderfully well...  0.000  0.395   \n",
       "25        RT @DrJaninaRamirez: Fabulous fact. @jk_rowlin...  0.000  0.190   \n",
       "26        RT @Azi: today&apos;s tabs: Trump and Trump. #media...  0.000  0.000   \n",
       "27        @AmyBowie @hebehu @NikkyD77 Post pence my firs...  0.000  0.119   \n",
       "28        Editorial | Trump Campaign: Outrage in Waukesh...  0.268  0.000   \n",
       "29        RT @HillaryClinton: Do all the good we can, in...  0.000  0.100   \n",
       "...                                                     ...    ...    ...   \n",
       "14467408  @HillaryClinton stood her ground..Well prepare...  0.000  0.293   \n",
       "14467409      @realDonaldTrump México, México and México...  0.000  0.000   \n",
       "14467410  RT @HillaryClinton: RT this if you&apos;re proud to...  0.000  0.181   \n",
       "14467411  RT @Variety: After Donald Trump claimed he has...  0.126  0.171   \n",
       "14467412  RT @SethMacFarlane: I&apos;ve never in my lifetime ...  0.000  0.116   \n",
       "14467413  @HillaryClinton = 1, @realDonaldTrump = -1 plu...  0.107  0.137   \n",
       "14467414  Trump on whether the US should go thru with th...  0.140  0.000   \n",
       "14467415  RT @realDonaldTrump: The concept of global war...  0.000  0.159   \n",
       "14467416  RT @pattonoswalt: SNIIIIFFFFFFFFFFF. SNIFF SNI...  0.286  0.000   \n",
       "14467417  RT @HillaryClinton: RT this if you&apos;re proud to...  0.000  0.181   \n",
       "14467418  RT @TeamTrump: America wants justice. @realDon...  0.000  0.462   \n",
       "14467419  RT @timkaine: Couldn&apos;t be prouder of Hillary t...  0.099  0.000   \n",
       "14467420  RT @HillaryClinton: RT this if you&apos;re proud to...  0.000  0.181   \n",
       "14467421  RT @HillaryClinton: A man who can be provoked ...  0.100  0.000   \n",
       "14467422  RT @DanScavino: Jesse Jackson on @realDonaldTr...  0.000  0.000   \n",
       "14467423  RT @HillaryClinton: RT this if you&apos;re proud to...  0.000  0.181   \n",
       "14467424  RT @HillaryClinton: RT this if you&apos;re proud to...  0.000  0.181   \n",
       "14467425                        Great debate, Mrs. Clinton!  0.000  0.594   \n",
       "14467426  RT @NathanZed: &quot;I never said Global Warming is...  0.244  0.000   \n",
       "14467427  RT @realDonaldTrump: Russia has more warheads ...  0.000  0.265   \n",
       "14467428  @realDonaldTrump wins hands down against @Hill...  0.000  0.381   \n",
       "14467429  RT @Cronistacom: EN VIVO: Hillary y Trump, en ...  0.000  0.000   \n",
       "14467430  RT @AlecJRoss: If Hillary Clinton were the one...  0.000  0.000   \n",
       "14467431  RT @letat_lechat: #SheWon despite Holt letting...  0.357  0.000   \n",
       "14467432  RT @HillaryClinton: RT this if you&apos;re proud to...  0.000  0.181   \n",
       "14467433  RT @huntigula: Trump before the debate https:/...  0.000  0.000   \n",
       "14467434  RT @jonnysun: NBC: the pugilistic side of trum...  0.000  0.243   \n",
       "14467435  RT @HillaryClinton: A man who can be provoked ...  0.100  0.000   \n",
       "14467436  RT @HillaryClinton: RT this if you&apos;re proud to...  0.000  0.181   \n",
       "14467437  RT @KevinMKruse: Again, Trump was sued for rac...  0.000  0.000   \n",
       "\n",
       "            neu  compound Negative Positive  \n",
       "0         0.688   -0.7783     True    False  \n",
       "1         1.000    0.0000    False    False  \n",
       "2         1.000    0.0000    False    False  \n",
       "3         0.837   -0.5106     True    False  \n",
       "4         1.000    0.0000    False    False  \n",
       "5         1.000    0.0000    False    False  \n",
       "6         0.800   -0.6705     True    False  \n",
       "7         0.704    0.2263    False     True  \n",
       "8         0.761   -0.6155     True    False  \n",
       "9         0.857   -0.3612     True    False  \n",
       "10        0.560    0.7418    False     True  \n",
       "11        0.607   -0.8339     True    False  \n",
       "12        0.800   -0.6705     True    False  \n",
       "13        1.000    0.0000    False    False  \n",
       "14        0.854    0.4404    False     True  \n",
       "15        0.494    0.4528    False     True  \n",
       "16        0.667   -0.3182     True    False  \n",
       "17        0.735   -0.2960     True    False  \n",
       "18        0.857   -0.3612     True    False  \n",
       "19        1.000    0.0000    False    False  \n",
       "20        1.000    0.0000    False    False  \n",
       "21        0.737   -0.6249     True    False  \n",
       "22        0.802   -0.5719     True    False  \n",
       "23        1.000    0.0000    False    False  \n",
       "24        0.605    0.8876    False     True  \n",
       "25        0.810    0.5719    False     True  \n",
       "26        1.000    0.0000    False    False  \n",
       "27        0.881    0.3182    False     True  \n",
       "28        0.732   -0.5106     True    False  \n",
       "29        0.900    0.4404    False     True  \n",
       "...         ...       ...      ...      ...  \n",
       "14467408  0.707    0.3578    False     True  \n",
       "14467409  1.000    0.0000    False    False  \n",
       "14467410  0.819    0.4767    False     True  \n",
       "14467411  0.704    0.2263    False     True  \n",
       "14467412  0.884    0.3612    False     True  \n",
       "14467413  0.756    0.1759    False     True  \n",
       "14467414  0.860   -0.5994     True    False  \n",
       "14467415  0.841    0.3818    False     True  \n",
       "14467416  0.714   -0.7507     True    False  \n",
       "14467417  0.819    0.4767    False     True  \n",
       "14467418  0.538    0.9001    False     True  \n",
       "14467419  0.901   -0.3875     True    False  \n",
       "14467420  0.819    0.4767    False     True  \n",
       "14467421  0.900   -0.2732     True    False  \n",
       "14467422  1.000    0.0000    False    False  \n",
       "14467423  0.819    0.4767    False     True  \n",
       "14467424  0.819    0.4767    False     True  \n",
       "14467425  0.406    0.6588    False     True  \n",
       "14467426  0.756   -0.3703     True    False  \n",
       "14467427  0.735    0.8020    False     True  \n",
       "14467428  0.619    0.5719    False     True  \n",
       "14467429  1.000    0.0000    False    False  \n",
       "14467430  1.000    0.0000    False    False  \n",
       "14467431  0.643   -0.7269     True    False  \n",
       "14467432  0.819    0.4767    False     True  \n",
       "14467433  1.000    0.0000    False    False  \n",
       "14467434  0.757    0.7739    False     True  \n",
       "14467435  0.900   -0.2732     True    False  \n",
       "14467436  0.819    0.4767    False     True  \n",
       "14467437  1.000    0.0000    False    False  \n",
       "\n",
       "[14467438 rows x 10 columns]\n",
       "</div>"
      ]
     },
     "metadata": {},
     "output_type": "display_data"
    }
   ],
   "source": [
    "dfSentiment"
   ]
  },
  {
   "cell_type": "code",
   "execution_count": 20,
   "metadata": {},
   "outputs": [
    {
     "data": {
      "text/html": [
       "<style scoped>\n",
       "  .ansiout {\n",
       "    display: block;\n",
       "    unicode-bidi: embed;\n",
       "    white-space: pre-wrap;\n",
       "    word-wrap: break-word;\n",
       "    word-break: break-all;\n",
       "    font-family: \"Source Code Pro\", \"Menlo\", monospace;;\n",
       "    font-size: 13px;\n",
       "    color: #555;\n",
       "    margin-left: 4px;\n",
       "    line-height: 19px;\n",
       "  }\n",
       "</style>\n",
       "<div class=\"ansiout\"><span class=\"ansired\">Out[</span><span class=\"ansired\">41</span><span class=\"ansired\">]: </span>\n",
       "         Unnamed: 0            id language  \\\n",
       "3991802     3991802  7.586519e+17       en   \n",
       "3991784     3991784  7.586519e+17       en   \n",
       "3991779     3991779  7.586519e+17       en   \n",
       "3991755     3991755  7.586519e+17       en   \n",
       "3991806     3991806  7.586519e+17       en   \n",
       "3991757     3991757  7.586519e+17       en   \n",
       "3991759     3991759  7.586519e+17       en   \n",
       "3991808     3991808  7.586519e+17       en   \n",
       "3991749     3991749  7.586519e+17       en   \n",
       "3991820     3991820  7.586519e+17       en   \n",
       "3991777     3991777  7.586519e+17       en   \n",
       "3991765     3991765  7.586519e+17       en   \n",
       "3991783     3991783  7.586519e+17       en   \n",
       "3991789     3991789  7.586519e+17       en   \n",
       "3991761     3991761  7.586519e+17       en   \n",
       "3991754     3991754  7.586519e+17       en   \n",
       "3991758     3991758  7.586519e+17       en   \n",
       "3991810     3991810  7.586519e+17       en   \n",
       "3991773     3991773  7.586519e+17       en   \n",
       "3991782     3991782  7.586519e+17       en   \n",
       "3991762     3991762  7.586519e+17       en   \n",
       "3991792     3991792  7.586519e+17       en   \n",
       "3991764     3991764  7.586519e+17       en   \n",
       "3991751     3991751  7.586519e+17       en   \n",
       "3991788     3991788  7.586519e+17       en   \n",
       "3991804     3991804  7.586519e+17       en   \n",
       "3991775     3991775  7.586519e+17       en   \n",
       "3991801     3991801  7.586519e+17       en   \n",
       "3991795     3991795  7.586519e+17       en   \n",
       "3991778     3991778  7.586519e+17       en   \n",
       "...             ...           ...      ...   \n",
       "9876064     9876064           NaN       en   \n",
       "9876065     9876065           NaN       en   \n",
       "9876066     9876066           NaN       en   \n",
       "9876067     9876067           NaN       en   \n",
       "9876068     9876068           NaN       en   \n",
       "9876069     9876069           NaN       en   \n",
       "9876070     9876070           NaN       en   \n",
       "9876071     9876071           NaN       en   \n",
       "9876072     9876072           NaN       en   \n",
       "9876073     9876073           NaN       en   \n",
       "9876074     9876074           NaN       en   \n",
       "9876075     9876075           NaN       en   \n",
       "9876076     9876076           NaN       en   \n",
       "9876077     9876077           NaN       en   \n",
       "9876078     9876078           NaN       en   \n",
       "9876079     9876079           NaN       en   \n",
       "9876080     9876080           NaN       en   \n",
       "9876081     9876081           NaN       en   \n",
       "9876082     9876082           NaN       en   \n",
       "9876083     9876083           NaN       en   \n",
       "9876084     9876084           NaN       en   \n",
       "9876085     9876085           NaN       en   \n",
       "9876086     9876086           NaN       en   \n",
       "9876087     9876087           NaN       en   \n",
       "9876088     9876088           NaN       en   \n",
       "9876089     9876089           NaN       en   \n",
       "9876090     9876090           NaN       en   \n",
       "9876091     9876091           NaN       en   \n",
       "9876092     9876092           NaN       en   \n",
       "9876093     9876093           NaN       en   \n",
       "\n",
       "                                                      text    neg    pos  \\\n",
       "3991802  So just like every crazy fucking thing spewing...  0.108  0.125   \n",
       "3991784  RT @DrJenGunter: Because HRC has been slandere...  0.000  0.136   \n",
       "3991779  RT @JoeMyGod: Police shot and killed on duty d...  0.184  0.000   \n",
       "3991755  RT @DoveCameron: Please look into this electio...  0.000  0.197   \n",
       "3991806  RT @Italians4Trump: LA Times/USC NATIONAL POLL...  0.000  0.000   \n",
       "3991757  RT @PFTCommenter: Tim Kaine mails in the warra...  0.000  0.000   \n",
       "3991759  RT @CounterJihadUS: Will @timkaine outline his...  0.000  0.130   \n",
       "3991808  RT @EGBesPais: @JuankMorasan @solbuendia @Joan...  0.285  0.000   \n",
       "3991749  RT @DonaldJTrumpJr: Wow so young and so articu...  0.000  0.276   \n",
       "3991820  RT @DiamondandSilk: The DNC speeches have been...  0.136  0.000   \n",
       "3991777  RT @msnlatino: Barack Obama pasa el mando del ...  0.000  0.000   \n",
       "3991765  Columnas políticas del 28/07: Osorio Chong, Ti...  0.000  0.124   \n",
       "3991783  @ABC7NY @POTUS this should be a very interesti...  0.197  0.141   \n",
       "3991789  28/07/2016: Cinco noticias para empezar el día...  0.000  0.000   \n",
       "3991761  RT @GroverNorquist: “Everyman” Tim Kaine Tried...  0.000  0.000   \n",
       "3991754  We need to talk about the child rape lawsuit f...  0.355  0.000   \n",
       "3991758  RT @HahnAmerica: In the words of @LindseyGraha...  0.000  0.000   \n",
       "3991810              Unbelievable. https://t.co/LnhGnxBjd3  0.000  0.643   \n",
       "3991773  RT @nxthompson: Kaine: &quot;Somos Americanos todos...  0.421  0.000   \n",
       "3991782  RT @javiparada: “No abucheen, ¡voten!”, el pod...  0.000  0.143   \n",
       "3991762  RT @DonaldJTrumpJr: Ironic coming from the guy...  0.351  0.000   \n",
       "3991792  @srkninci @solhaberportali Enes Kanter de clin...  0.000  0.000   \n",
       "3991764  RT @temomontas: Michael Bloomberg desmonta el ...  0.000  0.000   \n",
       "3991751  I&apos;ll at least say this about the election seas...  0.000  0.128   \n",
       "3991788  RT @wootBre: Kaine: you think I should do my t...  0.207  0.197   \n",
       "3991804                 @CHAL90N74 https://t.co/1LHv0GHIko  0.000  0.000   \n",
       "3991775  Hillary Clinton Gets Called Out By Shailene Wo...  0.000  0.116   \n",
       "3991801  RT V_of_Europe: German Leaders Demand Counter ...  0.415  0.000   \n",
       "3991795  RT @4counting: Devastating. Hillary Clinton is...  0.223  0.000   \n",
       "3991778  RT @BBCEngland: Hidden payments to Tory MP&apos;s e...  0.000  0.000   \n",
       "...                                                    ...    ...    ...   \n",
       "9876064                                                 --  0.000  0.000   \n",
       "9876065                                                 --  0.000  0.000   \n",
       "9876066                                                 --  0.000  0.000   \n",
       "9876067                                                 --  0.000  0.000   \n",
       "9876068                                                 --  0.000  0.000   \n",
       "9876069                                                 --  0.000  0.000   \n",
       "9876070                                                 --  0.000  0.000   \n",
       "9876071                                                 --  0.000  0.000   \n",
       "9876072                                                 --  0.000  0.000   \n",
       "9876073                                                 --  0.000  0.000   \n",
       "9876074                                                 --  0.000  0.000   \n",
       "9876075                                                 --  0.000  0.000   \n",
       "9876076                                                 --  0.000  0.000   \n",
       "9876077                                                 --  0.000  0.000   \n",
       "9876078                                                 --  0.000  0.000   \n",
       "9876079                                                 --  0.000  0.000   \n",
       "9876080                                                 --  0.000  0.000   \n",
       "9876081                                                 --  0.000  0.000   \n",
       "9876082                                                 --  0.000  0.000   \n",
       "9876083                                                 --  0.000  0.000   \n",
       "9876084                                                 --  0.000  0.000   \n",
       "9876085                                                 --  0.000  0.000   \n",
       "9876086                                                 --  0.000  0.000   \n",
       "9876087                                                 --  0.000  0.000   \n",
       "9876088                                                 --  0.000  0.000   \n",
       "9876089                                                 --  0.000  0.000   \n",
       "9876090                                                 --  0.000  0.000   \n",
       "9876091                                                 --  0.000  0.000   \n",
       "9876092                                                 --  0.000  0.000   \n",
       "9876093                                                 --  0.000  0.000   \n",
       "\n",
       "           neu  compound Negative Positive  \n",
       "3991802  0.767    0.0972    False    False  \n",
       "3991784  0.864    0.5106    False     True  \n",
       "3991779  0.816   -0.6705     True    False  \n",
       "3991755  0.803    0.6597    False     True  \n",
       "3991806  1.000    0.0000    False    False  \n",
       "3991757  1.000    0.0000    False    False  \n",
       "3991759  0.870    0.4019    False     True  \n",
       "3991808  0.715   -0.7772     True    False  \n",
       "3991749  0.724    0.7574    False     True  \n",
       "3991820  0.864   -0.5096     True    False  \n",
       "3991777  1.000    0.0000    False    False  \n",
       "3991765  0.876    0.3400    False     True  \n",
       "3991783  0.662   -0.2903     True    False  \n",
       "3991789  1.000    0.0000    False    False  \n",
       "3991761  1.000    0.0000    False    False  \n",
       "3991754  0.645   -0.7650     True    False  \n",
       "3991758  1.000    0.0000    False    False  \n",
       "3991810  0.357    0.2023    False     True  \n",
       "3991773  0.579   -0.8402     True    False  \n",
       "3991782  0.857    0.4574    False     True  \n",
       "3991762  0.649   -0.7964     True    False  \n",
       "3991792  1.000    0.0000    False    False  \n",
       "3991764  1.000    0.0000    False    False  \n",
       "3991751  0.872    0.2960    False     True  \n",
       "3991788  0.596   -0.0772    False    False  \n",
       "3991804  1.000    0.0000    False    False  \n",
       "3991775  0.884    0.2732    False     True  \n",
       "3991801  0.585   -0.7783     True    False  \n",
       "3991795  0.777   -0.6486     True    False  \n",
       "3991778  1.000    0.0000    False    False  \n",
       "...        ...       ...      ...      ...  \n",
       "9876064  1.000    0.0000    False    False  \n",
       "9876065  1.000    0.0000    False    False  \n",
       "9876066  1.000    0.0000    False    False  \n",
       "9876067  1.000    0.0000    False    False  \n",
       "9876068  1.000    0.0000    False    False  \n",
       "9876069  1.000    0.0000    False    False  \n",
       "9876070  1.000    0.0000    False    False  \n",
       "9876071  1.000    0.0000    False    False  \n",
       "9876072  1.000    0.0000    False    False  \n",
       "9876073  1.000    0.0000    False    False  \n",
       "9876074  1.000    0.0000    False    False  \n",
       "9876075  1.000    0.0000    False    False  \n",
       "9876076  1.000    0.0000    False    False  \n",
       "9876077  1.000    0.0000    False    False  \n",
       "9876078  1.000    0.0000    False    False  \n",
       "9876079  1.000    0.0000    False    False  \n",
       "9876080  1.000    0.0000    False    False  \n",
       "9876081  1.000    0.0000    False    False  \n",
       "9876082  1.000    0.0000    False    False  \n",
       "9876083  1.000    0.0000    False    False  \n",
       "9876084  1.000    0.0000    False    False  \n",
       "9876085  1.000    0.0000    False    False  \n",
       "9876086  1.000    0.0000    False    False  \n",
       "9876087  1.000    0.0000    False    False  \n",
       "9876088  1.000    0.0000    False    False  \n",
       "9876089  1.000    0.0000    False    False  \n",
       "9876090  1.000    0.0000    False    False  \n",
       "9876091  1.000    0.0000    False    False  \n",
       "9876092  1.000    0.0000    False    False  \n",
       "9876093  1.000    0.0000    False    False  \n",
       "\n",
       "[14467438 rows x 10 columns]\n",
       "</div>"
      ]
     },
     "metadata": {},
     "output_type": "display_data"
    }
   ],
   "source": [
    "dfLocation.sort_values(by=['id'])\n",
    "dfSentiment.sort_values(by=['id'])"
   ]
  },
  {
   "cell_type": "code",
   "execution_count": 21,
   "metadata": {},
   "outputs": [],
   "source": [
    "dfSentiment.sort_values(by=['id'])\n",
    "dfLocation.sort_values(by=['id'])"
   ]
  },
  {
   "cell_type": "code",
   "execution_count": 22,
   "metadata": {},
   "outputs": [
    {
     "data": {
      "text/html": [
       "<style scoped>\n",
       "  .ansiout {\n",
       "    display: block;\n",
       "    unicode-bidi: embed;\n",
       "    white-space: pre-wrap;\n",
       "    word-wrap: break-word;\n",
       "    word-break: break-all;\n",
       "    font-family: \"Source Code Pro\", \"Menlo\", monospace;;\n",
       "    font-size: 13px;\n",
       "    color: #555;\n",
       "    margin-left: 4px;\n",
       "    line-height: 19px;\n",
       "  }\n",
       "</style>\n",
       "java.lang.IllegalStateException: Got invalid response: 502\n",
       "\tat com.databricks.rpc.JettyClient.getResponseFromExchange(JettyClient.scala:333)\n",
       "\tat com.databricks.rpc.JettyClient.processResponse0(JettyClient.scala:351)\n",
       "\tat com.databricks.rpc.JettyClient.$anonfun$processResponse$1(JettyClient.scala:340)\n",
       "\tat com.databricks.logging.UsageLogging.$anonfun$withAttributionContext$1(UsageLogging.scala:235)\n",
       "\tat scala.util.DynamicVariable.withValue(DynamicVariable.scala:58)\n",
       "\tat com.databricks.logging.UsageLogging.withAttributionContext(UsageLogging.scala:230)\n",
       "\tat com.databricks.logging.UsageLogging.withAttributionContext$(UsageLogging.scala:227)\n",
       "\tat com.databricks.rpc.JettyClient.withAttributionContext(JettyClient.scala:32)\n",
       "\tat com.databricks.rpc.JettyClient.com$databricks$rpc$JettyClient$$processResponse(JettyClient.scala:339)\n",
       "\tat com.databricks.rpc.JettyClient$$anon$1.processResponse(JettyClient.scala:83)\n",
       "\tat com.databricks.rpc.AsynchronousExchange.onResponseComplete(JettyClient.scala:645)\n",
       "\tat org.eclipse.jetty8.client.HttpExchange$Listener.onResponseComplete(HttpExchange.java:1268)\n",
       "\tat org.eclipse.jetty8.client.HttpExchange.setStatus(HttpExchange.java:326)\n",
       "\tat org.eclipse.jetty8.client.AbstractHttpConnection$Handler.messageComplete(AbstractHttpConnection.java:340)\n",
       "\tat org.eclipse.jetty8.http.HttpParser.parseNext(HttpParser.java:874)\n",
       "\tat org.eclipse.jetty8.http.HttpParser.parseAvailable(HttpParser.java:244)\n",
       "\tat org.eclipse.jetty8.client.AsyncHttpConnection.handle(AsyncHttpConnection.java:135)\n",
       "\tat org.eclipse.jetty8.io.nio.SslConnection.handle(SslConnection.java:196)\n",
       "\tat org.eclipse.jetty8.io.nio.SelectChannelEndPoint.handle(SelectChannelEndPoint.java:696)\n",
       "\tat org.eclipse.jetty8.io.nio.SelectChannelEndPoint$1.run(SelectChannelEndPoint.java:53)\n",
       "\tat org.eclipse.jetty8.util.thread.QueuedThreadPool.runJob(QueuedThreadPool.java:608)\n",
       "\tat org.eclipse.jetty8.util.thread.QueuedThreadPool$3.run(QueuedThreadPool.java:543)\n",
       "\tat java.lang.Thread.run(Thread.java:748)"
      ]
     },
     "metadata": {},
     "output_type": "display_data"
    }
   ],
   "source": [
    "#df.head() gets sample\n",
    "#merge location and sentiment on 'id', then save to datalake after csv conversion\n",
    "mergeDF = pd.merge(dfLocation,\n",
    "                 dfSentiment[['id','text','neg','pos','neu','compound','Negative','Positive']],\n",
    "                 on='id')\n",
    "twitterCSV = mergeDF.to_csv()\n",
    "with adl.open('/twitterData.csv', 'wb') as f:\n",
    "    f.write(str.encode(twitterCSV))\n",
    "    f.close()"
   ]
  },
  {
   "cell_type": "code",
   "execution_count": 23,
   "metadata": {},
   "outputs": [],
   "source": []
  },
  {
   "cell_type": "code",
   "execution_count": 24,
   "metadata": {},
   "outputs": [
    {
     "data": {
      "text/html": [
       "<style scoped>\n",
       "  .ansiout {\n",
       "    display: block;\n",
       "    unicode-bidi: embed;\n",
       "    white-space: pre-wrap;\n",
       "    word-wrap: break-word;\n",
       "    word-break: break-all;\n",
       "    font-family: \"Source Code Pro\", \"Menlo\", monospace;;\n",
       "    font-size: 13px;\n",
       "    color: #555;\n",
       "    margin-left: 4px;\n",
       "    line-height: 19px;\n",
       "  }\n",
       "</style>\n",
       "<div class=\"ansiout\"><span class=\"ansired\">Out[</span><span class=\"ansired\">28</span><span class=\"ansired\">]: </span>\n",
       "0           GOP Leaders Don&apos;t Ditch Trump Even After Conde...\n",
       "1           Saudi prince takes on Trump on Twitter: &quot;I bai...\n",
       "2           RT @TheDemocrats: She is a Gold Star mother, s...\n",
       "3           RT @guardian: Donald Trump has gone too far in...\n",
       "4           👁 Reading: “And Then There Was Trump - The New...\n",
       "5           @realDonaldTrump @GOP And another lie from Fra...\n",
       "6           RT @ABC: Clinton slams Trump for his remarks a...\n",
       "7           @BluCapo keep deflecting.  That&apos;s all you clow...\n",
       "8           RT @AmyMek: EXPOSED! Khan Is A #MuslimBrotherh...\n",
       "9           RT @washingtonpost: Ghazala Khan: Trump critic...\n",
       "10          How the ‘Stupid Party’ Created Donald Trump ht...\n",
       "11          @guardian Clinton can invite many more on stag...\n",
       "12          RT @ABC: Clinton slams Trump for his remarks a...\n",
       "13          https://t.co/ocCnvQXRvJ Will Khizr Khan be Don...\n",
       "14          RT @RyanLizza: &quot;Once unmentionable, questions ...\n",
       "15          RT @petermaer: A sure FIRE way to win votes in...\n",
       "16          RT @ananavarro: Ghazala Khan in her own words....\n",
       "17          RT @LindaSuhler: My government failed us &amp;amp;...\n",
       "18          RT @EsotericCD: Get a load of this extremist M...\n",
       "19          Not voting trump, BUT he&apos;s not accessory to 4 ...\n",
       "20          RT @bbcmundo: Mucho antes de Hillary Clinton h...\n",
       "21          RT @politicsblahbla: A number that sums up thi...\n",
       "22          RT @NasLink82: Donald Trump’s slander of Capta...\n",
       "23          Donald Trump Ducks Tax Disclosure https://t.co...\n",
       "24          RT @BarbieKeleigh: This is so wonderfully well...\n",
       "25          RT @DrJaninaRamirez: Fabulous fact. @jk_rowlin...\n",
       "26          RT @Azi: today&apos;s tabs: Trump and Trump. #media...\n",
       "27          @AmyBowie @hebehu @NikkyD77 Post pence my firs...\n",
       "28          Editorial | Trump Campaign: Outrage in Waukesh...\n",
       "29          RT @HillaryClinton: Do all the good we can, in...\n",
       "                                  ...                        \n",
       "14467408    @HillaryClinton stood her ground..Well prepare...\n",
       "14467409        @realDonaldTrump México, México and México...\n",
       "14467410    RT @HillaryClinton: RT this if you&apos;re proud to...\n",
       "14467411    RT @Variety: After Donald Trump claimed he has...\n",
       "14467412    RT @SethMacFarlane: I&apos;ve never in my lifetime ...\n",
       "14467413    @HillaryClinton = 1, @realDonaldTrump = -1 plu...\n",
       "14467414    Trump on whether the US should go thru with th...\n",
       "14467415    RT @realDonaldTrump: The concept of global war...\n",
       "14467416    RT @pattonoswalt: SNIIIIFFFFFFFFFFF. SNIFF SNI...\n",
       "14467417    RT @HillaryClinton: RT this if you&apos;re proud to...\n",
       "14467418    RT @TeamTrump: America wants justice. @realDon...\n",
       "14467419    RT @timkaine: Couldn&apos;t be prouder of Hillary t...\n",
       "14467420    RT @HillaryClinton: RT this if you&apos;re proud to...\n",
       "14467421    RT @HillaryClinton: A man who can be provoked ...\n",
       "14467422    RT @DanScavino: Jesse Jackson on @realDonaldTr...\n",
       "14467423    RT @HillaryClinton: RT this if you&apos;re proud to...\n",
       "14467424    RT @HillaryClinton: RT this if you&apos;re proud to...\n",
       "14467425                          Great debate, Mrs. Clinton!\n",
       "14467426    RT @NathanZed: &quot;I never said Global Warming is...\n",
       "14467427    RT @realDonaldTrump: Russia has more warheads ...\n",
       "14467428    @realDonaldTrump wins hands down against @Hill...\n",
       "14467429    RT @Cronistacom: EN VIVO: Hillary y Trump, en ...\n",
       "14467430    RT @AlecJRoss: If Hillary Clinton were the one...\n",
       "14467431    RT @letat_lechat: #SheWon despite Holt letting...\n",
       "14467432    RT @HillaryClinton: RT this if you&apos;re proud to...\n",
       "14467433    RT @huntigula: Trump before the debate https:/...\n",
       "14467434    RT @jonnysun: NBC: the pugilistic side of trum...\n",
       "14467435    RT @HillaryClinton: A man who can be provoked ...\n",
       "14467436    RT @HillaryClinton: RT this if you&apos;re proud to...\n",
       "14467437    RT @KevinMKruse: Again, Trump was sued for rac...\n",
       "Name: text, dtype: object\n",
       "</div>"
      ]
     },
     "metadata": {},
     "output_type": "display_data"
    }
   ],
   "source": [
    "#df['text'] = df['text'].str.replace('\"','\\\"')\n",
    "#df['text']"
   ]
  },
  {
   "cell_type": "code",
   "execution_count": 25,
   "metadata": {},
   "outputs": [
    {
     "data": {
      "text/html": [
       "<style scoped>\n",
       "  .ansiout {\n",
       "    display: block;\n",
       "    unicode-bidi: embed;\n",
       "    white-space: pre-wrap;\n",
       "    word-wrap: break-word;\n",
       "    word-break: break-all;\n",
       "    font-family: \"Source Code Pro\", \"Menlo\", monospace;;\n",
       "    font-size: 13px;\n",
       "    color: #555;\n",
       "    margin-left: 4px;\n",
       "    line-height: 19px;\n",
       "  }\n",
       "</style>\n",
       "<div class=\"ansiout\"></div>"
      ]
     },
     "metadata": {},
     "output_type": "display_data"
    }
   ],
   "source": [
    "#format to remove ' for Azure api\n",
    "\n",
    "#jsonList = ('[' + ', '.join(jsonList) + ']')"
   ]
  },
  {
   "cell_type": "code",
   "execution_count": 26,
   "metadata": {},
   "outputs": [
    {
     "data": {
      "text/html": [
       "<style scoped>\n",
       "  .ansiout {\n",
       "    display: block;\n",
       "    unicode-bidi: embed;\n",
       "    white-space: pre-wrap;\n",
       "    word-wrap: break-word;\n",
       "    word-break: break-all;\n",
       "    font-family: \"Source Code Pro\", \"Menlo\", monospace;;\n",
       "    font-size: 13px;\n",
       "    color: #555;\n",
       "    margin-left: 4px;\n",
       "    line-height: 19px;\n",
       "  }\n",
       "</style>\n",
       "<div class=\"ansiout\"></div>"
      ]
     },
     "metadata": {},
     "output_type": "display_data"
    }
   ],
   "source": [
    "#DON'T NEED:Create list ofindexes for each new tweet object in list\n",
    "\n",
    "#index = []\n",
    "#for i, j in enumerate(jsonList):\n",
    "#    if j == \"\\\"\":\n",
    "#      if jsonList[i+1] == \"}\":\n",
    "#        index.append(i)\n",
    "        \n"
   ]
  },
  {
   "cell_type": "code",
   "execution_count": 27,
   "metadata": {},
   "outputs": [
    {
     "data": {
      "text/html": [
       "<style scoped>\n",
       "  .ansiout {\n",
       "    display: block;\n",
       "    unicode-bidi: embed;\n",
       "    white-space: pre-wrap;\n",
       "    word-wrap: break-word;\n",
       "    word-break: break-all;\n",
       "    font-family: \"Source Code Pro\", \"Menlo\", monospace;;\n",
       "    font-size: 13px;\n",
       "    color: #555;\n",
       "    margin-left: 4px;\n",
       "    line-height: 19px;\n",
       "  }\n",
       "</style>\n",
       "<div class=\"ansiout\"><span class=\"ansired\">---------------------------------------------------------------------------</span>\n",
       "<span class=\"ansired\">NameError</span>                                 Traceback (most recent call last)\n",
       "<span class=\"ansigreen\">&lt;command-1796455257678878&gt;</span> in <span class=\"ansicyan\">&lt;module&gt;</span><span class=\"ansiblue\">()</span>\n",
       "<span class=\"ansigreen\">      1</span> <span class=\"ansired\">#DON&apos;T NEED: Create an ADLS File System Client. The store_name is the name of your ADLS account</span><span class=\"ansiyellow\"></span><span class=\"ansiyellow\"></span>\n",
       "<span class=\"ansigreen\">      2</span> <span class=\"ansiyellow\"></span>\n",
       "<span class=\"ansigreen\">----&gt; 3</span><span class=\"ansiyellow\"> </span>adl <span class=\"ansiyellow\">=</span> core<span class=\"ansiyellow\">.</span>AzureDLFileSystem<span class=\"ansiyellow\">(</span>token<span class=\"ansiyellow\">,</span> store_name<span class=\"ansiyellow\">=</span><span class=\"ansiblue\">&apos;electiondata&apos;</span><span class=\"ansiyellow\">)</span><span class=\"ansiyellow\"></span>\n",
       "<span class=\"ansigreen\">      4</span> <span class=\"ansired\">#retrieve index file from Datalake and save it as a dataframe</span><span class=\"ansiyellow\"></span><span class=\"ansiyellow\"></span>\n",
       "<span class=\"ansigreen\">      5</span> <span class=\"ansiyellow\"></span>\n",
       "\n",
       "<span class=\"ansired\">NameError</span>: name &apos;core&apos; is not defined</div>"
      ]
     },
     "metadata": {},
     "output_type": "display_data"
    }
   ],
   "source": [
    "#DON'T NEED: Create an ADLS File System Client. The store_name is the name of your ADLS account\n",
    "\n",
    "#adl = core.AzureDLFileSystem(token, store_name='electiondata')\n",
    "#retrieve index file from Datalake and save it as a dataframe\n",
    "\n",
    "#with adl.open('index.csv', 'rb') as f:\n",
    "#    dfIndex = pd.read_csv(f) "
   ]
  },
  {
   "cell_type": "code",
   "execution_count": 28,
   "metadata": {},
   "outputs": [
    {
     "data": {
      "text/html": [
       "<style scoped>\n",
       "  .ansiout {\n",
       "    display: block;\n",
       "    unicode-bidi: embed;\n",
       "    white-space: pre-wrap;\n",
       "    word-wrap: break-word;\n",
       "    word-break: break-all;\n",
       "    font-family: \"Source Code Pro\", \"Menlo\", monospace;;\n",
       "    font-size: 13px;\n",
       "    color: #555;\n",
       "    margin-left: 4px;\n",
       "    line-height: 19px;\n",
       "  }\n",
       "</style>\n",
       "<div class=\"ansiout\">To sign in, use a web browser to open the page https://microsoft.com/devicelogin and enter the code A498WWFPP to authenticate.\n",
       "</div>"
      ]
     },
     "metadata": {},
     "output_type": "display_data"
    }
   ],
   "source": [
    "#DON'T NEED: Connect datalake store, authenticate this application to access\n",
    "\n",
    "#from azure.datalake.store import core, lib, multithread\n",
    "#token = lib.auth()"
   ]
  },
  {
   "cell_type": "code",
   "execution_count": 29,
   "metadata": {},
   "outputs": [
    {
     "data": {
      "text/html": [
       "<style scoped>\n",
       "  .ansiout {\n",
       "    display: block;\n",
       "    unicode-bidi: embed;\n",
       "    white-space: pre-wrap;\n",
       "    word-wrap: break-word;\n",
       "    word-break: break-all;\n",
       "    font-family: \"Source Code Pro\", \"Menlo\", monospace;;\n",
       "    font-size: 13px;\n",
       "    color: #555;\n",
       "    margin-left: 4px;\n",
       "    line-height: 19px;\n",
       "  }\n",
       "</style>\n",
       "<div class=\"ansiout\"></div>"
      ]
     },
     "metadata": {},
     "output_type": "display_data"
    }
   ],
   "source": [
    "#DON'T NEED: Save list of indexes if I need it\n",
    "\n",
    "#dfIndex = pd.DataFrame({'index':index})\n",
    "#df_str = dfIndex.to_csv()\n",
    "#with adl.open('/index.csv', 'wb') as f:\n",
    "#    f.write(str.encode(df_str))\n",
    "#    f.close()\n"
   ]
  },
  {
   "cell_type": "code",
   "execution_count": 30,
   "metadata": {},
   "outputs": [
    {
     "data": {
      "text/html": [
       "<style scoped>\n",
       "  .ansiout {\n",
       "    display: block;\n",
       "    unicode-bidi: embed;\n",
       "    white-space: pre-wrap;\n",
       "    word-wrap: break-word;\n",
       "    word-break: break-all;\n",
       "    font-family: \"Source Code Pro\", \"Menlo\", monospace;;\n",
       "    font-size: 13px;\n",
       "    color: #555;\n",
       "    margin-left: 4px;\n",
       "    line-height: 19px;\n",
       "  }\n",
       "</style>\n",
       "<div class=\"ansiout\"></div>"
      ]
     },
     "metadata": {},
     "output_type": "display_data"
    }
   ],
   "source": [
    "#DON'T NEED WHEN USING NLTK because can pass list of text\n",
    "#assign json object list to dictionary and \n",
    "#requires 128gb memory for driver; workers are just used for higher speed\n",
    "#takes about 9 min\n",
    "\n",
    "#dic = {'documents' : \n",
    "#       jsonList\n",
    "#}\n",
    "\n",
    "#DON'T Need as long as correct \" issues\n",
    "#turn list into string literal for proper evaluation by api, makes it so each charecter in the documents jsonlist value is counted as a new object, each character is next item on list\n",
    "#I believe the reason for doing this was to correct errors from \", should work to change all \" to \\\" from jsonList\n",
    "#might not need if using nltk instead of azure\n",
    "#dic['documents'] = ast.literal_eval(dic['documents'])"
   ]
  },
  {
   "cell_type": "code",
   "execution_count": 31,
   "metadata": {},
   "outputs": [
    {
     "data": {
      "text/html": [
       "<style scoped>\n",
       "  .ansiout {\n",
       "    display: block;\n",
       "    unicode-bidi: embed;\n",
       "    white-space: pre-wrap;\n",
       "    word-wrap: break-word;\n",
       "    word-break: break-all;\n",
       "    font-family: \"Source Code Pro\", \"Menlo\", monospace;;\n",
       "    font-size: 13px;\n",
       "    color: #555;\n",
       "    margin-left: 4px;\n",
       "    line-height: 19px;\n",
       "  }\n",
       "</style>\n",
       "<div class=\"ansiout\"></div>"
      ]
     },
     "metadata": {},
     "output_type": "display_data"
    }
   ],
   "source": [
    "tempdic = {\n",
    "       \n",
    "}"
   ]
  },
  {
   "cell_type": "code",
   "execution_count": 32,
   "metadata": {},
   "outputs": [
    {
     "data": {
      "text/html": [
       "<style scoped>\n",
       "  .ansiout {\n",
       "    display: block;\n",
       "    unicode-bidi: embed;\n",
       "    white-space: pre-wrap;\n",
       "    word-wrap: break-word;\n",
       "    word-break: break-all;\n",
       "    font-family: \"Source Code Pro\", \"Menlo\", monospace;;\n",
       "    font-size: 13px;\n",
       "    color: #555;\n",
       "    margin-left: 4px;\n",
       "    line-height: 19px;\n",
       "  }\n",
       "</style>\n",
       "<div class=\"ansiout\"></div>"
      ]
     },
     "metadata": {},
     "output_type": "display_data"
    }
   ],
   "source": [
    "#THIS DOESN'T MATTER ANYMORE\n",
    "#believe that to get characters for 500 objects will have to use indexes +2 in the [:#]\n",
    "#retrieves 500th index value to get the character equivalent of 500 tweets\n",
    "#test 86201 + 2 for first 500 next 500 would be (index 499:999 or char [86201 + 4:172220 + 2] I believe\n",
    "#test first 10 as [1:1785 + 2], then test 2nd 10 as [1785 + 4: 3549 + 2]"
   ]
  },
  {
   "cell_type": "code",
   "execution_count": 33,
   "metadata": {},
   "outputs": [
    {
     "data": {
      "text/html": [
       "<style scoped>\n",
       "  .ansiout {\n",
       "    display: block;\n",
       "    unicode-bidi: embed;\n",
       "    white-space: pre-wrap;\n",
       "    word-wrap: break-word;\n",
       "    word-break: break-all;\n",
       "    font-family: \"Source Code Pro\", \"Menlo\", monospace;;\n",
       "    font-size: 13px;\n",
       "    color: #555;\n",
       "    margin-left: 4px;\n",
       "    line-height: 19px;\n",
       "  }\n",
       "</style>\n",
       "<div class=\"ansiout\"></div>"
      ]
     },
     "metadata": {},
     "output_type": "display_data"
    }
   ],
   "source": [
    "#DOES NOT MATTER IF CAN PASS UNLIMITED BATCH SIZE OF TWEETS WITH NLTK\n",
    "#number for range of tweets\n",
    "\n",
    "#begTweet=1\n",
    "#endTweet=500\n",
    "\n",
    "#length = jsonDF.count() or num of tweets\n",
    "#length = 14467438\n"
   ]
  },
  {
   "cell_type": "code",
   "execution_count": 34,
   "metadata": {},
   "outputs": [
    {
     "data": {
      "text/html": [
       "<style scoped>\n",
       "  .ansiout {\n",
       "    display: block;\n",
       "    unicode-bidi: embed;\n",
       "    white-space: pre-wrap;\n",
       "    word-wrap: break-word;\n",
       "    word-break: break-all;\n",
       "    font-family: \"Source Code Pro\", \"Menlo\", monospace;;\n",
       "    font-size: 13px;\n",
       "    color: #555;\n",
       "    margin-left: 4px;\n",
       "    line-height: 19px;\n",
       "  }\n",
       "</style>\n",
       "<div class=\"ansiout\"></div>"
      ]
     },
     "metadata": {},
     "output_type": "display_data"
    }
   ],
   "source": [
    "#DON'T NEED WITH NLTK\n",
    "#get tweets from range and assign to tempdic\n",
    "tempdic['documents']= dic['documents'][begTweet:endTweet]\n",
    "default = 'documents'\n",
    "sentiments = {'documents': []\n",
    "}"
   ]
  },
  {
   "cell_type": "code",
   "execution_count": 35,
   "metadata": {},
   "outputs": [
    {
     "data": {
      "text/html": [
       "<style scoped>\n",
       "  .ansiout {\n",
       "    display: block;\n",
       "    unicode-bidi: embed;\n",
       "    white-space: pre-wrap;\n",
       "    word-wrap: break-word;\n",
       "    word-break: break-all;\n",
       "    font-family: \"Source Code Pro\", \"Menlo\", monospace;;\n",
       "    font-size: 13px;\n",
       "    color: #555;\n",
       "    margin-left: 4px;\n",
       "    line-height: 19px;\n",
       "  }\n",
       "</style>\n",
       "<div class=\"ansiout\"></div>"
      ]
     },
     "metadata": {},
     "output_type": "display_data"
    }
   ],
   "source": [
    "#DOES NOT MATTER IF USING NLTK instead of Azure sentiment\n",
    "#connect to azure twitter sentiment api\n",
    "#headers   = {\"Ocp-Apim-Subscription-Key\": subscription_key}"
   ]
  },
  {
   "cell_type": "code",
   "execution_count": 36,
   "metadata": {},
   "outputs": [
    {
     "data": {
      "text/html": [
       "<style scoped>\n",
       "  .ansiout {\n",
       "    display: block;\n",
       "    unicode-bidi: embed;\n",
       "    white-space: pre-wrap;\n",
       "    word-wrap: break-word;\n",
       "    word-break: break-all;\n",
       "    font-family: \"Source Code Pro\", \"Menlo\", monospace;;\n",
       "    font-size: 13px;\n",
       "    color: #555;\n",
       "    margin-left: 4px;\n",
       "    line-height: 19px;\n",
       "  }\n",
       "</style>\n",
       "<div class=\"ansiout\"><span class=\"ansired\">---------------------------------------------------------------------------</span>\n",
       "<span class=\"ansired\">KeyError</span>                                  Traceback (most recent call last)\n",
       "<span class=\"ansigreen\">&lt;command-2058464788201889&gt;</span> in <span class=\"ansicyan\">&lt;module&gt;</span><span class=\"ansiblue\">()</span>\n",
       "<span class=\"ansigreen\">      9</span>   <span class=\"ansired\">#length=len(response[&apos;documents&apos;])</span><span class=\"ansiyellow\"></span><span class=\"ansiyellow\"></span>\n",
       "<span class=\"ansigreen\">     10</span>   numTweets<span class=\"ansiyellow\">=</span><span class=\"ansicyan\">500</span><span class=\"ansiyellow\"></span>\n",
       "<span class=\"ansigreen\">---&gt; 11</span><span class=\"ansiyellow\">   </span>sentiments<span class=\"ansiyellow\">[</span><span class=\"ansiblue\">&apos;documents&apos;</span><span class=\"ansiyellow\">]</span><span class=\"ansiyellow\">.</span>extend<span class=\"ansiyellow\">(</span>response<span class=\"ansiyellow\">.</span>json<span class=\"ansiyellow\">(</span><span class=\"ansiyellow\">)</span><span class=\"ansiyellow\">[</span><span class=\"ansiblue\">&apos;documents&apos;</span><span class=\"ansiyellow\">]</span><span class=\"ansiyellow\">[</span><span class=\"ansiyellow\">:</span>numTweets<span class=\"ansiyellow\">]</span><span class=\"ansiyellow\">)</span><span class=\"ansiyellow\"></span>\n",
       "<span class=\"ansigreen\">     12</span>   begTweet<span class=\"ansiyellow\">=</span>begTweet<span class=\"ansiyellow\">+</span><span class=\"ansicyan\">500</span><span class=\"ansiyellow\"></span>\n",
       "<span class=\"ansigreen\">     13</span>   endTweet<span class=\"ansiyellow\">=</span>endTweet<span class=\"ansiyellow\">+</span><span class=\"ansicyan\">500</span><span class=\"ansiyellow\"></span>\n",
       "\n",
       "<span class=\"ansired\">KeyError</span>: &apos;documents&apos;</div>"
      ]
     },
     "metadata": {},
     "output_type": "display_data"
    }
   ],
   "source": [
    "#DOES NOT MATTER IF USING NLTK instead of Azure sentiment\n",
    "#While still tweets left\n",
    "\n",
    "#while endTweet < length:\n",
    "  #assign temperory dictionary 500 tweet range at a time\n",
    "  #tempdic['documents']= dic['documents'][begTweet:endTweet]\n",
    "  #get the response dict from the sentiment api\n",
    "  #response  = requests.post(sentiment_api_url, headers=headers, json=tempdic)\n",
    "  #append the sentiment to the sentiments dictionary for later storage\n",
    "  #length=len(response['documents'])\n",
    "  #numTweets=500\n",
    "  #sentiments['documents'].extend(response.json()['documents'][:numTweets])\n",
    "  #begTweet=begTweet+500\n",
    "  #endTweet=endTweet+500"
   ]
  },
  {
   "cell_type": "code",
   "execution_count": 37,
   "metadata": {},
   "outputs": [],
   "source": [
    "#dfSentiment = pd.DataFrame(sentiments['documents'])"
   ]
  },
  {
   "cell_type": "code",
   "execution_count": 38,
   "metadata": {},
   "outputs": [],
   "source": [
    "#build loop to retrieve all sentiments\n",
    "#save sentiment to parquet\n",
    "#Combine sentiments and tweets into one dataframe\n",
    "#save result as parquet"
   ]
  },
  {
   "cell_type": "code",
   "execution_count": 39,
   "metadata": {},
   "outputs": [],
   "source": [
    "#testing for nltk sentiment api\n",
    "length = len(tweets['documents'])\n",
    "tweetText = []\n",
    "sentiments= []\n",
    "df = pd.DataFrame()\n",
    "df = df.fillna(0)"
   ]
  },
  {
   "cell_type": "code",
   "execution_count": 40,
   "metadata": {},
   "outputs": [],
   "source": [
    "#save read out to parquet\n",
    "fastparquet('sentiment.parq', dfSentiment)"
   ]
  },
  {
   "cell_type": "code",
   "execution_count": 41,
   "metadata": {},
   "outputs": [],
   "source": [
    "#read parquet sentiment file for adding original tweet files to\n",
    "dfSentiment = spark.read.parquet(\"sentiment.parq\")\n",
    "#Create jsonformatted df\n",
    "sentimentJSON = dfSentiment.toJSON()"
   ]
  }
 ],
 "metadata": {
  "kernelspec": {
   "display_name": "Python 3",
   "language": "python",
   "name": "python3"
  },
  "language_info": {
   "codemirror_mode": {
    "name": "ipython",
    "version": 3
   },
   "file_extension": ".py",
   "mimetype": "text/x-python",
   "name": "python",
   "nbconvert_exporter": "python",
   "pygments_lexer": "ipython3",
   "version": "3.6.4"
  },
  "name": "ElectionAnalysisPython",
  "notebookId": 4285584362609641
 },
 "nbformat": 4,
 "nbformat_minor": 1
}
